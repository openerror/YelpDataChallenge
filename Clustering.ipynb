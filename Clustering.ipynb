{
 "cells": [
  {
   "cell_type": "markdown",
   "metadata": {},
   "source": [
    "# Yelp Data Challenge - Clustering of Restaurants\n",
    "\n",
    "Clustering allows us to discover topics and themes among reviews. Also, they may reveal to us some interesting patterns of attributes/distributions across restaurants. For instance, can we divide restaurants that received perfect ratings into several subclasses (clusters)? What makes these restaurants so great? \n",
    "\n",
    "We will utilize K-means clustering, and tune `K` the number of clusters using the elbow method."
   ]
  },
  {
   "cell_type": "code",
   "execution_count": 1,
   "metadata": {
    "collapsed": true
   },
   "outputs": [],
   "source": [
    "import pandas as pd\n",
    "import numpy as np\n",
    "import matplotlib.pyplot as plt\n",
    "%matplotlib inline\n",
    "plt.style.use(\"ggplot\")"
   ]
  },
  {
   "cell_type": "code",
   "execution_count": 2,
   "metadata": {
    "collapsed": true
   },
   "outputs": [
    {
     "data": {
      "text/html": [
       "<div>\n",
       "<style scoped>\n",
       "    .dataframe tbody tr th:only-of-type {\n",
       "        vertical-align: middle;\n",
       "    }\n",
       "\n",
       "    .dataframe tbody tr th {\n",
       "        vertical-align: top;\n",
       "    }\n",
       "\n",
       "    .dataframe thead th {\n",
       "        text-align: right;\n",
       "    }\n",
       "</style>\n",
       "<table border=\"1\" class=\"dataframe\">\n",
       "  <thead>\n",
       "    <tr style=\"text-align: right;\">\n",
       "      <th></th>\n",
       "      <th>business_id</th>\n",
       "      <th>name</th>\n",
       "      <th>categories</th>\n",
       "      <th>avg_stars</th>\n",
       "      <th>attributes</th>\n",
       "      <th>cool</th>\n",
       "      <th>date</th>\n",
       "      <th>funny</th>\n",
       "      <th>review_id</th>\n",
       "      <th>stars</th>\n",
       "      <th>text</th>\n",
       "      <th>useful</th>\n",
       "      <th>user_id</th>\n",
       "    </tr>\n",
       "  </thead>\n",
       "  <tbody>\n",
       "    <tr>\n",
       "      <th>0</th>\n",
       "      <td>2kWrSFkIes_d2BMg4YrRtA</td>\n",
       "      <td>Pizza Hut</td>\n",
       "      <td>Restaurants, Pizza</td>\n",
       "      <td>2.5</td>\n",
       "      <td>{'Alcohol': 'none', 'Ambience': \"{'romantic': ...</td>\n",
       "      <td>0</td>\n",
       "      <td>2017-04-01</td>\n",
       "      <td>0</td>\n",
       "      <td>Spl0fx_X6bjPASU-zUJQUA</td>\n",
       "      <td>1</td>\n",
       "      <td>Ordered a pizza, the location is literally in ...</td>\n",
       "      <td>1</td>\n",
       "      <td>vZ-eQzpCOrSWfBfU5KUvIA</td>\n",
       "    </tr>\n",
       "    <tr>\n",
       "      <th>1</th>\n",
       "      <td>2kWrSFkIes_d2BMg4YrRtA</td>\n",
       "      <td>Pizza Hut</td>\n",
       "      <td>Restaurants, Pizza</td>\n",
       "      <td>2.5</td>\n",
       "      <td>{'Alcohol': 'none', 'Ambience': \"{'romantic': ...</td>\n",
       "      <td>0</td>\n",
       "      <td>2016-11-20</td>\n",
       "      <td>0</td>\n",
       "      <td>2UV-a8pXUdbK0fdurFwXfQ</td>\n",
       "      <td>5</td>\n",
       "      <td>Very busy place but they take good care of you...</td>\n",
       "      <td>0</td>\n",
       "      <td>nu6wU6PLbL9HPLZuqon0-A</td>\n",
       "    </tr>\n",
       "    <tr>\n",
       "      <th>2</th>\n",
       "      <td>2kWrSFkIes_d2BMg4YrRtA</td>\n",
       "      <td>Pizza Hut</td>\n",
       "      <td>Restaurants, Pizza</td>\n",
       "      <td>2.5</td>\n",
       "      <td>{'Alcohol': 'none', 'Ambience': \"{'romantic': ...</td>\n",
       "      <td>0</td>\n",
       "      <td>2018-03-27</td>\n",
       "      <td>0</td>\n",
       "      <td>vG5m3TzOf5F52jzO2D_19g</td>\n",
       "      <td>3</td>\n",
       "      <td>Stopped here to pick up an order of wings on m...</td>\n",
       "      <td>0</td>\n",
       "      <td>KEerqlFNhzl1I-yVK6mHVA</td>\n",
       "    </tr>\n",
       "  </tbody>\n",
       "</table>\n",
       "</div>"
      ],
      "text/plain": [
       "              business_id       name          categories  avg_stars  \\\n",
       "0  2kWrSFkIes_d2BMg4YrRtA  Pizza Hut  Restaurants, Pizza        2.5   \n",
       "1  2kWrSFkIes_d2BMg4YrRtA  Pizza Hut  Restaurants, Pizza        2.5   \n",
       "2  2kWrSFkIes_d2BMg4YrRtA  Pizza Hut  Restaurants, Pizza        2.5   \n",
       "\n",
       "                                          attributes  cool        date  funny  \\\n",
       "0  {'Alcohol': 'none', 'Ambience': \"{'romantic': ...     0  2017-04-01      0   \n",
       "1  {'Alcohol': 'none', 'Ambience': \"{'romantic': ...     0  2016-11-20      0   \n",
       "2  {'Alcohol': 'none', 'Ambience': \"{'romantic': ...     0  2018-03-27      0   \n",
       "\n",
       "                review_id  stars  \\\n",
       "0  Spl0fx_X6bjPASU-zUJQUA      1   \n",
       "1  2UV-a8pXUdbK0fdurFwXfQ      5   \n",
       "2  vG5m3TzOf5F52jzO2D_19g      3   \n",
       "\n",
       "                                                text  useful  \\\n",
       "0  Ordered a pizza, the location is literally in ...       1   \n",
       "1  Very busy place but they take good care of you...       0   \n",
       "2  Stopped here to pick up an order of wings on m...       0   \n",
       "\n",
       "                  user_id  \n",
       "0  vZ-eQzpCOrSWfBfU5KUvIA  \n",
       "1  nu6wU6PLbL9HPLZuqon0-A  \n",
       "2  KEerqlFNhzl1I-yVK6mHVA  "
      ]
     },
     "execution_count": 2,
     "metadata": {},
     "output_type": "execute_result"
    }
   ],
   "source": [
    "df = pd.read_csv('data/last_2_years_restaurant_reviews.csv')\n",
    "df.head(3)"
   ]
  },
  {
   "cell_type": "markdown",
   "metadata": {},
   "source": [
    "## 1. Cluster the review text data for all restaurants\n",
    "\n",
    "As a demonstration of technique, and as an attempt to discover themes trending among all reviewers"
   ]
  },
  {
   "cell_type": "markdown",
   "metadata": {},
   "source": [
    "### Define feature variables"
   ]
  },
  {
   "cell_type": "code",
   "execution_count": 3,
   "metadata": {
    "collapsed": true
   },
   "outputs": [],
   "source": [
    "# Take the review texts and save to variable named 'documents'\n",
    "# To be transformed into numerical vectors and clustered\n",
    "documents = df.text\n",
    "\n",
    "# Same target variable as in NLP.ipynb --- whether a review gives a 'perfect' rating (5)\n",
    "target = (df.stars == 5).astype('int')"
   ]
  },
  {
   "cell_type": "code",
   "execution_count": 4,
   "metadata": {
    "collapsed": true
   },
   "outputs": [
    {
     "data": {
      "text/plain": [
       "0    52978\n",
       "1    48591\n",
       "Name: stars, dtype: int64"
      ]
     },
     "execution_count": 4,
     "metadata": {},
     "output_type": "execute_result"
    }
   ],
   "source": [
    "# Balanced classes\n",
    "target.value_counts()"
   ]
  },
  {
   "cell_type": "markdown",
   "metadata": {},
   "source": [
    "### Withhold subset of data, for testing purposes\n",
    "We can simulate the influx of new data by creating a held-out \"test set\". K-means clustering is of course unsupervised; we are just borrowing terminology from supervised methods."
   ]
  },
  {
   "cell_type": "code",
   "execution_count": 5,
   "metadata": {
    "collapsed": true
   },
   "outputs": [],
   "source": [
    "from sklearn.model_selection import train_test_split"
   ]
  },
  {
   "cell_type": "code",
   "execution_count": 6,
   "metadata": {
    "collapsed": true
   },
   "outputs": [],
   "source": [
    "# documents is your X, target is your y\n",
    "# Now split the data to training set and test set\n",
    "documents_train, documents_test, target_train, target_test = train_test_split(documents, target)"
   ]
  },
  {
   "cell_type": "code",
   "execution_count": 7,
   "metadata": {},
   "outputs": [
    {
     "name": "stdout",
     "output_type": "stream",
     "text": [
      "(76176,) (25393,) (76176,) (25393,)\n"
     ]
    }
   ],
   "source": [
    "print(documents_train.shape, documents_test.shape, target_train.shape, target_test.shape)"
   ]
  },
  {
   "cell_type": "code",
   "execution_count": 8,
   "metadata": {},
   "outputs": [
    {
     "name": "stdout",
     "output_type": "stream",
     "text": [
      "True\n"
     ]
    }
   ],
   "source": [
    "# Sanity check for splitting\n",
    "print(documents.shape[0] == documents_train.shape[0] + documents_test.shape[0])"
   ]
  },
  {
   "cell_type": "markdown",
   "metadata": {},
   "source": [
    "### Get NLP representation of the documents\n",
    "\n",
    "Fit TfidfVectorizer with 'training' data only, then tranform all data to tf-idf"
   ]
  },
  {
   "cell_type": "code",
   "execution_count": 9,
   "metadata": {
    "collapsed": true
   },
   "outputs": [],
   "source": [
    "from sklearn.feature_extraction.text import TfidfVectorizer\n",
    "import nltk\n",
    "from nltk.corpus import stopwords"
   ]
  },
  {
   "cell_type": "markdown",
   "metadata": {},
   "source": [
    "Create TfidfVectorizer, and name it `vectorizer`. Choose a reasonable `max_features`, e.g. 1000; in other words, we only keep the Tf-idf vectors of the most common 1000 words.\n",
    "\n",
    "Must remove stop words this time, unlike in `NLP.ipynb`, because stop words may take up a large proportion of `max_features` when `max_features` is small."
   ]
  },
  {
   "cell_type": "code",
   "execution_count": 10,
   "metadata": {
    "collapsed": true
   },
   "outputs": [],
   "source": [
    "stopwords_english = stopwords.words('english')\n",
    "vectorizer = TfidfVectorizer(max_features=1000, stop_words=stopwords_english)"
   ]
  },
  {
   "cell_type": "code",
   "execution_count": 11,
   "metadata": {
    "collapsed": true
   },
   "outputs": [
    {
     "data": {
      "text/plain": [
       "TfidfVectorizer(analyzer='word', binary=False, decode_error='strict',\n",
       "        dtype=<class 'numpy.float64'>, encoding='utf-8', input='content',\n",
       "        lowercase=True, max_df=1.0, max_features=1000, min_df=1,\n",
       "        ngram_range=(1, 1), norm='l2', preprocessor=None, smooth_idf=True,\n",
       "        stop_words=['i', 'me', 'my', 'myself', 'we', 'our', 'ours', 'ourselves', 'you', \"you're\", \"you've\", \"you'll\", \"you'd\", 'your', 'yours', 'yourself', 'yourselves', 'he', 'him', 'his', 'himself', 'she', \"she's\", 'her', 'hers', 'herself', 'it', \"it's\", 'its', 'itself', 'they', 'them', 'their', 'theirs',... 'shouldn', \"shouldn't\", 'wasn', \"wasn't\", 'weren', \"weren't\", 'won', \"won't\", 'wouldn', \"wouldn't\"],\n",
       "        strip_accents=None, sublinear_tf=False,\n",
       "        token_pattern='(?u)\\\\b\\\\w\\\\w+\\\\b', tokenizer=None, use_idf=True,\n",
       "        vocabulary=None)"
      ]
     },
     "execution_count": 11,
     "metadata": {},
     "output_type": "execute_result"
    }
   ],
   "source": [
    "# Train the model with your training data\n",
    "vectorizer.fit(documents_train)"
   ]
  },
  {
   "cell_type": "code",
   "execution_count": 12,
   "metadata": {
    "collapsed": true
   },
   "outputs": [],
   "source": [
    "# Get the vocab of tfidf features\n",
    "word_to_index = vectorizer.vocabulary_\n",
    "index_to_word = {index:word for word,index in word_to_index.items()}"
   ]
  },
  {
   "cell_type": "code",
   "execution_count": 13,
   "metadata": {
    "collapsed": true
   },
   "outputs": [],
   "source": [
    "# Use the trained model to transform all the reviews\n",
    "vec_documents_all = vectorizer.transform(documents)\n",
    "vec_documents_train = vectorizer.transform(documents_train)"
   ]
  },
  {
   "cell_type": "markdown",
   "metadata": {},
   "source": [
    "### Cluster reviews with KMeans\n",
    "Fit k-means clustering with \"training data\", and then apply it on the entire data set. Tune with the elbow method."
   ]
  },
  {
   "cell_type": "code",
   "execution_count": 14,
   "metadata": {
    "collapsed": true
   },
   "outputs": [],
   "source": [
    "# Using sklearn.cluster.MiniBatchKMeans instead of sklearn.cluster.KMeans\n",
    "# Slightly worse clustering, but much faster convergence\n",
    "\n",
    "from sklearn.cluster import MiniBatchKMeans"
   ]
  },
  {
   "cell_type": "code",
   "execution_count": 15,
   "metadata": {},
   "outputs": [
    {
     "data": {
      "text/plain": [
       "MiniBatchKMeans(batch_size=500, compute_labels=True, init='k-means++',\n",
       "        init_size=None, max_iter=5000, max_no_improvement=10, n_clusters=3,\n",
       "        n_init=3, random_state=None, reassignment_ratio=0.01, tol=0.0,\n",
       "        verbose=0)"
      ]
     },
     "execution_count": 15,
     "metadata": {},
     "output_type": "execute_result"
    }
   ],
   "source": [
    "# Start with arbitrary K = 3\n",
    "kmeans = MiniBatchKMeans(n_clusters=3, batch_size=500, max_iter=5000)\n",
    "kmeans.fit(vec_documents_train)"
   ]
  },
  {
   "cell_type": "code",
   "execution_count": 16,
   "metadata": {
    "collapsed": true
   },
   "outputs": [],
   "source": [
    "cluster_assignments = kmeans.predict(vec_documents_all)"
   ]
  },
  {
   "cell_type": "markdown",
   "metadata": {},
   "source": [
    "#### Inspect the centroids\n",
    "To find out what \"topics\" Kmeans has discovered we must inspect the centroids. \n",
    "\n",
    "These centroids are simply a bunch of numerical vectors. To make sense of these vectors we need to map them back into 'word space'. We can think of each feature/dimension of a centroid vector as representing the \"average\" review or the average occurances of words for that cluster."
   ]
  },
  {
   "cell_type": "code",
   "execution_count": 17,
   "metadata": {
    "collapsed": true
   },
   "outputs": [
    {
     "name": "stdout",
     "output_type": "stream",
     "text": [
      "(1000,)\n",
      "Number of negative components in cluster 0: 0\n",
      "Number of negative components in cluster 1: 0\n",
      "Number of negative components in cluster 2: 0\n"
     ]
    }
   ],
   "source": [
    "# 1000, exactly like max_features\n",
    "print(kmeans.cluster_centers_[0].shape)\n",
    "\n",
    "# Since we're using Tf-idf features, all vector components are non-negative\n",
    "for i,vector in enumerate(kmeans.cluster_centers_):\n",
    "    print(f\"Number of negative components in cluster {i}: {np.sum(vector<0.0)}\")"
   ]
  },
  {
   "cell_type": "markdown",
   "metadata": {},
   "source": [
    "#### Find the top *n* features for each cluster.\n",
    "For topics we are only really interested in the most present words, i.e. features/dimensions with the greatest representation in the centroid.  Print out the top ten words for each centroid.\n",
    "\n",
    "* Sort each centroid vector to find the top 10 features\n",
    "* Go back to your vectorizer object to find out what words each of these features corresponds to.\n"
   ]
  },
  {
   "cell_type": "code",
   "execution_count": 18,
   "metadata": {
    "collapsed": true
   },
   "outputs": [
    {
     "name": "stdout",
     "output_type": "stream",
     "text": [
      "Top words from cluster 0\n",
      "['great', 'food', 'service', 'amazing', 'place', 'best', 'delicious', 'friendly', 'vegas', 'good']\n",
      "Top words from cluster 1\n",
      "['good', 'chicken', 'ordered', 'food', 'like', 'place', 'really', 'also', 'rice', 'delicious']\n",
      "Top words from cluster 2\n",
      "['food', 'place', 'pizza', 'time', 'get', 'good', 'one', 'order', 'go', 'service']\n"
     ]
    }
   ],
   "source": [
    "'''\n",
    "Several common themes emerged: \n",
    "comments on staff attitudes, service quality, and the taste of food. Nothing surprisingly here.\n",
    "'''\n",
    "\n",
    "def print_top_features(cluster_centers, ix_to_words, n=10):\n",
    "    for i, centroid in enumerate(cluster_centers):\n",
    "        top_n_features = np.argsort(centroid)[::-1]\n",
    "        top_n_features = top_n_features[:n]\n",
    "        top_n_words = [ix_to_words[feature_index] for feature_index in top_n_features]\n",
    "\n",
    "        print(\"Top words from cluster {}\".format(i))\n",
    "        print(top_n_words)\n",
    "\n",
    "print_top_features(kmeans.cluster_centers_, index_to_word, n=10)"
   ]
  },
  {
   "cell_type": "markdown",
   "metadata": {},
   "source": [
    "#### Try larger K's; tune with elbow method\n",
    "For a higher number of clusters, we expect to see more refined/narrow \"themes\". To systematically find an optimal K, we utilize the elbow method, which is simple to interpret."
   ]
  },
  {
   "cell_type": "code",
   "execution_count": 19,
   "metadata": {
    "collapsed": true
   },
   "outputs": [
    {
     "name": "stdout",
     "output_type": "stream",
     "text": [
      "Top words from cluster 0\n",
      "['amazing', 'best', 'food', 'vegas', 'place', 'love', 'delicious', 'service', 'ever', 'back']\n",
      "Top words from cluster 1\n",
      "['great', 'food', 'service', 'place', 'good', 'friendly', 'back', 'definitely', 'delicious', 'excellent']\n",
      "Top words from cluster 2\n",
      "['good', 'food', 'place', 'really', 'service', 'nice', 'like', 'buffet', 'get', 'go']\n",
      "Top words from cluster 3\n",
      "['order', 'food', 'us', 'time', 'like', 'ordered', 'one', 'get', 'would', 'got']\n",
      "Top words from cluster 4\n",
      "['pizza', 'crust', 'good', 'place', 'great', 'cheese', 'service', 'ordered', 'best', 'pepperoni']\n",
      "Top words from cluster 5\n",
      "['pho', 'ramen', 'pork', 'broth', 'thai', 'rice', 'good', 'place', 'noodles', 'spicy']\n"
     ]
    }
   ],
   "source": [
    "'''\n",
    "Arbitarily tried K = 6. Basically the same themes, but with more specific food items mentioned, \n",
    "e.g. thai food, sushi, and burgers and pizza crust. It would be interesting to see if \n",
    "they are actually more (un)popular among the reviewers.\n",
    "'''\n",
    "\n",
    "kmeans_6 = MiniBatchKMeans(n_clusters=6, batch_size=500, max_iter=5000)\n",
    "kmeans_6.fit(vec_documents_train)\n",
    "print_top_features(kmeans_6.cluster_centers_, index_to_word)"
   ]
  },
  {
   "cell_type": "code",
   "execution_count": 20,
   "metadata": {},
   "outputs": [],
   "source": [
    "from elbow import elbow_tuner\n",
    "\n",
    "'''\n",
    "    Perform elbow tuning for k-means clustering\n",
    "\n",
    "    Input:\n",
    "        data: MxN matrix --- M observations of N features \n",
    "        k_to_try: (1D) iterable containing values of K to try\n",
    "\n",
    "    Return:\n",
    "        intra_cluster_ss: 1D array containing averaged intra-cluster sum-of-squares, for each K\n",
    "'''"
   ]
  },
  {
   "cell_type": "code",
   "execution_count": 22,
   "metadata": {},
   "outputs": [],
   "source": [
    "within_cluster_ss = elbow_tuner(vec_documents_all, range(3,40))"
   ]
  },
  {
   "cell_type": "code",
   "execution_count": 23,
   "metadata": {},
   "outputs": [
    {
     "data": {
      "text/plain": [
       "[<matplotlib.lines.Line2D at 0x112768a90>]"
      ]
     },
     "execution_count": 23,
     "metadata": {},
     "output_type": "execute_result"
    },
    {
     "data": {
      "image/png": "[encoded data removed]",
      "text/plain": [
       "<Figure size 432x288 with 1 Axes>"
      ]
     },
     "metadata": {
      "needs_background": "light"
     },
     "output_type": "display_data"
    }
   ],
   "source": [
    "# The elbow is around K = 20-25. Let's experiment with 20\n",
    "plt.title(\"Elbow Tuning of K-means Clustering\")\n",
    "plt.xlabel(\"K\")\n",
    "plt.ylabel(\"Intra-cluster Sum of Squares\")\n",
    "plt.plot(within_cluster_ss, \"-\")"
   ]
  },
  {
   "cell_type": "code",
   "execution_count": 73,
   "metadata": {},
   "outputs": [
    {
     "name": "stdout",
     "output_type": "stream",
     "text": [
      "Top words from cluster 0\n",
      "['sushi', 'place', 'roll', 'good', 'great', 'rolls', 'fresh', 'fish', 'service', 'ayce']\n",
      "Top words from cluster 1\n",
      "['tacos', 'taco', 'asada', 'carne', 'good', 'food', 'place', 'mexican', 'vegas', 'burrito']\n",
      "Top words from cluster 2\n",
      "['thai', 'curry', 'pad', 'food', 'good', 'place', 'chicken', 'rice', 'spicy', 'restaurant']\n",
      "Top words from cluster 3\n",
      "['great', 'food', 'service', 'place', 'good', 'atmosphere', 'awesome', 'staff', 'best', 'friendly']\n",
      "Top words from cluster 4\n",
      "['ramen', 'pork', 'broth', 'noodles', 'place', 'belly', 'good', 'spicy', 'miso', 'bowl']\n",
      "Top words from cluster 5\n",
      "['korean', 'speak', 'combo', 'hands', 'style', 'ask', 'enough', 'cooked', 'fried', 'rice']\n",
      "Top words from cluster 6\n",
      "['highly', 'recommend', 'food', 'place', 'great', 'service', 'amazing', 'delicious', 'would', 'best']\n",
      "Top words from cluster 7\n",
      "['chicken', 'good', 'food', 'fried', 'rice', 'ordered', 'place', 'salad', 'like', 'great']\n",
      "Top words from cluster 8\n",
      "['breakfast', 'eggs', 'pancakes', 'good', 'food', 'coffee', 'great', 'place', 'service', 'buffet']\n",
      "Top words from cluster 9\n",
      "['burger', 'fries', 'burgers', 'good', 'food', 'place', 'cheese', 'like', 'time', 'ordered']\n",
      "Top words from cluster 10\n",
      "['pizza', 'crust', 'good', 'place', 'great', 'cheese', 'best', 'ordered', 'slice', 'like']\n",
      "Top words from cluster 11\n",
      "['salsa', 'chips', 'mexican', 'food', 'fajitas', 'good', 'beans', 'great', 'place', 'margaritas']\n",
      "Top words from cluster 12\n",
      "['pho', 'broth', 'place', 'good', 'rolls', 'vietnamese', 'spring', 'service', 'great', 'best']\n",
      "Top words from cluster 13\n",
      "['food', 'good', 'place', 'like', 'one', 'vegas', 'service', 'buffet', 'best', 'delicious']\n",
      "Top words from cluster 14\n",
      "['always', 'amazing', 'love', 'food', 'place', 'service', 'best', 'great', 'staff', 'friendly']\n",
      "Top words from cluster 15\n",
      "['us', 'good', 'food', 'came', 'table', 'service', 'time', 'server', 'really', 'got']\n",
      "Top words from cluster 16\n",
      "['back', 'definitely', 'food', 'come', 'service', 'great', 'friendly', 'staff', 'delicious', 'time']\n",
      "Top words from cluster 17\n",
      "['greek', 'mom', 'spicy', 'clean', 'excellent', 'salad', 'menu', 'chicken', 'place', 'good']\n",
      "Top words from cluster 18\n",
      "['order', 'food', 'service', 'minutes', 'get', 'time', 'said', 'customer', 'never', 'asked']\n",
      "Top words from cluster 19\n",
      "['bbq', 'pork', 'good', 'ribs', 'korean', 'food', 'place', 'brisket', 'chicken', 'great']\n"
     ]
    }
   ],
   "source": [
    "kmeans_20 = MiniBatchKMeans(n_clusters=20, random_state=90)\n",
    "kmeans_20.fit(vec_documents_all)\n",
    "print_top_features(kmeans_20.cluster_centers_, index_to_word, n=10)"
   ]
  },
  {
   "cell_type": "markdown",
   "metadata": {},
   "source": [
    "#### How many reviews are there in each cluster?\n",
    "Goal: inspect whether there are clusters with only a few reviews. They may encode rare words and information ... or it's an anomaly hard to interpret. \n",
    "\n",
    "After brief experimentation with different random seeds (84, 85, 90), small clusters persisted, even though they contain different sets of reviews for each different seed. Will proceed as is for now."
   ]
  },
  {
   "cell_type": "code",
   "execution_count": 70,
   "metadata": {},
   "outputs": [
    {
     "data": {
      "text/plain": [
       "13    26252\n",
       "15    10643\n",
       "18     8962\n",
       "3      7178\n",
       "16     6588\n",
       "14     6356\n",
       "7      5629\n",
       "10     4961\n",
       "0      3440\n",
       "9      3367\n",
       "8      3272\n",
       "6      3072\n",
       "1      2258\n",
       "12     2168\n",
       "2      2080\n",
       "11     2018\n",
       "4      1975\n",
       "19     1338\n",
       "5        11\n",
       "17        1\n",
       "dtype: int64"
      ]
     },
     "execution_count": 70,
     "metadata": {},
     "output_type": "execute_result"
    }
   ],
   "source": [
    "pd.Series(kmeans_20.labels_).value_counts()"
   ]
  },
  {
   "cell_type": "markdown",
   "metadata": {},
   "source": [
    "#### The star rating in each cluster\n",
    "Print mean and median star rating of each cluster; see if each cluster encode a different value. Interestingly, for the **vast majority** of clusters the median is larger than the mean. That is *consistent* with `Preprocessing.ipynb`, where it is observed the number of reviews at each rating is right-skewed, i.e. towards higher ratings. The median review may have a high rating, but the overall mean is dragged down by the short-tail with low ratings.\n",
    "\n",
    "The only exception is cluster 18, whose mean and median are also much lower than those of other clusters. For those interested in studying bad restaurants, that is the go-to cluster!"
   ]
  },
  {
   "cell_type": "code",
   "execution_count": 71,
   "metadata": {},
   "outputs": [
    {
     "name": "stdout",
     "output_type": "stream",
     "text": [
      "Mean/Median rating @ cluster 0: 4.193314/5.000000\n",
      "Mean/Median rating @ cluster 1: 3.911869/5.000000\n",
      "Mean/Median rating @ cluster 2: 4.187019/5.000000\n",
      "Mean/Median rating @ cluster 3: 4.623433/5.000000\n",
      "Mean/Median rating @ cluster 4: 4.154937/5.000000\n",
      "Mean/Median rating @ cluster 5: 3.818182/4.000000\n",
      "Mean/Median rating @ cluster 6: 4.707357/5.000000\n",
      "Mean/Median rating @ cluster 7: 3.760526/4.000000\n",
      "Mean/Median rating @ cluster 8: 3.963631/4.000000\n",
      "Mean/Median rating @ cluster 9: 3.708346/4.000000\n",
      "Mean/Median rating @ cluster 10: 3.852651/4.000000\n",
      "Mean/Median rating @ cluster 11: 3.991080/5.000000\n",
      "Mean/Median rating @ cluster 12: 3.995387/4.000000\n",
      "Mean/Median rating @ cluster 13: 3.705318/4.000000\n",
      "Mean/Median rating @ cluster 14: 4.715072/5.000000\n",
      "Mean/Median rating @ cluster 15: 3.284224/4.000000\n",
      "Mean/Median rating @ cluster 16: 4.624013/5.000000\n",
      "Mean/Median rating @ cluster 17: 5.000000/5.000000\n",
      "Mean/Median rating @ cluster 18: 1.798817/1.000000\n",
      "Mean/Median rating @ cluster 19: 3.968610/4.000000\n"
     ]
    }
   ],
   "source": [
    "for cid in range( len(kmeans_20.cluster_centers_) ):\n",
    "    # for each cluster ID\n",
    "    mask = (kmeans_20.labels_ == cid)\n",
    "    avg_star = np.mean(df.stars[mask])\n",
    "    median_star = np.median(df.stars[mask])\n",
    "    print(\"Mean/Median rating @ cluster {}: {:2f}/{:2f}\".format(cid, avg_star, median_star))"
   ]
  },
  {
   "cell_type": "markdown",
   "metadata": {},
   "source": [
    "To wrap up this study of reviews overall, let's look at a sample review from each cluster. That should consolidate our sense of what each cluster represents."
   ]
  },
  {
   "cell_type": "code",
   "execution_count": 52,
   "metadata": {
    "collapsed": true
   },
   "outputs": [
    {
     "name": "stdout",
     "output_type": "stream",
     "text": [
      "\n",
      "Sample review from cluster 0, rating 5\n",
      "Just replaced I Love Sushi in Henderson as our favorite sushi den. Small, cozy atmosphere with awesome food. Don't go there without getting the Avocado Treasure Chest.\n",
      "\n",
      "Sample review from cluster 1, rating 1\n",
      "This is the second location and they have No TACOS AT ALL... lol it's almost funny at this point because the woman says \"I will have them tomorrow\"  how does that help me at the moment?!?!? El Pollo Loco is a JOKE\n",
      "\n",
      "Sample review from cluster 2, rating 5\n",
      "the food is close to perfection...tempura udon is the best  ingredients are fresh,combined with thai tea...that's awesome  oishi!!!\n",
      "\n",
      "Sample review from cluster 3, rating 5\n",
      "Very busy place but they take good care of you right away w/ GREAT customer service.  Terra is quick and greets everyone !\n",
      "\n",
      "Sample review from cluster 4, rating 4\n",
      "Best  ramen ive had in vegas so far, after going through quite a few places this place is our favorite yet! Staff is very polite and always greets us as we walk in. Nice set up for a ramen place unlike the other places this place has nice size tables compare to most ramen places.\n",
      "\n",
      "Sample review from cluster 5, rating 5\n",
      "Came here with my korean gfs. This was superbly good and authentic korean food, just heavenly after a long night in Vegas.  The soups are just amazing as well as the side dishes. The side dishes were also very fresh, you would be able to tell the difference if you are korean or eat korean food often.  Definitely a place I'm returning to shall I be in Vegas again\n",
      "\n",
      "Sample review from cluster 6, rating 1\n",
      "Horrible bought broccoli as a side order and the broccoli had bugs it was completely infested don't recommend this place for anyone they don't wash the produce\n",
      "\n",
      "Sample review from cluster 7, rating 5\n",
      "On vacation in Vegas June 4-6. First stop Signature resort. Second stop call Lyft and head to Tropicana ave for the best chicken in the world. Start off with a four piece meal with rice and beans and tons of salsa. Even after several years since my last visit  nothing has changed. When other restaurants increase prices and shrink portions, El Pollo Loco is still the best value in chicken. We had three locations south of Seattle but for what ever reasons they didn't survive. Perhaps you can bring a franchise to Seattle or Burien WA. Regardless I'll be back.\n",
      "\n",
      "Sample review from cluster 8, rating 5\n",
      "No breakfast  but the food was really good, you get 2 kinds of salsas with your chips & I just have to say I'm all about authentic and these were quite impressive. I'll definitely be returning\n",
      "\n",
      "Sample review from cluster 9, rating 4\n",
      "Elijah took our order and was super patient with me debating over curly fries or regular fries. I'm surprised to see that there was an actual water pitcher with ice provided on the cashier counter along with coffee. The soda machine was also a touch screen with so many options to mix your drinks. This place is by far the cleanest jack n the box I have been too!\n",
      "\n",
      "Sample review from cluster 10, rating 1\n",
      "Ordered a pizza, the location is literally in front of my apartment complex and my pizza was cold. Must have been sitting there for for almost an hour for as cold as it was, the drive from this location to my apartment door is all of anout five minutes. I ordered a soda and its\n",
      "obvious it was never placed in a fridge. Cold pizza and warn soda. Horrible!\n",
      "\n",
      "Sample review from cluster 11, rating 3\n",
      "Food is good and the staff were friendly but all of the tables were dirty...food remnants on them...and the trash was overflowing. I had to put my tray full of trash on top where you put the empty trays.  I didn't want to eat from the salsa bar because it looked like no-one had serviced it in a while and salsa was all over the counter area of the bar. It just didn't feel clean, almost like kids had been playing in it or something. That said, the food was pollo loco delicious and the staff were friendly. If they don't clean it up I will probably drive a little further to go to a clean one.  If they were clean and a little more on top of their dining area I would have given them a 4 or 5 star review.\n",
      "\n",
      "Sample review from cluster 12, rating 5\n",
      "Best pho in Vegas. Wait time was about 20-30  minutes. However, saw a few local viets who were able to \"jump\" the line because they speak vietnamese and were regulars there. Food was amazing\n",
      "\n",
      "Sample review from cluster 13, rating 5\n",
      "I love the shrimp salad here I come here and other locations because it's convenient and when I just need something healthy and fast.\n",
      "\n",
      "Sample review from cluster 14, rating 5\n",
      "I come here all the time and they always have the best customer service. For example, today Isaa helped me and the food was done quickly and she was very nice. Always worth the drive!\n",
      "\n",
      "Sample review from cluster 15, rating 5\n",
      "Went there for the first time Friday night , service was amazing and the food was outstanding, and the margaritas, one of those babies will put you on your butt! The only thing I may have to say negative but not a complaint is the Mariachi band was so loud I could hardly talk to my date or our waiter, but the music was really good. Can't wait to go there again, real soon.\n",
      "\n",
      "Sample review from cluster 16, rating 5\n",
      "Again, Dennis was an awesome waiter. Ask for him and you wont be disappointed. Food was excellent and the Mariachis were so enjoyable. Sorry if I didnt spell that correctly. Thank you!  Happy Sinco de Mayo!\n",
      "\n",
      "Sample review from cluster 17, rating 5\n",
      "Had the Greek salad with Chicken and the Spicy Skyler panini, both were excellent. Mom & Pop place very clean, good menu.\n",
      "\n",
      "Sample review from cluster 18, rating 1\n",
      "I WILL NEVER ORDER FROM THIS PLACE AGAIN. order pizza yesterday  for my husband, my son and I. We got so sick during the night (food poisoning) stomachache, vomiting, my son got diarrhea.\n",
      "\n",
      "Sample review from cluster 19, rating 4\n",
      "Had been here before for BBQ and this time I had ramen and gyoza.  It was pretty darn tasty.  The beer was ICE cold too.  Wife really enjoyed her salad and chicken karaage also.\n"
     ]
    }
   ],
   "source": [
    "for cid in range( len(kmeans_20.cluster_centers_) ):\n",
    "    # Get boolean mask for reviews corresponding to each cid\n",
    "    mask = (kmeans_20.labels_ == cid)\n",
    "    \n",
    "    # Obtain star ratings corresponding to reviews in cluster 'cid'\n",
    "    stars = df.stars[ mask ]\n",
    "    \n",
    "    # Obtain the first review for each cid (an arbitary choice)\n",
    "    review_index = np.nonzero(mask)[0][0]\n",
    "    star = stars[review_index]\n",
    "    \n",
    "    print(\"\\nSample review from cluster {}, rating {}\".format(cid, star))\n",
    "    print(documents[review_index])"
   ]
  },
  {
   "cell_type": "markdown",
   "metadata": {},
   "source": [
    "### Conclusion from Clustering All Reviews\n",
    "\n",
    "Having looked at the top 10 words from each of the 20 clusters, here are some business observations and pointers for further investigation:\n",
    "\n",
    "1. Many of the clusters are associated with a specific cusine or dish --- from sushi, ramen, salad, curry to steaks and 'spicy' food. Therefore, we can discover the most discussed/reviewed categories of foods, in Las Vegas in this case.\n",
    "\n",
    "2. The clusters also help us identify the factors leading a positive dining experience. In addition to 'delicious' food, apparently 'friendly (staff)', 'service' and 'atmosphere' also matter. Even though in hindsight that is not surprising, the reviews (and their clusters) serve as empirical evidence that customers do care about these things.\n",
    "\n",
    "3. On the other hand, we can identity (from cluster 18) how restaurants can receive the worst rating from customers. The sample review printed describes a family that got food poisoning from eating pizza --- worst case scenario for a restaurant indeed. While customers probably wouldn't bother looking at poorly-rated restaurants to begin with, regulators may use this tool to identify serious infractions, say, in hygiene, and plan inspections accordingly (?)"
   ]
  },
  {
   "cell_type": "markdown",
   "metadata": {},
   "source": [
    "## 2. Cluster the most scathing reviews \n",
    "While we now know the factors leading to an enjoyable meal, what makes customers *hate* their dining experiences? From `Preprocessing.ipynb`, we see that there are (many) less reviews giving 1 or 2 stars, compared to those with 3-5 stars. (FYI, 5 is the maximum.) \n",
    "\n",
    "While `MiniBatchKMeans` produced a cluster with outstandingly low ratings above, it is prudent to treat these poorly-performing restaurants separately, and see if they share any recurring problems."
   ]
  },
  {
   "cell_type": "code",
   "execution_count": 74,
   "metadata": {},
   "outputs": [],
   "source": [
    "# Obtain the MOST scathing reviews\n",
    "documents_bad = documents.loc[ (df.stars==1) ]"
   ]
  },
  {
   "cell_type": "code",
   "execution_count": 75,
   "metadata": {},
   "outputs": [],
   "source": [
    "# Build tf-idf vectorizer for specifically the scathing reviews\n",
    "# NOT reusing old vectorizer for all reviews; assume that tf if not idf would be much different\n",
    "vectorizer_bad = TfidfVectorizer(max_features=2000, stop_words=stopwords_english)"
   ]
  },
  {
   "cell_type": "code",
   "execution_count": 76,
   "metadata": {},
   "outputs": [],
   "source": [
    "X_bad = vectorizer_bad.fit_transform(documents_bad)"
   ]
  },
  {
   "cell_type": "code",
   "execution_count": 77,
   "metadata": {},
   "outputs": [
    {
     "name": "stdout",
     "output_type": "stream",
     "text": [
      "(14437, 2000)\n"
     ]
    }
   ],
   "source": [
    "# 1e4 reviews out of 1e5, 000 max_features as expected\n",
    "print(X_bad.shape)"
   ]
  },
  {
   "cell_type": "code",
   "execution_count": 78,
   "metadata": {},
   "outputs": [],
   "source": [
    "# Tune clustering with elbow method\n",
    "tuning_bad_ss = elbow_tuner(X_bad, range(3, 30, 1))"
   ]
  },
  {
   "cell_type": "code",
   "execution_count": 79,
   "metadata": {},
   "outputs": [
    {
     "data": {
      "text/plain": [
       "[<matplotlib.lines.Line2D at 0x1a2b1f9ac8>]"
      ]
     },
     "execution_count": 79,
     "metadata": {},
     "output_type": "execute_result"
    },
    {
     "data": {
      "image/png": "[encoded data removed]",
      "text/plain": [
       "<Figure size 432x288 with 1 Axes>"
      ]
     },
     "metadata": {
      "needs_background": "light"
     },
     "output_type": "display_data"
    }
   ],
   "source": [
    "# Plot graph to find the elbow\n",
    "# Final working value: 11\n",
    "plt.title(\"Elbow Tuning of K-means Clustering, For Scathing Reviews\")\n",
    "plt.xlabel(\"K\")\n",
    "plt.xticks(range(3, 30, 2))\n",
    "plt.ylabel(\"Intra-cluster Sum of Squares\")\n",
    "plt.plot(range(3, 30, 1), tuning_bad_ss, \"x\")"
   ]
  },
  {
   "cell_type": "code",
   "execution_count": 80,
   "metadata": {},
   "outputs": [
    {
     "name": "stdout",
     "output_type": "stream",
     "text": [
      "Top words from cluster 0\n",
      "['pho', 'place', 'broth', 'soup', 'food', 'like', 'service', 'good', 'ordered', 'rolls']\n",
      "Top words from cluster 1\n",
      "['waited', 'dog', 'minutes', 'service', 'one', '10', 'would', 'even', 'bar', 'walked']\n",
      "Top words from cluster 2\n",
      "['us', 'table', 'minutes', 'came', 'server', 'food', 'asked', 'said', 'order', 'service']\n",
      "Top words from cluster 3\n",
      "['lunch', 'food', 'place', 'went', 'today', 'minutes', 'service', 'time', 'eat', 'back']\n",
      "Top words from cluster 4\n",
      "['chicken', 'food', 'ordered', 'rice', 'fried', 'like', 'good', 'salad', 'got', 'place']\n",
      "Top words from cluster 5\n",
      "['food', 'place', 'like', 'good', 'go', 'worst', 'ever', 'one', 'would', 'service']\n",
      "Top words from cluster 6\n",
      "['order', 'drive', 'thru', 'time', 'get', 'said', 'food', 'minutes', 'called', 'back']\n",
      "Top words from cluster 7\n",
      "['pizza', 'order', 'ordered', 'delivery', 'cheese', 'place', 'pizzas', 'called', 'never', 'crust']\n",
      "Top words from cluster 8\n",
      "['meat', 'lobster', 'ordered', 'steak', 'salad', 'like', 'good', 'food', 'disappointed', 'flavor']\n",
      "Top words from cluster 9\n",
      "['cheese', 'fries', 'burger', 'ordered', 'sandwich', 'like', 'food', 'cold', 'chili', 'good']\n",
      "Top words from cluster 10\n",
      "['food', 'service', 'time', 'get', 'place', 'bad', 'good', 'customer', 'wait', 'one']\n"
     ]
    }
   ],
   "source": [
    "# Obtain the feature index-to-word mapping\n",
    "index_to_word_bad = {index:word for word,index in vectorizer_bad.vocabulary_.items()}\n",
    "\n",
    "kmeans_bad = MiniBatchKMeans(n_clusters=11, max_iter=5000, random_state=42)\n",
    "kmeans_bad.fit(X_bad)\n",
    "print_top_features(kmeans_bad.cluster_centers_, index_to_word_bad, n=10)"
   ]
  },
  {
   "cell_type": "code",
   "execution_count": 81,
   "metadata": {},
   "outputs": [
    {
     "name": "stdout",
     "output_type": "stream",
     "text": [
      "\n",
      "Sample review from cluster 0\n",
      "Pho Saigon 8 was my choice of restaurant every time I visited Las Vegas. However, I was very disappointed with the quality of food and the services at my recent visit. All 4 dishes that each person in our party of four ordered did not meet our expectation. Pho bo was just ok. Banh tam bi and com ga quay were bland. Hu tieu tom cua had very strong smell of seafood.\n",
      "\n",
      "Sample review from cluster 1\n",
      "I was really excited for this place till we ate here, its way overpriced we waited over 20 minutes for a drink and at least another 30 minutes for our food that had absolutely no flavor, and it wasnt busy at the time either.\n",
      "\n",
      "Sample review from cluster 2\n",
      "I was so excited to try this restaurant because we need some real Mexican food here in Las Vegas!  I was finally able to go last night and I was so disappointed!   When we sat down at our table it took 10 mins for the waitress to come over for our drink order then another 10 for the girl to come and bring us some chips and salsa.  She brought us a basket of chip crumbs.   Once the waitress came back with our drink order I asked if we could bring us some chips so we could try the salsa.  She brought us more crumbs.  Disappointing!   You need to have chips and salsa at a Mexican restaurant!!!  Ok now comes the food, there isn't much to select on the menu so I tried the cheese enchiladas.  You really can't mess that up!   Well they bring me something that looks like a corn tortilla topped with salsa.  It was so gross and the beans on the plate looked like they scraped a baby's diaper!    The only thing I could eat was the rice and that was not cooked all they way!   My friend did not complain too much about the Pollo Delmar, but wouldn't recommend it.  Very pricey for the meal.  Needless to say I was very disappointed and would not recommend this place.  The only reason I gave it a 1 cause you have to in order to write a review!!!   Save your money and cook at home!\n",
      "\n",
      "Sample review from cluster 3\n",
      "The worst buffet I have been visited!\n",
      "I was asked to leave by a very rude cashier, when lunch started and breakfast stopped. \n",
      "What buffet asks you to leave because a new time of the day begins?\n",
      "I came 30 minutes before the breakfast buffet ended.The food was very cold, tasteless, and I didn't eat anything; thinking I could have lunch in a few minutes.\n",
      "The manager offered to take care of my meal, but I was totally disgusted and wanted my money returned.  Most Vegas places beg locals to visit; this place lost a customer in general.\n",
      "\n",
      "Sample review from cluster 4\n",
      "So, my husband and I were looking for a place for lunch today and saw an El Pollo Loco restaurant on Tropicana that had a large sign in the window that advertised 10 pieces of chicken legs and thighs for  $10.00. We went inside and quickly decided that it was a great deal after looking at their menu prices. We went up to the cashier and placed our order and was promptly told that they were out of legs and thighs!!!! I asked the cashier if they were substituting anything else for the same price and she said no. I said how long will it take to get the advertised special, she said 20 to 30 minutes!!! I was in complete shock and disbelief!!! A restaurant that sell NOTHING but chicken was out of ANY kind of chicken is ridiculous!! I asked her again could she substitute something else and she again said no! We drove across town to the El Pollo Loco on Stephanie St and they had plenty of chicken as all El Pollo Loco restaurants should have. Needless to say I will NEVER go back to that particular restaurant. I wonder how many other customers were told this today.\n",
      "\n",
      "Sample review from cluster 5\n",
      "Horrible bought broccoli as a side order and the broccoli had bugs it was completely infested don't recommend this place for anyone they don't wash the produce\n",
      "\n",
      "Sample review from cluster 6\n",
      "Ordered carry out online here, the food was made fairly quick which is why I'm giving a 1 star, but make sure you receive everything you paid for on your receipt, because they charge for stuff they forget to give you and the customer service is poor and the manager that helped me was not helpful nor cared that I drove back from my house. Staff is FORGETFUL and robotic. I approached the counter and the same guy that FORGOT to give me my item asked what I wanted to order. Like cmon bro you can't be that forgetful, you just saw me a few moments ago and just got off the phone with me.. \n",
      "\n",
      "I'm not returning back here again and that's a fact..and how about we make it even, I'll be the forgetful one this time, because this Pizza Hut app I got, that I just forgot about, just got deleted *\n",
      "\n",
      "Sample review from cluster 7\n",
      "Ordered a pizza, the location is literally in front of my apartment complex and my pizza was cold. Must have been sitting there for for almost an hour for as cold as it was, the drive from this location to my apartment door is all of anout five minutes. I ordered a soda and its\n",
      "obvious it was never placed in a fridge. Cold pizza and warn soda. Horrible!\n",
      "\n",
      "Sample review from cluster 8\n",
      "First time in for dinner tonight w/ the fam.  My husband and I ordered the octopus seafood cocktail and the shrimp fajitas for two.  The seafood cocktail sauce tasted like canned tomato sauce w/ a weird red oily sauce on top, not really feeling it.  The shrimp fajitas were ok but had too much of a spicy tomato based sauce going on, thank goodness for the side of guacamole to help mask the flavor.  The worst was the rice and beans that come w/ the fajitas, just terrible.  The rice literally tasted like instant rice, like Spanish Rice-a-Roni or Knorr.  The rice was too dry and the flavor just wasn't there for the rice or the beans.  My son ordered the cheeseburger on the kid's menu and part of his bun came out really hard, kinda like when you try & microwave a frozen piece of bread for too long.  I know its a Mexican restaurant so I should of known better than to order him a cheeseburger but he's 4 and was dead set on getting a burger.  Our bill was just under $80 (including drinks & tip).  Service was good but the food was a no go for us to visit again.\n",
      "\n",
      "Sample review from cluster 9\n",
      "I wish I could give 1 star but I can not.. couple off things \n",
      "\n",
      "1. There is a lady that walks around and offers guacamole like it's free ... it's not it's actually 9 dollars and horrible too may I add \n",
      "\n",
      "2. Ordered a tamale and a ground meat taco. I got a cheese enchilada and a chicken taco.. witch was pretty much the worst I've ever ate \n",
      "\n",
      "3. I watched the bus boy wipe a seat off then wipe a table off with the same towel I didnt think that was sanitary.\n",
      "\n",
      "I will never return again I will make the extra 5 minute drive to flaming fajitas\n",
      "\n",
      "Sample review from cluster 10\n",
      "Service so terrible waiter was so slow to have a plate took over an hour tortilla soup was the most bad soup I have in my life waiter took silverware from the small plates and put it on the dirty table so unhealthy how this place don't care about training the waiters !!!! Never again so bad long experience even is 5 de Mayo but no really busy at this time and take forever for food!!!! Worse experience\n"
     ]
    }
   ],
   "source": [
    "# Print sample scathing reviews\n",
    "\n",
    "for cid in range(0, len(kmeans_bad.cluster_centers_) ):\n",
    "    # Get boolean mask for reviews corresponding to each cid\n",
    "    mask = (kmeans_bad.labels_ == cid)\n",
    "    \n",
    "    # Obtain the first review for each cid (an arbitary choice)\n",
    "    review_index = np.nonzero(mask)[0][0]\n",
    "    \n",
    "    print(\"\\nSample review from cluster {}\".format(cid))\n",
    "    print(documents_bad.iloc[review_index])"
   ]
  },
  {
   "cell_type": "code",
   "execution_count": 82,
   "metadata": {},
   "outputs": [
    {
     "data": {
      "text/plain": [
       "5     4884\n",
       "10    2246\n",
       "2     1815\n",
       "6     1641\n",
       "8      916\n",
       "4      850\n",
       "7      723\n",
       "9      594\n",
       "1      302\n",
       "3      268\n",
       "0      198\n",
       "dtype: int64"
      ]
     },
     "execution_count": 82,
     "metadata": {},
     "output_type": "execute_result"
    }
   ],
   "source": [
    "# Again, inspect whethere there are clusters with only a few reviews\n",
    "pd.Series(kmeans_bad.labels_).value_counts()"
   ]
  },
  {
   "cell_type": "markdown",
   "metadata": {},
   "source": [
    "### Conclusion from Clustering the Scathing Reviews\n",
    "\n",
    "The individual top words captured by each cluster do correspond to words found in reviews. However, it is only by looking at the reviews themselves can we understand the top words in context. Put differently: K-means clustering at the single-word+Tf-idf level, by itself, isn't very helpful at uncovering themes of complaints. (Because we ended up reading some reviews in full anyway.)\n",
    "\n",
    "A few observations after reading the sample reviews:\n",
    "1. The most common complaint seems to revolve around the hygiene/taste of food, followed by rude service and the occasional long wait-times for food. \n",
    "2. \"Rude\" can refer to the, or say, asking customers to leave when there was no convincing reason to say so.\n",
    "\n",
    "Possible method of improvement:\n",
    "- Explore using ngrams. Instead of tokenizing text solely by space separation, consider 2-3 words together as one unit. Perhaps longer phrases would give us enough context at first glance."
   ]
  },
  {
   "cell_type": "code",
   "execution_count": null,
   "metadata": {},
   "outputs": [],
   "source": []
  }
 ],
 "metadata": {
  "anaconda-cloud": {},
  "kernelspec": {
   "display_name": "Python 3",
   "language": "python",
   "name": "python3"
  },
  "language_info": {
   "codemirror_mode": {
    "name": "ipython",
    "version": 3
   },
   "file_extension": ".py",
   "mimetype": "text/x-python",
   "name": "python",
   "nbconvert_exporter": "python",
   "pygments_lexer": "ipython3",
   "version": "3.7.1"
  }
 },
 "nbformat": 4,
 "nbformat_minor": 2
}
