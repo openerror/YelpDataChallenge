{
 "cells": [
  {
   "cell_type": "markdown",
   "metadata": {},
   "source": [
    "# Yelp Data Challenge - Topic Discovery Among Reviews\n",
    "Restaurant owners would probably like to get a better understanding of diners, and data scientists can help by clustering (vectorizer) restaurant reviews. Here we utilize K-means clustering to discover\n",
    "- the cuisines commonly reviewed in Las Vegas\n",
    "- the concerns that diners commonly share"
   ]
  },
  {
   "cell_type": "code",
   "execution_count": 4,
   "metadata": {},
   "outputs": [],
   "source": [
    "import pandas as pd\n",
    "import numpy as np\n",
    "import matplotlib.pyplot as plt\n",
    "plt.style.use(\"ggplot\")"
   ]
  },
  {
   "cell_type": "code",
   "execution_count": 5,
   "metadata": {},
   "outputs": [
    {
     "data": {
      "text/html": [
       "<div>\n",
       "<style scoped>\n",
       "    .dataframe tbody tr th:only-of-type {\n",
       "        vertical-align: middle;\n",
       "    }\n",
       "\n",
       "    .dataframe tbody tr th {\n",
       "        vertical-align: top;\n",
       "    }\n",
       "\n",
       "    .dataframe thead th {\n",
       "        text-align: right;\n",
       "    }\n",
       "</style>\n",
       "<table border=\"1\" class=\"dataframe\">\n",
       "  <thead>\n",
       "    <tr style=\"text-align: right;\">\n",
       "      <th></th>\n",
       "      <th>business_id</th>\n",
       "      <th>name</th>\n",
       "      <th>categories</th>\n",
       "      <th>avg_stars</th>\n",
       "      <th>attributes</th>\n",
       "      <th>cool</th>\n",
       "      <th>date</th>\n",
       "      <th>funny</th>\n",
       "      <th>review_id</th>\n",
       "      <th>stars</th>\n",
       "      <th>text</th>\n",
       "      <th>useful</th>\n",
       "      <th>user_id</th>\n",
       "    </tr>\n",
       "  </thead>\n",
       "  <tbody>\n",
       "    <tr>\n",
       "      <th>0</th>\n",
       "      <td>2kWrSFkIes_d2BMg4YrRtA</td>\n",
       "      <td>Pizza Hut</td>\n",
       "      <td>Restaurants, Pizza</td>\n",
       "      <td>2.5</td>\n",
       "      <td>{'Alcohol': 'none', 'Ambience': \"{'romantic': ...</td>\n",
       "      <td>0</td>\n",
       "      <td>2017-04-01</td>\n",
       "      <td>0</td>\n",
       "      <td>Spl0fx_X6bjPASU-zUJQUA</td>\n",
       "      <td>1</td>\n",
       "      <td>Ordered a pizza, the location is literally in ...</td>\n",
       "      <td>1</td>\n",
       "      <td>vZ-eQzpCOrSWfBfU5KUvIA</td>\n",
       "    </tr>\n",
       "    <tr>\n",
       "      <th>1</th>\n",
       "      <td>2kWrSFkIes_d2BMg4YrRtA</td>\n",
       "      <td>Pizza Hut</td>\n",
       "      <td>Restaurants, Pizza</td>\n",
       "      <td>2.5</td>\n",
       "      <td>{'Alcohol': 'none', 'Ambience': \"{'romantic': ...</td>\n",
       "      <td>0</td>\n",
       "      <td>2016-11-20</td>\n",
       "      <td>0</td>\n",
       "      <td>2UV-a8pXUdbK0fdurFwXfQ</td>\n",
       "      <td>5</td>\n",
       "      <td>Very busy place but they take good care of you...</td>\n",
       "      <td>0</td>\n",
       "      <td>nu6wU6PLbL9HPLZuqon0-A</td>\n",
       "    </tr>\n",
       "    <tr>\n",
       "      <th>2</th>\n",
       "      <td>2kWrSFkIes_d2BMg4YrRtA</td>\n",
       "      <td>Pizza Hut</td>\n",
       "      <td>Restaurants, Pizza</td>\n",
       "      <td>2.5</td>\n",
       "      <td>{'Alcohol': 'none', 'Ambience': \"{'romantic': ...</td>\n",
       "      <td>0</td>\n",
       "      <td>2018-03-27</td>\n",
       "      <td>0</td>\n",
       "      <td>vG5m3TzOf5F52jzO2D_19g</td>\n",
       "      <td>3</td>\n",
       "      <td>Stopped here to pick up an order of wings on m...</td>\n",
       "      <td>0</td>\n",
       "      <td>KEerqlFNhzl1I-yVK6mHVA</td>\n",
       "    </tr>\n",
       "  </tbody>\n",
       "</table>\n",
       "</div>"
      ],
      "text/plain": [
       "              business_id       name          categories  avg_stars  \\\n",
       "0  2kWrSFkIes_d2BMg4YrRtA  Pizza Hut  Restaurants, Pizza        2.5   \n",
       "1  2kWrSFkIes_d2BMg4YrRtA  Pizza Hut  Restaurants, Pizza        2.5   \n",
       "2  2kWrSFkIes_d2BMg4YrRtA  Pizza Hut  Restaurants, Pizza        2.5   \n",
       "\n",
       "                                          attributes  cool        date  funny  \\\n",
       "0  {'Alcohol': 'none', 'Ambience': \"{'romantic': ...     0  2017-04-01      0   \n",
       "1  {'Alcohol': 'none', 'Ambience': \"{'romantic': ...     0  2016-11-20      0   \n",
       "2  {'Alcohol': 'none', 'Ambience': \"{'romantic': ...     0  2018-03-27      0   \n",
       "\n",
       "                review_id  stars  \\\n",
       "0  Spl0fx_X6bjPASU-zUJQUA      1   \n",
       "1  2UV-a8pXUdbK0fdurFwXfQ      5   \n",
       "2  vG5m3TzOf5F52jzO2D_19g      3   \n",
       "\n",
       "                                                text  useful  \\\n",
       "0  Ordered a pizza, the location is literally in ...       1   \n",
       "1  Very busy place but they take good care of you...       0   \n",
       "2  Stopped here to pick up an order of wings on m...       0   \n",
       "\n",
       "                  user_id  \n",
       "0  vZ-eQzpCOrSWfBfU5KUvIA  \n",
       "1  nu6wU6PLbL9HPLZuqon0-A  \n",
       "2  KEerqlFNhzl1I-yVK6mHVA  "
      ]
     },
     "execution_count": 5,
     "metadata": {},
     "output_type": "execute_result"
    }
   ],
   "source": [
    "df = pd.read_csv('data/last_2_years_restaurant_reviews.csv')\n",
    "df.head(3)"
   ]
  },
  {
   "cell_type": "code",
   "execution_count": 6,
   "metadata": {},
   "outputs": [
    {
     "data": {
      "text/plain": [
       "business_id     0\n",
       "name            0\n",
       "categories      0\n",
       "avg_stars       0\n",
       "attributes     84\n",
       "cool            0\n",
       "date            0\n",
       "funny           0\n",
       "review_id       0\n",
       "stars           0\n",
       "text            0\n",
       "useful          0\n",
       "user_id         0\n",
       "dtype: int64"
      ]
     },
     "execution_count": 6,
     "metadata": {},
     "output_type": "execute_result"
    }
   ],
   "source": [
    "# Minor number of NAs in 'attributes'; fortunately, we won't need that feature\n",
    "pd.DataFrame.sum(df.isna())"
   ]
  },
  {
   "cell_type": "code",
   "execution_count": 7,
   "metadata": {},
   "outputs": [],
   "source": [
    "# Take the values of the column that contains review text data, save to a variable named \"documents\"\n",
    "documents = df.text"
   ]
  },
  {
   "cell_type": "code",
   "execution_count": 8,
   "metadata": {},
   "outputs": [
    {
     "name": "stdout",
     "output_type": "stream",
     "text": [
      "(101569,)\n"
     ]
    }
   ],
   "source": [
    "# The number of reviews\n",
    "print(documents.shape)"
   ]
  },
  {
   "cell_type": "markdown",
   "metadata": {},
   "source": [
    "## Splitting into training and test sets\n",
    "\n",
    "We can simulate the influx of new data by creating a held-out \"test set\". K-means clustering is of course unsupervised; we are just borrowing terminology from supervised methods."
   ]
  },
  {
   "cell_type": "code",
   "execution_count": 9,
   "metadata": {},
   "outputs": [],
   "source": [
    "from sklearn.model_selection import train_test_split\n",
    "\n",
    "documents_train, documents_test = train_test_split(documents, test_size=0.20, random_state=49)"
   ]
  },
  {
   "cell_type": "markdown",
   "metadata": {},
   "source": [
    "## Data-driven discovery of stop words\n",
    "For this exercise we will consider unigrams and bigrams only. We will plot their frequency distribution, and experiment with various cutoffs for rejecting tokens. In particular, we want to filter out words that are\n",
    "1. so common that they contain little specific information\n",
    "2. so infrequent that they describe specific niche situations.\n",
    "\n",
    "To accomplish the goals above, two successive steps are taken:\n",
    "1. Filter tokens with too small/big a document-frequency.\n",
    "2. Then, count the remaining tokens, and determine additional thresholds on *corpus-wide* term frequencies"
   ]
  },
  {
   "cell_type": "code",
   "execution_count": 10,
   "metadata": {},
   "outputs": [],
   "source": [
    "from sklearn.feature_extraction.text import CountVectorizer"
   ]
  },
  {
   "cell_type": "code",
   "execution_count": 11,
   "metadata": {},
   "outputs": [],
   "source": [
    "# First filter by DF: note the arguments fed into CountVectorizer\n",
    "# To reiterate: we have ~100,000 reviews. 1% of that is 1000 reviews, reasonable min_df?\n",
    "\n",
    "count_vectorizer = CountVectorizer(ngram_range=(1,2), min_df=0.01, max_df=0.95)\n",
    "token_counts = count_vectorizer.fit_transform(documents_train)"
   ]
  },
  {
   "cell_type": "code",
   "execution_count": 13,
   "metadata": {},
   "outputs": [],
   "source": [
    "# Turn into numpy arrays for boolean masking later\n",
    "unigram_indices = np.asarray([ix for token,ix in count_vectorizer.vocabulary_.items() \\\n",
    "                              if len(token.split())==1])\n",
    "\n",
    "bigram_indices = np.asarray([ix for token,ix in count_vectorizer.vocabulary_.items()\\\n",
    "                             if len(token.split())==2])"
   ]
  },
  {
   "cell_type": "code",
   "execution_count": 14,
   "metadata": {},
   "outputs": [],
   "source": [
    "# CORPUS-WIDE term frequency; take log10 to compress the range\n",
    "unigram_tf = np.log10( np.sum(token_counts[:, unigram_indices], axis=0) )\n",
    "bigram_tf = np.log10( np.sum(token_counts[:, bigram_indices], axis=0) )\n",
    "\n",
    "# Without these two lines, plotting cumulative frequencies would take forever\n",
    "unigram_tf = np.asarray(unigram_tf).reshape(-1)\n",
    "bigram_tf = np.asarray(bigram_tf).reshape(-1)"
   ]
  },
  {
   "cell_type": "code",
   "execution_count": 15,
   "metadata": {},
   "outputs": [
    {
     "data": {
      "text/plain": [
       "Text(0.5, 1.0, 'Bigram Distribution')"
      ]
     },
     "execution_count": 15,
     "metadata": {},
     "output_type": "execute_result"
    },
    {
     "data": {
      "image/png": "[encoded data removed]",
      "text/plain": [
       "<Figure size 432x288 with 2 Axes>"
      ]
     },
     "metadata": {
      "needs_background": "light"
     },
     "output_type": "display_data"
    }
   ],
   "source": [
    "# Cumulative frequency plot of corpus-wide TF\n",
    "# Rather arbitarily, we will remove tokens beyond 0.9; will validate results manually below\n",
    "\n",
    "fig, axes = plt.subplots(1,2)\n",
    "plt.tight_layout()\n",
    "axes[0].hist(unigram_tf, bins=10, cumulative=True, density=True)\n",
    "axes[1].hist(bigram_tf, bins=10, cumulative=True, density=True)\n",
    "\n",
    "axes[0].set_xlabel(\"Log10 TF\")\n",
    "axes[1].set_xlabel(\"Log10 TF\")\n",
    "\n",
    "axes[0].set_title(\"Unigram Distribution\")\n",
    "axes[1].set_title(\"Bigram Distribution\")"
   ]
  },
  {
   "cell_type": "markdown",
   "metadata": {},
   "source": [
    "### Filter and validate!"
   ]
  },
  {
   "cell_type": "code",
   "execution_count": 16,
   "metadata": {},
   "outputs": [],
   "source": [
    "# Create index-to-string lookup table; so that we know which tokens are filtered out\n",
    "ix_to_token = {ix:token for token,ix in count_vectorizer.vocabulary_.items()}"
   ]
  },
  {
   "cell_type": "code",
   "execution_count": 17,
   "metadata": {},
   "outputs": [
    {
     "name": "stdout",
     "output_type": "stream",
     "text": [
      "{'so', 'time', 'our', 'or', 'the', 'with', 'get', 'you', 'order', 'had', 'really', 'not', 'in', 'from', 'was', 'also', 'vegas', 'they', 'great', 'but', 'can', 'their', 'all', 'to', 'restaurant', 'go', 'ordered', 'are', 'we', 'of', 'is', 'here', 'me', 'will', 'on', 'out', 'us', 'back', 'when', 'that', 'which', 'my', 'it', 'at', 'good', 'there', 'for', 'as', 'were', 'service', 'very', 'just', 'would', 'have', 'one', 'be', 'this', 'place', 'like', 'if', 'and', 'up', 'food'}\n",
      "{'as well', 'it was', 'and it', 'this place', 'service was', 'was very', 'on the', 'from the', 'the service', 'all the', 'the food', 'but the', 'was great', 'food and', 'we were', 'for the', 'place is', 'we had', 'had the', 'in vegas', 'was good', 'they have', 'if you', 'to get', 'and they', 'food was', 'was the', 'to be', 'this is', 'but it', 'be back', 'is the', 'to go', 'the restaurant', 'had to', 'the menu', 'with the', 'and we', 'they were', 'at the', 'food is', 'the best', 'ordered the', 'it is', 'was so', 'to the', 'to try', 'one of', 'and the', 'you can', 'of the', 'in the'}\n"
     ]
    }
   ],
   "source": [
    "# Thresholds of 4.x and ~3.x eyeballed from cumulative frequency graphs\n",
    "# Tried a few near values to optimize results --- e.g. so that no tokens describing\n",
    "# specific food items are included in the 'drop list'\n",
    "\n",
    "# As seen below, vast majority of unigrams and bigrams filtered out are grammatical constructs \n",
    "# without much semantic meaning on their own --- 'so', 'the', 'not', 'from', 'in/of the' etc.\n",
    "# There are also food-related terms that we can safely assume to be so common in restaurant\n",
    "# reviews that they can be ignored: 'food', 'menu', 'the menu', 'in vegas' etc\n",
    "\n",
    "unigrams_to_drop_ix = unigram_indices[unigram_tf > 4.2]\n",
    "bigrams_to_drop_ix = bigram_indices[bigram_tf > 3.7]\n",
    "\n",
    "excess_unigrams = set([ix_to_token[ix] for ix in unigrams_to_drop_ix])\n",
    "excess_bigrams = set([ix_to_token[ix] for ix in bigrams_to_drop_ix])\n",
    "\n",
    "print(excess_unigrams)\n",
    "print(excess_bigrams)"
   ]
  },
  {
   "cell_type": "code",
   "execution_count": 18,
   "metadata": {},
   "outputs": [],
   "source": [
    "final_vocab = [token for token in count_vectorizer.vocabulary_.keys() \n",
    "               if (token not in excess_bigrams) and (token not in excess_unigrams)]"
   ]
  },
  {
   "cell_type": "markdown",
   "metadata": {},
   "source": [
    "## Obtain TF-IDF representation of `documents`\n",
    "\n",
    "Consider only unigrams + bigrams, and obtain Tf-Idf vectors of `documents`. "
   ]
  },
  {
   "cell_type": "code",
   "execution_count": 19,
   "metadata": {},
   "outputs": [],
   "source": [
    "from sklearn.feature_extraction.text import TfidfVectorizer"
   ]
  },
  {
   "cell_type": "code",
   "execution_count": 20,
   "metadata": {},
   "outputs": [],
   "source": [
    "# Create TfidfVectorizer, and name it vectorizer\n",
    "tfidf_vectorizer = TfidfVectorizer(ngram_range=(1,2),\n",
    "                                   vocabulary=final_vocab)"
   ]
  },
  {
   "cell_type": "code",
   "execution_count": 21,
   "metadata": {},
   "outputs": [],
   "source": [
    "# Fit the vectorizer with training data\n",
    "vec_doc_train = tfidf_vectorizer.fit_transform(documents_train)\n",
    "\n",
    "# Transform all data together\n",
    "vec_doc_all = tfidf_vectorizer.transform(documents)"
   ]
  },
  {
   "cell_type": "code",
   "execution_count": 22,
   "metadata": {},
   "outputs": [
    {
     "name": "stdout",
     "output_type": "stream",
     "text": [
      "Vocabulary contains 1536 items\n"
     ]
    }
   ],
   "source": [
    "# Now that vectorizer is fitted, Get the vocab of your tfidf\n",
    "# vectorizer.vocabulary_ records feature indices!\n",
    "token_to_index = tfidf_vectorizer.vocabulary_\n",
    "\n",
    "# Reverse dictionary for interpreting results\n",
    "index_to_token = {index:token for token,index in token_to_index.items()}\n",
    "\n",
    "print(\"Vocabulary contains {} items\".format(len(tfidf_vectorizer.vocabulary_)))"
   ]
  },
  {
   "cell_type": "markdown",
   "metadata": {},
   "source": [
    "## Finally, cluster reviews with KMeans\n",
    "Fit k-means clustering with \"training data\", and then apply it on the entire data set. Tune with the elbow method."
   ]
  },
  {
   "cell_type": "code",
   "execution_count": 23,
   "metadata": {},
   "outputs": [],
   "source": [
    "# Using sklearn.cluster.MiniBatchKMeans instead of sklearn.cluster.KMeans\n",
    "# Slightly worse clustering maybe? But much faster convergence\n",
    "\n",
    "from sklearn.cluster import MiniBatchKMeans"
   ]
  },
  {
   "cell_type": "code",
   "execution_count": 24,
   "metadata": {},
   "outputs": [],
   "source": [
    "# Define function for printing top features of each cluster\n",
    "# 'Top features' being the largest components of the centroid vector \n",
    "# Remember: TF-IDF vector components are always non-negative, so we don't have to worry about sign\n",
    "\n",
    "def print_top_features(kmeans_obj, ix_to_tokens, n=10):\n",
    "    '''\n",
    "        Reveals the 'most important' tokens in each KMeans cluster\n",
    "        \n",
    "        Args:\n",
    "            kmeans_obj: fitted sklearn.cluster.MiniBatchKMeans() or KMeans() object\n",
    "            ix_to_tokens: dictionary mapping feature indices to string token\n",
    "            n: integer number of top tokens to display\n",
    "    '''\n",
    "    cluster_centers = kmeans_obj.cluster_centers_\n",
    "    labels = kmeans_obj.labels_\n",
    "    \n",
    "    for i, centroid in enumerate(cluster_centers):\n",
    "        top_n_features = np.argsort(centroid)[::-1]\n",
    "        top_n_features = top_n_features[:n]\n",
    "        top_n_words = [ix_to_tokens[feature_index] for feature_index in top_n_features]\n",
    "\n",
    "        print(\"Top tokens from cluster {} (# of obs: {})\".format(i, (labels==i).sum()))\n",
    "        print(top_n_words)"
   ]
  },
  {
   "cell_type": "code",
   "execution_count": 25,
   "metadata": {},
   "outputs": [
    {
     "name": "stdout",
     "output_type": "stream",
     "text": [
      "Top tokens from cluster 0 (# of obs: 34861)\n",
      "['amazing', 'best', 'delicious', 'love', 'friendly', 'staff', 'definitely', 'always', 'recommend', 'excellent']\n",
      "Top tokens from cluster 1 (# of obs: 21855)\n",
      "['he', 'she', 'been', 'no', 'never', 'about', 'her', 'even', 'came', 'because']\n",
      "Top tokens from cluster 2 (# of obs: 44853)\n",
      "['chicken', 'too', 'pizza', 'got', 'more', 'only', 'little', 'your', 'some', 'don']\n"
     ]
    }
   ],
   "source": [
    "# Start with arbitrary K = 3, as a trial\n",
    "kmeans = MiniBatchKMeans(n_clusters=3, batch_size=500, max_iter=1000, n_init=5)\n",
    "kmeans.fit(vec_doc_all)\n",
    "print_top_features(kmeans, index_to_token, n=10)"
   ]
  },
  {
   "cell_type": "markdown",
   "metadata": {},
   "source": [
    "### Experiment with different K\n",
    "\n",
    "Attempt to find optimal K's using elbow method. Also tried silhouette score, but computations on a representative sample takes far too long. Elbow method it is!"
   ]
  },
  {
   "cell_type": "code",
   "execution_count": 39,
   "metadata": {},
   "outputs": [],
   "source": [
    "# from sklearn.metrics import silhouette_score\n",
    "import elbow"
   ]
  },
  {
   "cell_type": "code",
   "execution_count": 42,
   "metadata": {},
   "outputs": [
    {
     "data": {
      "text/plain": [
       "Text(0, 0.5, 'Mean Intra-cluster SS')"
      ]
     },
     "execution_count": 42,
     "metadata": {},
     "output_type": "execute_result"
    },
    {
     "data": {
      "image/png": "[encoded data removed]",
      "text/plain": [
       "<Figure size 432x288 with 1 Axes>"
      ]
     },
     "metadata": {
      "needs_background": "light"
     },
     "output_type": "display_data"
    }
   ],
   "source": [
    "k_to_try = range(3, 34, 3)\n",
    "intra_cluster_ss = elbow.elbow_tuner(vec_doc_train, k_to_try)\n",
    "plt.plot(k_to_try, intra_cluster_ss, '-+')\n",
    "plt.xlabel('K #(Number of Clusters)')\n",
    "plt.ylabel('Mean Intra-cluster SS')"
   ]
  },
  {
   "cell_type": "code",
   "execution_count": 45,
   "metadata": {},
   "outputs": [
    {
     "name": "stdout",
     "output_type": "stream",
     "text": [
      "Top tokens from cluster 0 (# of obs: 3450)\n",
      "['pho', 'ramen', 'broth', 'pork', 'noodles', 'the broth', 'bowl', 'the pork']\n",
      "Top tokens from cluster 1 (# of obs: 6965)\n",
      "['chicken', 'rice', 'the chicken', 'fried', 'thai', 'fried rice', 'curry', 'chicken and']\n",
      "Top tokens from cluster 2 (# of obs: 2832)\n",
      "['favorite', 'my favorite', 'always', 'of my', 'is my', 'love', 'delicious', 'amazing']\n",
      "Top tokens from cluster 3 (# of obs: 2129)\n",
      "['loved', 'loved the', 'loved it', 'definitely', 'delicious', 'amazing', 'everything', 'friendly']\n",
      "Top tokens from cluster 4 (# of obs: 24940)\n",
      "['delicious', 'burger', 'fries', 'nice', 'try', 'excellent', 'cheese', 'too']\n",
      "Top tokens from cluster 5 (# of obs: 21565)\n",
      "['she', 'he', 'no', 'about', 'what', 'because', 'even', 'didn']\n",
      "Top tokens from cluster 6 (# of obs: 2496)\n",
      "['highly', 'highly recommend', 'recommend', 'recommend this', 'delicious', 'recommend the', 'amazing', 'best']\n",
      "Top tokens from cluster 7 (# of obs: 4557)\n",
      "['pizza', 'the pizza', 'pizza was', 'pizza and', 'crust', 'cheese', 'slice', 'delivery']\n",
      "Top tokens from cluster 8 (# of obs: 7779)\n",
      "['sushi', 'always', 'staff', 'friendly', 'the staff', 'is always', 'friendly and', 'fresh']\n",
      "Top tokens from cluster 9 (# of obs: 3042)\n",
      "['better', 'than', 'better than', 'much better', 'much', 'than the', 'buffet', 'other']\n",
      "Top tokens from cluster 10 (# of obs: 1814)\n",
      "['great food', 'great service', 'and great', 'atmosphere', 'definitely', 'friendly', 'staff', 'service and']\n",
      "Top tokens from cluster 11 (# of obs: 4448)\n",
      "['best', 'ever', 've', 'ever had', 've ever', 'have ever', 'had in', 've had']\n",
      "Top tokens from cluster 12 (# of obs: 2986)\n",
      "['pretty', 'pretty good', 'was pretty', 'is pretty', 'too', 'got', 'nice', 'little']\n",
      "Top tokens from cluster 13 (# of obs: 1)\n",
      "['pad', 'feel like', 'use', 'usually', 'the chicken', 'feel', 'chicken', 'don']\n",
      "Top tokens from cluster 14 (# of obs: 3942)\n",
      "['love', 'love this', 'love the', 'always', 'best', 'delicious', 'friendly', 'amazing']\n",
      "Top tokens from cluster 15 (# of obs: 6212)\n",
      "['amazing', 'was amazing', 'definitely', 'is amazing', 'will definitely', 'amazing and', 'definitely be', 'delicious']\n",
      "Top tokens from cluster 16 (# of obs: 2411)\n",
      "['prices', 'prices are', 'the prices', 'reasonable', 'portions', 'friendly', 'high', 'nice']\n"
     ]
    }
   ],
   "source": [
    "'''\n",
    "    Take first elbow at around K=17; tried values larger than 25, \n",
    "    but that gives multiple clusters that contain only one obseration.\n",
    "    Finally, print top 8 features related to each cluster\n",
    "'''\n",
    "\n",
    "kmeans_final = MiniBatchKMeans(n_clusters=17, n_init=5).fit(vec_doc_all)\n",
    "print_top_features(kmeans_final, index_to_token, n=8)"
   ]
  },
  {
   "cell_type": "markdown",
   "metadata": {},
   "source": [
    "## Summary and Observations\n",
    "\n",
    "### Popular Categories of Food\n",
    "(Vietnamese) pho noodles, (Japanese) ramen, sushi, pizzas, Thai curry and fried rice all have their place in Las Vegas. However, it is burgers and fries (cluster 4) that seem to be overwhelmingly popular. The 'ethnic' food clusters each contain a few thousand review, while the burger cluster (#4) contain 24940 reviews. Recall that we have ~100,000 reviews in total!\n",
    "\n",
    "Since it is highly unlikely that a restaurant would serve mutliple cuisines, we can assume that the there is minimal overlap in content among these 'cusine clusters'.\n",
    "\n",
    "### Items of Attention for Restaurants\n",
    "In case it isn't crystal clear, the **taste** of food matters --- as shown by the recurrence of 'delicious' in five different clusters. It is also vital to have **friendly staff** (clusters 3,8,10,14).\n",
    "Last but not least, (maybe depending on the cusine) the restaurant's **atmosphere** and price play a role, too. See clusters 10 and 16.\n",
    "\n",
    "On the other hand, as shown in `Preprocessing.ipynb`, most reviews gave 3 stars or above. Therefore it is no wonder that we hardly see tokens representing negative sentiment here. To put culinary pitfalls into focus, we must analyze the bad reviews separately.\n",
    "\n",
    "### Further Refinement of Analysis Technique?\n",
    "While including bigrams help, the analysis is hampered by tokens that contain repetitive information. For instance in cluster 6, we have ('highly recommend', 'recommend', 'recommend this'), which could even be different parts of the same sentence, overlapping at 'recommend'. \n",
    "\n",
    "To reduce the aforementioned 'noise', a better phrase-detection method is called for. This [blog post by Git(Hub) data scientist Kavita Ganesan](http://kavita-ganesan.com/how-to-incorporate-phrases-into-word2vec-a-text-mining-approach/#.WuiiKtMvyds) may contain some clues, but in the interest of time I will stop here for now.\n",
    "\n",
    "A more esoteric concern is that clustering results may be quantitatively mediocre. Since scikit-learn's TfidfVectorizer normalizes the L2 norm of each observation to unit length, a mean squared centroid-observation distance of 0.9x implies that *some* clusters may overlap quite a bit in the hypersphere.\n",
    "\n",
    "Could this a manifestation of the dimensionality curse? We do have 15xx features after all. Maybe we can apply PCA first, then cluster and attempt to discover themes? Will leave this for the next iteration of notebook."
   ]
  }
 ],
 "metadata": {
  "kernelspec": {
   "display_name": "Python 3",
   "language": "python",
   "name": "python3"
  },
  "language_info": {
   "codemirror_mode": {
    "name": "ipython",
    "version": 3
   },
   "file_extension": ".py",
   "mimetype": "text/x-python",
   "name": "python",
   "nbconvert_exporter": "python",
   "pygments_lexer": "ipython3",
   "version": "3.7.2"
  }
 },
 "nbformat": 4,
 "nbformat_minor": 2
}
