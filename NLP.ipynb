{
 "cells": [
  {
   "cell_type": "markdown",
   "metadata": {},
   "source": [
    "# Yelp Data Challenge - NLP\n",
    "We will build a sentiment analysis system for the review texts. Such a system would be useful in pinpointing difficulties encountered by businesses --- or their successes, for that matter. Useful, when we don't have time to comb through many reviews.\n",
    "\n",
    "In this project, we will simulate encountering new data with a heldout test set."
   ]
  },
  {
   "cell_type": "markdown",
   "metadata": {},
   "source": [
    "## Load data\n",
    "We will use the DataFrame constructed in `Data_Preprocessing.ipynb`. It contains reviews of restaurants from Las Vegas from approximately the last 2 years."
   ]
  },
  {
   "cell_type": "code",
   "execution_count": 1,
   "metadata": {},
   "outputs": [],
   "source": [
    "import pandas as pd\n",
    "import matplotlib.pyplot as plt\n",
    "plt.style.use(\"ggplot\")"
   ]
  },
  {
   "cell_type": "code",
   "execution_count": 2,
   "metadata": {},
   "outputs": [
    {
     "data": {
      "text/html": [
       "<div>\n",
       "<style scoped>\n",
       "    .dataframe tbody tr th:only-of-type {\n",
       "        vertical-align: middle;\n",
       "    }\n",
       "\n",
       "    .dataframe tbody tr th {\n",
       "        vertical-align: top;\n",
       "    }\n",
       "\n",
       "    .dataframe thead th {\n",
       "        text-align: right;\n",
       "    }\n",
       "</style>\n",
       "<table border=\"1\" class=\"dataframe\">\n",
       "  <thead>\n",
       "    <tr style=\"text-align: right;\">\n",
       "      <th></th>\n",
       "      <th>business_id</th>\n",
       "      <th>name</th>\n",
       "      <th>categories</th>\n",
       "      <th>avg_stars</th>\n",
       "      <th>attributes</th>\n",
       "      <th>cool</th>\n",
       "      <th>date</th>\n",
       "      <th>funny</th>\n",
       "      <th>review_id</th>\n",
       "      <th>stars</th>\n",
       "      <th>text</th>\n",
       "      <th>useful</th>\n",
       "      <th>user_id</th>\n",
       "    </tr>\n",
       "  </thead>\n",
       "  <tbody>\n",
       "    <tr>\n",
       "      <th>0</th>\n",
       "      <td>2kWrSFkIes_d2BMg4YrRtA</td>\n",
       "      <td>Pizza Hut</td>\n",
       "      <td>Restaurants, Pizza</td>\n",
       "      <td>2.5</td>\n",
       "      <td>{'Alcohol': 'none', 'Ambience': \"{'romantic': ...</td>\n",
       "      <td>0</td>\n",
       "      <td>2017-04-01</td>\n",
       "      <td>0</td>\n",
       "      <td>Spl0fx_X6bjPASU-zUJQUA</td>\n",
       "      <td>1</td>\n",
       "      <td>Ordered a pizza, the location is literally in ...</td>\n",
       "      <td>1</td>\n",
       "      <td>vZ-eQzpCOrSWfBfU5KUvIA</td>\n",
       "    </tr>\n",
       "    <tr>\n",
       "      <th>1</th>\n",
       "      <td>2kWrSFkIes_d2BMg4YrRtA</td>\n",
       "      <td>Pizza Hut</td>\n",
       "      <td>Restaurants, Pizza</td>\n",
       "      <td>2.5</td>\n",
       "      <td>{'Alcohol': 'none', 'Ambience': \"{'romantic': ...</td>\n",
       "      <td>0</td>\n",
       "      <td>2016-11-20</td>\n",
       "      <td>0</td>\n",
       "      <td>2UV-a8pXUdbK0fdurFwXfQ</td>\n",
       "      <td>5</td>\n",
       "      <td>Very busy place but they take good care of you...</td>\n",
       "      <td>0</td>\n",
       "      <td>nu6wU6PLbL9HPLZuqon0-A</td>\n",
       "    </tr>\n",
       "    <tr>\n",
       "      <th>2</th>\n",
       "      <td>2kWrSFkIes_d2BMg4YrRtA</td>\n",
       "      <td>Pizza Hut</td>\n",
       "      <td>Restaurants, Pizza</td>\n",
       "      <td>2.5</td>\n",
       "      <td>{'Alcohol': 'none', 'Ambience': \"{'romantic': ...</td>\n",
       "      <td>0</td>\n",
       "      <td>2018-03-27</td>\n",
       "      <td>0</td>\n",
       "      <td>vG5m3TzOf5F52jzO2D_19g</td>\n",
       "      <td>3</td>\n",
       "      <td>Stopped here to pick up an order of wings on m...</td>\n",
       "      <td>0</td>\n",
       "      <td>KEerqlFNhzl1I-yVK6mHVA</td>\n",
       "    </tr>\n",
       "  </tbody>\n",
       "</table>\n",
       "</div>"
      ],
      "text/plain": [
       "              business_id       name          categories  avg_stars  \\\n",
       "0  2kWrSFkIes_d2BMg4YrRtA  Pizza Hut  Restaurants, Pizza        2.5   \n",
       "1  2kWrSFkIes_d2BMg4YrRtA  Pizza Hut  Restaurants, Pizza        2.5   \n",
       "2  2kWrSFkIes_d2BMg4YrRtA  Pizza Hut  Restaurants, Pizza        2.5   \n",
       "\n",
       "                                          attributes  cool        date  funny  \\\n",
       "0  {'Alcohol': 'none', 'Ambience': \"{'romantic': ...     0  2017-04-01      0   \n",
       "1  {'Alcohol': 'none', 'Ambience': \"{'romantic': ...     0  2016-11-20      0   \n",
       "2  {'Alcohol': 'none', 'Ambience': \"{'romantic': ...     0  2018-03-27      0   \n",
       "\n",
       "                review_id  stars  \\\n",
       "0  Spl0fx_X6bjPASU-zUJQUA      1   \n",
       "1  2UV-a8pXUdbK0fdurFwXfQ      5   \n",
       "2  vG5m3TzOf5F52jzO2D_19g      3   \n",
       "\n",
       "                                                text  useful  \\\n",
       "0  Ordered a pizza, the location is literally in ...       1   \n",
       "1  Very busy place but they take good care of you...       0   \n",
       "2  Stopped here to pick up an order of wings on m...       0   \n",
       "\n",
       "                  user_id  \n",
       "0  vZ-eQzpCOrSWfBfU5KUvIA  \n",
       "1  nu6wU6PLbL9HPLZuqon0-A  \n",
       "2  KEerqlFNhzl1I-yVK6mHVA  "
      ]
     },
     "execution_count": 2,
     "metadata": {},
     "output_type": "execute_result"
    }
   ],
   "source": [
    "df = pd.read_csv('data/last_2_years_restaurant_reviews.csv')\n",
    "df.head(3)"
   ]
  },
  {
   "cell_type": "code",
   "execution_count": 3,
   "metadata": {},
   "outputs": [
    {
     "data": {
      "text/plain": [
       "business_id     0\n",
       "name            0\n",
       "categories      0\n",
       "avg_stars       0\n",
       "attributes     84\n",
       "cool            0\n",
       "date            0\n",
       "funny           0\n",
       "review_id       0\n",
       "stars           0\n",
       "text            0\n",
       "useful          0\n",
       "user_id         0\n",
       "dtype: int64"
      ]
     },
     "execution_count": 3,
     "metadata": {},
     "output_type": "execute_result"
    }
   ],
   "source": [
    "# Minor number of NAs in 'attributes'; fortunately, we won't need that feature\n",
    "pd.DataFrame.sum(df.isna())"
   ]
  },
  {
   "cell_type": "markdown",
   "metadata": {},
   "source": [
    "### Extract review texts"
   ]
  },
  {
   "cell_type": "code",
   "execution_count": 4,
   "metadata": {},
   "outputs": [],
   "source": [
    "# Take the values of the column that contains review text data, save to a variable named \"documents\"\n",
    "documents = df.text"
   ]
  },
  {
   "cell_type": "code",
   "execution_count": 5,
   "metadata": {},
   "outputs": [
    {
     "name": "stdout",
     "output_type": "stream",
     "text": [
      "There are 101569 reviews in total.\n",
      "Sample: Ordered a pizza, the location is literally in front of my apartment complex and my pizza was cold. Must have been sitting there for for almost an hour for as cold as it was, the drive from this location to my apartment door is all of anout five minutes. I ordered a soda and its\n",
      "obvious it was never placed in a fridge. Cold pizza and warn soda. Horrible!\n"
     ]
    },
    {
     "data": {
      "image/png": "[encoded data removed]",
      "text/plain": [
       "<Figure size 432x288 with 1 Axes>"
      ]
     },
     "metadata": {
      "needs_background": "light"
     },
     "output_type": "display_data"
    }
   ],
   "source": [
    "'''\n",
    "    Inspect documents --- check length, and display example.\n",
    "    \n",
    "    We see that reviews come in various lengths. Deep learning approaches using RNNs may work,\n",
    "    but it would be quite troublesome/RAM-consuming to pad/cut the reviews to an appropriate, uniform length.\n",
    "    Therefore, we will adopt a bag-of-words approach, to acceptable results\n",
    "'''\n",
    "\n",
    "plt.hist(documents.apply(len))\n",
    "plt.title(\"Length Distribution of Reviews\")\n",
    "plt.ylabel(\"Number of reviews\")\n",
    "plt.xlabel(\"Length of review (characters)\")\n",
    "\n",
    "print(\"There are {} reviews in total.\".format(len(documents)))\n",
    "print(\"Sample: {}\".format(documents[0]))"
   ]
  },
  {
   "cell_type": "markdown",
   "metadata": {},
   "source": [
    "### Define target variable"
   ]
  },
  {
   "cell_type": "markdown",
   "metadata": {},
   "source": [
    "Let's distinguish between perfect (5 stars) and imperfect (1-4 stars) ratings. The assumption is that if a user gives a rating lower than 4, then there are potential room for improvements!"
   ]
  },
  {
   "cell_type": "code",
   "execution_count": 10,
   "metadata": {},
   "outputs": [],
   "source": [
    "# Make a column and take the values, save to a variable named \"target\"\n",
    "target = df.stars\n",
    "target = (target == 5) #True if perfect\n",
    "target = target.astype('int')"
   ]
  },
  {
   "cell_type": "code",
   "execution_count": 11,
   "metadata": {},
   "outputs": [
    {
     "data": {
      "text/plain": [
       "0    52978\n",
       "1    48591\n",
       "Name: stars, dtype: int64"
      ]
     },
     "execution_count": 11,
     "metadata": {},
     "output_type": "execute_result"
    }
   ],
   "source": [
    "# Fortunately, target variable is almost balanced. \n",
    "target.value_counts()"
   ]
  },
  {
   "cell_type": "markdown",
   "metadata": {},
   "source": [
    "## Splitting into training and test sets"
   ]
  },
  {
   "cell_type": "code",
   "execution_count": 12,
   "metadata": {},
   "outputs": [],
   "source": [
    "from sklearn.model_selection import train_test_split"
   ]
  },
  {
   "cell_type": "code",
   "execution_count": 13,
   "metadata": {},
   "outputs": [],
   "source": [
    "# Now split the data into training set and test set\n",
    "# Use the (default) 75-25 split\n",
    "\n",
    "documents_train, documents_test, target_train, target_test = train_test_split(documents, target, \n",
    "                                                                              test_size=0.20,\n",
    "                                                                              random_state=49)"
   ]
  },
  {
   "cell_type": "markdown",
   "metadata": {},
   "source": [
    "## Obtain NLP representation of `documents`\n",
    "\n",
    "Term frequency–inverse document frequency (Tf-idf) representation of single words is used here.\n",
    "\n",
    "We are **NOT** going to filter out the NLTK stopwords, because some of them may indicate sentiment: 'don't', 'weren't' ... basically, grammatical constructs that may be useful for our task. \n",
    "\n",
    "In fact, I tried filtering out stopwords on train-test splits generated from different `random_state`'s. It hurt classification accuracy for ~1%."
   ]
  },
  {
   "cell_type": "code",
   "execution_count": 14,
   "metadata": {},
   "outputs": [],
   "source": [
    "from sklearn.feature_extraction.text import TfidfVectorizer\n",
    "from nltk.corpus import stopwords"
   ]
  },
  {
   "cell_type": "code",
   "execution_count": 15,
   "metadata": {},
   "outputs": [
    {
     "name": "stdout",
     "output_type": "stream",
     "text": [
      "['i', 'me', 'my', 'myself', 'we', 'our', 'ours', 'ourselves', 'you', \"you're\", \"you've\", \"you'll\", \"you'd\", 'your', 'yours', 'yourself', 'yourselves', 'he', 'him', 'his', 'himself', 'she', \"she's\", 'her', 'hers', 'herself', 'it', \"it's\", 'its', 'itself', 'they', 'them', 'their', 'theirs', 'themselves', 'what', 'which', 'who', 'whom', 'this', 'that', \"that'll\", 'these', 'those', 'am', 'is', 'are', 'was', 'were', 'be', 'been', 'being', 'have', 'has', 'had', 'having', 'do', 'does', 'did', 'doing', 'a', 'an', 'the', 'and', 'but', 'if', 'or', 'because', 'as', 'until', 'while', 'of', 'at', 'by', 'for', 'with', 'about', 'against', 'between', 'into', 'through', 'during', 'before', 'after', 'above', 'below', 'to', 'from', 'up', 'down', 'in', 'out', 'on', 'off', 'over', 'under', 'again', 'further', 'then', 'once', 'here', 'there', 'when', 'where', 'why', 'how', 'all', 'any', 'both', 'each', 'few', 'more', 'most', 'other', 'some', 'such', 'no', 'nor', 'not', 'only', 'own', 'same', 'so', 'than', 'too', 'very', 's', 't', 'can', 'will', 'just', 'don', \"don't\", 'should', \"should've\", 'now', 'd', 'll', 'm', 'o', 're', 've', 'y', 'ain', 'aren', \"aren't\", 'couldn', \"couldn't\", 'didn', \"didn't\", 'doesn', \"doesn't\", 'hadn', \"hadn't\", 'hasn', \"hasn't\", 'haven', \"haven't\", 'isn', \"isn't\", 'ma', 'mightn', \"mightn't\", 'mustn', \"mustn't\", 'needn', \"needn't\", 'shan', \"shan't\", 'shouldn', \"shouldn't\", 'wasn', \"wasn't\", 'weren', \"weren't\", 'won', \"won't\", 'wouldn', \"wouldn't\"]\n"
     ]
    }
   ],
   "source": [
    "# Some of the stopwords may actually carry sentiment\n",
    "print(stopwords.words('english')) "
   ]
  },
  {
   "cell_type": "code",
   "execution_count": 19,
   "metadata": {},
   "outputs": [],
   "source": [
    "# Create TfidfVectorizer, and name it vectorizer\n",
    "# Filter out only the most basic stop words\n",
    "vectorizer = TfidfVectorizer(stop_words=[\"a\", \"an\", \"the\", \"m\", \"re\", \"s\", \"t\", \"of\"])"
   ]
  },
  {
   "cell_type": "code",
   "execution_count": 20,
   "metadata": {},
   "outputs": [],
   "source": [
    "# Fit the vectorizer with training data\n",
    "vectorizer.fit(documents_train)\n",
    "X_train = vectorizer.transform(documents_train)\n",
    "\n",
    "# Use the trained vectorizer to transform test data\n",
    "X_test = vectorizer.transform(documents_test)"
   ]
  },
  {
   "cell_type": "code",
   "execution_count": 21,
   "metadata": {},
   "outputs": [
    {
     "name": "stdout",
     "output_type": "stream",
     "text": [
      "Vocabulary contains 50471 items\n"
     ]
    }
   ],
   "source": [
    "# Get the vocab of your tfidf\n",
    "vocab = vectorizer.vocabulary_\n",
    "print(\"Vocabulary contains {} items\".format(len(vocab)))"
   ]
  },
  {
   "cell_type": "markdown",
   "metadata": {},
   "source": [
    "## Build Search Engine for 'Similar' Reviews\n",
    "Once we have identified a review as positive/negative, we may want to search for other similar reviews to get a better picture of the data or the restaurant(s). Here, similarity is calculated based on Tf-idf features, and experimentally cosine similarity proves to give reasonable results.\n",
    "\n",
    "From experience working with word embeddings"
   ]
  },
  {
   "cell_type": "code",
   "execution_count": 22,
   "metadata": {},
   "outputs": [],
   "source": [
    "import numpy as np\n",
    "\n",
    "# Helper functions for selecting search engine results \n",
    "\n",
    "def get_top_values(lst, n, labels):\n",
    "    '''\n",
    "    INPUT: LIST, INTEGER, LIST\n",
    "    OUTPUT: LIST\n",
    "\n",
    "    Given a list of values, find the indices with the highest n values.\n",
    "    Return the labels for each of these indices.\n",
    "\n",
    "    e.g.\n",
    "    lst = [7, 3, 2, 4, 1]\n",
    "    n = 2\n",
    "    labels = [\"cat\", \"dog\", \"mouse\", \"pig\", \"rabbit\"]\n",
    "    output: [\"cat\", \"pig\"]\n",
    "    '''\n",
    "    return [labels[i] for i in np.argsort(lst)[::-1][:n]]  # np.argsort by default sorts values in ascending order\n",
    "\n",
    "def get_bottom_values(lst, n, labels):\n",
    "    '''\n",
    "    INPUT: LIST, INTEGER, LIST\n",
    "    OUTPUT: LIST\n",
    "\n",
    "    Given a list of values, find the indices with the lowest n values.\n",
    "    Return the labels for each of these indices.\n",
    "\n",
    "    e.g.\n",
    "    lst = [7, 3, 2, 4, 1]\n",
    "    n = 2\n",
    "    labels = [\"cat\", \"dog\", \"mouse\", \"pig\", \"rabbit\"]\n",
    "    output: [\"mouse\", \"rabbit\"]\n",
    "    '''\n",
    "    return [labels[i] for i in np.argsort(lst)[:n]]"
   ]
  },
  {
   "cell_type": "code",
   "execution_count": 23,
   "metadata": {},
   "outputs": [
    {
     "name": "stdout",
     "output_type": "stream",
     "text": [
      "['rabbit', 'mouse']\n",
      "['cat', 'pig']\n"
     ]
    }
   ],
   "source": [
    "# Test helper functions from above\n",
    "print( get_bottom_values(lst=[7, 3, 2, 4, 1], n=2, labels = [\"cat\", \"dog\", \"mouse\", \"pig\", \"rabbit\"]) ) \n",
    "print( get_top_values(lst=[7, 3, 2, 4, 1], n=2, labels = [\"cat\", \"dog\", \"mouse\", \"pig\", \"rabbit\"]) )"
   ]
  },
  {
   "cell_type": "code",
   "execution_count": 24,
   "metadata": {},
   "outputs": [],
   "source": [
    "# Let's use cosine similarity\n",
    "from sklearn.metrics.pairwise import cosine_similarity"
   ]
  },
  {
   "cell_type": "code",
   "execution_count": 25,
   "metadata": {},
   "outputs": [],
   "source": [
    "# Draw an arbitrary review from test (unseen in training) documents\n",
    "review_ind = 2103\n",
    "review = X_test[review_ind, :]"
   ]
  },
  {
   "cell_type": "code",
   "execution_count": 26,
   "metadata": {},
   "outputs": [
    {
     "data": {
      "text/plain": [
       "(array([5.9290e+03, 1.7631e+04, 2.2718e+04, 1.8443e+04, 1.0485e+04,\n",
       "        4.4360e+03, 1.3190e+03, 2.6300e+02, 2.9000e+01, 2.0000e+00]),\n",
       " array([0.        , 0.03178577, 0.06357154, 0.09535731, 0.12714308,\n",
       "        0.15892885, 0.19071462, 0.22250039, 0.25428616, 0.28607193,\n",
       "        0.3178577 ]),\n",
       " <a list of 10 Patch objects>)"
      ]
     },
     "execution_count": 26,
     "metadata": {},
     "output_type": "execute_result"
    },
    {
     "data": {
      "image/png": "[encoded data removed]",
      "text/plain": [
       "<Figure size 432x288 with 1 Axes>"
      ]
     },
     "metadata": {
      "needs_background": "light"
     },
     "output_type": "display_data"
    }
   ],
   "source": [
    "# Calculate the similarity score(s) between vector(s) and training vectors\n",
    "similarity = cosine_similarity(X_train, review)\n",
    "similarity = similarity.reshape(len(similarity),)\n",
    "\n",
    "# Cosine similarity ranges from abs(0, 1)\n",
    "# But even the top values are rather close to 0 ... Expect mediocre results\n",
    "plt.title(\"Similarity between Training Set and Picked Review\")\n",
    "plt.ylabel(\"Number of Training Set Reviews\")\n",
    "plt.xlabel(\"Cosine Similarity\")\n",
    "plt.hist(similarity)"
   ]
  },
  {
   "cell_type": "code",
   "execution_count": 27,
   "metadata": {},
   "outputs": [],
   "source": [
    "# Let's find top 4 similar reviews\n",
    "top_similar_reviews = get_top_values(lst=similarity, n=4, labels=documents_train.values)"
   ]
  },
  {
   "cell_type": "code",
   "execution_count": 28,
   "metadata": {},
   "outputs": [
    {
     "name": "stdout",
     "output_type": "stream",
     "text": [
      "Our search query:\n",
      "My family and I went to hash house last night. I had been once before and thought it was great. My Father was in town and I thought it would be a good idea to treat him to an acclaimed restaurant he had never been to before.I was terribly disappointed! The service was good , however, the food was cold and a real let down. In the past I was used to waiting in line to be seated. Last night, we were maybe 1 of 5 or 6 tables being served in the whole place which concerned me to begin with. My concerns were most certainly confirmed!\n",
      "\n",
      "Most 4 similar reviews:\n",
      "___ Review 1 ___\n",
      "Went to the restaurant last night. It was a little after 8pm. Went to check in and was told there would be an hour and a half wait. We decided to order to go. After ordering was told It would be about 20 minutes.  That wasn't the case. We were probably there an hour waiting. As we looked at the line to eat in the restaurant,  all of the people that were before us and about 5 more people got seated before we even got our order. It seemed like a cluster going on. I even watched a manager give another to go order for free because it was a mess. The food was ok. It was a cold. I don't even live 5 minutes from the restaurant but the food was already cold. I was very disappointed in this visit.\n",
      "___END___\n",
      "\n",
      "___ Review 2 ___\n",
      "The last time I visited the west coast I wasn't able to visit this place but I made it my mission to this time. While waiting for check-in I decided to grab a bite to eat because I was starving from traveling. \n",
      "I walked in and there was a long line which is expected, however, it went by quickly. I ordered the cheeseburger and fries with a drink. I believe it came to $8 which wasn't bad. \n",
      "So as I receive my food, I was lucky enough to find a seat on the patio because it was crowded. The first bite I take was the French fries and they were very crispy. I thought it was a couple but no it was 80% of my fries. I don't know if that's what it was supposed to be like but I didn't have the patience to wait in line for a new batch.\n",
      "I then took a bite in the burger and it was pretty good. Very fresh. Overall I guess my expectations were too high and I was slightly disappointed. It was average to me.\n",
      "___END___\n",
      "\n",
      "___ Review 3 ___\n",
      "I'm really sad to write this but I was very disappointed with the food and service at flock and fowl. My friend and I were excited to come try out this restaurant, the menu looked great. We ordered and waited, and waited and waited and waited. Almost an hour had gone by and we hadn't even gotten our food. The table who sat after us with 3 more people had food before us. I didn't understand because it was a quiet and empty Sunday evening at the restaurant. \n",
      "\n",
      "I looked up and saw my food sitting waiting to be served for about 20 min. I guess they were waiting for my friends dish to be ready so they could bring it out at the same time. But when his dish was finally ready and they brought our food out, it was stone cold. I've never ever had to return something for being cold before. I called the waitress over and before I even opened my mouth to tell her if she could return because it was cold she already knew why, she said \"cold? Yea they don't have their timing down.\" If she knew why didn't she ask them to make it again before serving me cold food? By the time I got my food back my friend was done with his and I was light headed from being so hungry. I was ready to eat just about anything that was put in front of me. So I got my food and thank goodness it was actually hot but the downside was that it was sooooooo salty I could barely swallow. I'm not picky at all but it really felt like they way over salted it, maybe because they were in a rush from having to redo my dish? Who knows.\n",
      "\n",
      "Anyways that was my experience at flock and fowl and I was so bummed out about it and still very hungry that I went down the street to get pizza from evil pie.\n",
      "___END___\n",
      "\n",
      "___ Review 4 ___\n",
      "Very disappointed for a first time visit. I made reservations but still had to wait two hours to be seated. The hostess never documented my arrival check in..twice? They both had a careless attitude had no knowledge or professionalism. One of the hostess said the manager was off..on the evening of Mothers Day?? This place was out of control! There were others who were waiting well over an hour and a half to be seated with reservations as well. I don't understand on your site it states to be prompt and not to miss your reservation, then why make a reservation if you still have to wait up to 2 hours to be seated. Once seated the place settings had food on them the glasses were dirty as well as the table. We waited 30 minutes to even be acknowledged, waited another hour and 10 minutes after our order was taken(still waiting on food)to be told the kitchen was out of baked potatoes I ordered. Other empty tables around us sat uncleared for long periods of time it. At one point the front hostess came back to clear the tables. It was obvious the customers were definitely a last concern. The service was terrible the food was cold, undercooked, and nothing to talk about. Out of the many restaurants I have been to on Mothers Day or any other day this was by far the worst experiences I have ever had and most definitely was my first and last to this restaurant.\n",
      "___END___\n",
      "\n"
     ]
    }
   ],
   "source": [
    "# Print search results!\n",
    "# At the very least, the top search result is somewhat relevant to the input query\n",
    "# They both discuss an evening meal, and share the same concerns of cold food\n",
    "\n",
    "print('Our search query:')\n",
    "print(documents_test.iloc[review_ind]) \n",
    "print()\n",
    "\n",
    "print('Most %s similar reviews:' % len(top_similar_reviews))\n",
    "for i, review in enumerate(top_similar_reviews):\n",
    "    print(\"___ Review {} ___\".format(i+1))\n",
    "    print(review)\n",
    "    print(\"___END___\\n\")"
   ]
  },
  {
   "cell_type": "markdown",
   "metadata": {},
   "source": [
    "* Q: Do the results make sense?\n",
    "\n",
    "* A: It seems we are lucky with the particular review picked. All the top similar reviews discuss Indian restaurants\n",
    "and their curries; two of them also discussed the taste of the chicken served. Cannot guarantee globally acceptable performance, but don't have better (and simple) ideas now."
   ]
  },
  {
   "cell_type": "markdown",
   "metadata": {},
   "source": [
    "## Classifying positive/negative review\n",
    "\n",
    "1. Build **logistic regression** classifier first, because its coefficients are the easiest to interpret. That would help us understand the language used in the reviews better.\n",
    "2. Then, build multinomial **naive Bayes** (NB) classifier. Given how training and running a NB model is very quick, if it performs reasonably well it may just serve as the production model!\n",
    "3. Finally, build and tune a **random forest**, and hopefully get an even higher accuracy.\n",
    "\n",
    "We can use **accuracy** as our metric, because the classes are almost balanced."
   ]
  },
  {
   "cell_type": "markdown",
   "metadata": {},
   "source": [
    "#### Logistic Regression Classifier\n",
    "No hyperparameters to tune, especially when classes are almost balanced!"
   ]
  },
  {
   "cell_type": "code",
   "execution_count": 31,
   "metadata": {},
   "outputs": [
    {
     "data": {
      "text/plain": [
       "LogisticRegression(C=1.0, class_weight=None, dual=False, fit_intercept=True,\n",
       "          intercept_scaling=1, max_iter=200, multi_class='warn',\n",
       "          n_jobs=None, penalty='l2', random_state=None, solver='lbfgs',\n",
       "          tol=0.0001, verbose=0, warm_start=False)"
      ]
     },
     "execution_count": 31,
     "metadata": {},
     "output_type": "execute_result"
    }
   ],
   "source": [
    "from sklearn.linear_model import LogisticRegression\n",
    "\n",
    "lr_clf = LogisticRegression(solver=\"lbfgs\", max_iter=200)\n",
    "lr_clf.fit(X_train, target_train)"
   ]
  },
  {
   "cell_type": "code",
   "execution_count": 32,
   "metadata": {},
   "outputs": [
    {
     "data": {
      "text/plain": [
       "0.8711340840563657"
      ]
     },
     "execution_count": 32,
     "metadata": {},
     "output_type": "execute_result"
    }
   ],
   "source": [
    "# Get mean accuracy for training set\n",
    "lr_clf.score(X_train, target_train)"
   ]
  },
  {
   "cell_type": "code",
   "execution_count": 33,
   "metadata": {
    "scrolled": true
   },
   "outputs": [
    {
     "data": {
      "text/plain": [
       "0.847986610219553"
      ]
     },
     "execution_count": 33,
     "metadata": {},
     "output_type": "execute_result"
    }
   ],
   "source": [
    "# Get mean accuracy for test set. \n",
    "# Not bad! Let's hope RandomForest can beat LR; if not, LR works well enough anyway.\n",
    "lr_clf.score(X_test, target_test)"
   ]
  },
  {
   "cell_type": "markdown",
   "metadata": {},
   "source": [
    "#### Q: Which features (words) that tend to produce a positive/negative prediction?\n",
    "\n",
    "Glad to see that features with the most positive/negative coefficients in logistic regression actually correspond to positive/negative sentiments! (Remember, positive = 1, negative = 0) "
   ]
  },
  {
   "cell_type": "code",
   "execution_count": 34,
   "metadata": {},
   "outputs": [
    {
     "name": "stdout",
     "output_type": "stream",
     "text": [
      "['amazing', 'best', 'awesome', 'delicious', 'excellent', 'perfect', 'fantastic', 'incredible', 'great', 'highly']\n",
      "['worst', 'horrible', 'ok', 'rude', 'okay', 'terrible', 'disappointing', 'not', 'bland', 'slow']\n"
     ]
    }
   ],
   "source": [
    "# Must first create a mapping from feature index to actual word\n",
    "ix_to_words = {ix:word for word,ix in vocab.items()}\n",
    "\n",
    "top_positive_words = get_top_values(lst=lr_clf.coef_[0], n=10, labels=ix_to_words)\n",
    "print(top_positive_words)\n",
    "\n",
    "top_negative_words = get_bottom_values(lst=lr_clf.coef_[0], n=10, labels=ix_to_words)\n",
    "print(top_negative_words)"
   ]
  },
  {
   "cell_type": "markdown",
   "metadata": {},
   "source": [
    "#### (Multinomial) Naive Bayes Classifier\n",
    "Technically multinomial naive Bayes should be fed integer features, but according to [sklearn's documentation](https://scikit-learn.org/stable/modules/generated/sklearn.naive_bayes.MultinomialNB.html) fractional tf-idf values work in practice, too. "
   ]
  },
  {
   "cell_type": "code",
   "execution_count": 35,
   "metadata": {},
   "outputs": [
    {
     "data": {
      "text/plain": [
       "MultinomialNB(alpha=1.0, class_prior=None, fit_prior=True)"
      ]
     },
     "execution_count": 35,
     "metadata": {},
     "output_type": "execute_result"
    }
   ],
   "source": [
    "from sklearn.naive_bayes import MultinomialNB\n",
    "\n",
    "# Default settings of Laplace smoothing, and computing class priors from data\n",
    "nb_clf = MultinomialNB(alpha=1.0, fit_prior=True)\n",
    "nb_clf.fit(X_train, target_train)"
   ]
  },
  {
   "cell_type": "code",
   "execution_count": 36,
   "metadata": {},
   "outputs": [
    {
     "data": {
      "text/plain": [
       "0.8405267368161959"
      ]
     },
     "execution_count": 36,
     "metadata": {},
     "output_type": "execute_result"
    }
   ],
   "source": [
    "# Get mean accuracy for training set\n",
    "nb_clf.score(X_train, target_train)"
   ]
  },
  {
   "cell_type": "code",
   "execution_count": 38,
   "metadata": {},
   "outputs": [
    {
     "data": {
      "text/plain": [
       "0.8183518755538053"
      ]
     },
     "execution_count": 38,
     "metadata": {},
     "output_type": "execute_result"
    }
   ],
   "source": [
    "# Get mean accuracy for test set. \n",
    "# Not bad! If 81% is still accceptable, definitely should consider deploying NB model\n",
    "# It's quick to run and update *online*\n",
    "nb_clf.score(X_test, target_test)"
   ]
  },
  {
   "cell_type": "markdown",
   "metadata": {},
   "source": [
    "## Cross validate, and (hopefully) find an even better classifier\n",
    "\n",
    "Linear classifers, i.e. logistic regression and naive Bayes, are already performing quite alright with 80%+ accuracy. Let's see if we can do even better using more complicated, non-linear classifiers. Random forest in this case.\n",
    "\n",
    "Random search is preferred over grid search when each iteration takes a long time; that *will* be the case with random forests. Hence, I am searching over randomly generated `max_depth` and `max_features`. In addition, I would like to cap `n_estimators` at 100, as a further measure to save time; the manually defined values should be spread-out enough to identify which region works the best."
   ]
  },
  {
   "cell_type": "code",
   "execution_count": 40,
   "metadata": {},
   "outputs": [],
   "source": [
    "from sklearn.model_selection import GridSearchCV\n",
    "from sklearn.ensemble import RandomForestClassifier"
   ]
  },
  {
   "cell_type": "code",
   "execution_count": 55,
   "metadata": {},
   "outputs": [],
   "source": [
    "# For repeatable experiments\n",
    "np.random.seed(2)"
   ]
  },
  {
   "cell_type": "code",
   "execution_count": 51,
   "metadata": {},
   "outputs": [
    {
     "name": "stdout",
     "output_type": "stream",
     "text": [
      "[  141  1952 10782  9935 23581]\n"
     ]
    }
   ],
   "source": [
    "total_number_of_features = X_train.shape[1]\n",
    "log10_total_number_of_features = np.log10(total_number_of_features)\n",
    "\n",
    "# Sample uniformly the *order of magnitude* (a la Andrew Ng in deeplearning.ai course)\n",
    "# For key parameters e.g. learning rate in neural nets, and max_features in random forest, should do so\n",
    "max_features_to_try = np.ceil( np.power(10, np.random.random(size=5)*log10_total_number_of_features) ) \n",
    "max_features_to_try = max_features_to_try.astype(int)\n",
    "\n",
    "# Must print to validate that there are no duplicates\n",
    "print(max_features_to_try)"
   ]
  },
  {
   "cell_type": "code",
   "execution_count": 56,
   "metadata": {},
   "outputs": [
    {
     "name": "stdout",
     "output_type": "stream",
     "text": [
      "[37 19 24 10 12]\n"
     ]
    }
   ],
   "source": [
    "# Ditto; must print\n",
    "max_depth = np.random.choice(range(10, 50), size=5, replace=False)\n",
    "print(max_depth)"
   ]
  },
  {
   "cell_type": "code",
   "execution_count": 57,
   "metadata": {},
   "outputs": [
    {
     "data": {
      "text/plain": [
       "GridSearchCV(cv=3, error_score='raise-deprecating',\n",
       "       estimator=RandomForestClassifier(bootstrap=True, class_weight=None, criterion='gini',\n",
       "            max_depth=None, max_features='auto', max_leaf_nodes=None,\n",
       "            min_impurity_decrease=0.0, min_impurity_split=None,\n",
       "            min_samples_leaf=1, min_samples_split=2,\n",
       "            min_weight_fraction_leaf=0.0, n_estimators='warn', n_jobs=None,\n",
       "            oob_score=False, random_state=None, verbose=0,\n",
       "            warm_start=False),\n",
       "       fit_params=None, iid='warn', n_jobs=2,\n",
       "       param_grid={'max_depth': array([37, 19, 24, 10, 12]), 'n_estimators': (10, 30, 60, 100), 'max_features': array([  141,  1952, 10782,  9935, 23581])},\n",
       "       pre_dispatch='2*n_jobs', refit=True, return_train_score='warn',\n",
       "       scoring='accuracy', verbose=0)"
      ]
     },
     "execution_count": 57,
     "metadata": {},
     "output_type": "execute_result"
    }
   ],
   "source": [
    "'''\n",
    "    The cost of using a more complicated model: you have to tune its hyperparameters!\n",
    "    First start with random search for optimal max_features and max_depth\n",
    "    Then, follow-up with finer grid search\n",
    "    \n",
    "    Note that we won't go beyond n_estimators=100, because that simply takes too long to tune...\n",
    "'''\n",
    "\n",
    "rf_paramgrid = {\n",
    "    'max_depth': max_depth,\n",
    "    'n_estimators': (10, 30, 60, 100),\n",
    "    'max_features': max_features_to_try,\n",
    "}\n",
    "\n",
    "grid_rf = GridSearchCV(cv=3, \n",
    "                       estimator=RandomForestClassifier(), \n",
    "                       param_grid=rf_paramgrid, \n",
    "                       scoring='accuracy', n_jobs=2)\n",
    "\n",
    "grid_rf.fit(X_train, target_train)"
   ]
  },
  {
   "cell_type": "code",
   "execution_count": 67,
   "metadata": {},
   "outputs": [
    {
     "name": "stdout",
     "output_type": "stream",
     "text": [
      "After 3-fold randomized CV, Random Forest achieves a mean accuracy of 0.8117654298197035\n",
      "The training accuracy is 0.9655159682481078\n"
     ]
    }
   ],
   "source": [
    "print(\"After 3-fold randomized CV, Random Forest achieves a mean accuracy of {}\".format(grid_rf.best_score_))\n",
    "print(\"The training accuracy is {}\".format(grid_rf.score(X_train, target_train)))"
   ]
  },
  {
   "cell_type": "code",
   "execution_count": 59,
   "metadata": {},
   "outputs": [
    {
     "name": "stdout",
     "output_type": "stream",
     "text": [
      "{'max_depth': 37, 'max_features': 1952, 'n_estimators': 100}\n"
     ]
    }
   ],
   "source": [
    "# These are the hyperparameters found, after a randomized search\n",
    "print(grid_rf.best_params_)"
   ]
  },
  {
   "cell_type": "code",
   "execution_count": 61,
   "metadata": {},
   "outputs": [
    {
     "data": {
      "text/plain": [
       "GridSearchCV(cv=3, error_score='raise-deprecating',\n",
       "       estimator=RandomForestClassifier(bootstrap=True, class_weight=None, criterion='gini',\n",
       "            max_depth=None, max_features='auto', max_leaf_nodes=None,\n",
       "            min_impurity_decrease=0.0, min_impurity_split=None,\n",
       "            min_samples_leaf=1, min_samples_split=2,\n",
       "            min_weight_fraction_leaf=0.0, n_estimators='warn', n_jobs=None,\n",
       "            oob_score=False, random_state=None, verbose=0,\n",
       "            warm_start=False),\n",
       "       fit_params=None, iid='warn', n_jobs=2,\n",
       "       param_grid={'max_depth': (34, 37, 40), 'n_estimators': (100,), 'max_features': (1800, 1900, 1952, 2000)},\n",
       "       pre_dispatch='2*n_jobs', refit=True, return_train_score='warn',\n",
       "       scoring='accuracy', verbose=0)"
      ]
     },
     "execution_count": 61,
     "metadata": {},
     "output_type": "execute_result"
    }
   ],
   "source": [
    "# Fine tuning around the parameter set found above!\n",
    "\n",
    "rf_paramgrid_finetune = {\n",
    "    'max_depth': (34, 37, 40),\n",
    "    'n_estimators': (100,),\n",
    "    'max_features': (1800, 1900, 1952, 2000),\n",
    "}\n",
    "\n",
    "grid_rf_finetune = GridSearchCV(cv=3, \n",
    "                                estimator=RandomForestClassifier(), \n",
    "                                param_grid=rf_paramgrid_finetune, \n",
    "                                scoring='accuracy', n_jobs=2)\n",
    "\n",
    "grid_rf_finetune.fit(X_train, target_train)"
   ]
  },
  {
   "cell_type": "code",
   "execution_count": 65,
   "metadata": {},
   "outputs": [
    {
     "name": "stdout",
     "output_type": "stream",
     "text": [
      "{'max_depth': 37, 'max_features': 1800, 'n_estimators': 100}\n"
     ]
    }
   ],
   "source": [
    "print(grid_rf_finetune.best_params_)"
   ]
  },
  {
   "cell_type": "code",
   "execution_count": 108,
   "metadata": {},
   "outputs": [
    {
     "name": "stdout",
     "output_type": "stream",
     "text": [
      "After fine tuning, random forest achieves a mean accuracy of 0.812368469632638 on 3-fold CV\n",
      "The train accuracy is 0.9665251369146514\n",
      "The test accuracy is 0.8120508024022841\n"
     ]
    }
   ],
   "source": [
    "print(\"After fine tuning, random forest achieves a mean accuracy of {} on 3-fold CV\".format(grid_rf_finetune.best_score_))\n",
    "print(\"The train accuracy is {}\".format(grid_rf_finetune.score(X_train, target_train)))\n",
    "print(\"The test accuracy is {}\".format(grid_rf_finetune.score(X_test, target_test)))"
   ]
  },
  {
   "cell_type": "markdown",
   "metadata": {},
   "source": [
    "So accuracy has gone up by 0.012% after tuning. The benefits are miniscule compared to the (long) time it took to test all the hyperparameters. Would it be possible to train more quickly, while retaining a similiar level of performance?"
   ]
  },
  {
   "cell_type": "markdown",
   "metadata": {},
   "source": [
    "### Dimension reduction using PCA; may help with overfitting?\n",
    "As we can see from above, random forest is overfitting on the training data. Let's try reducing data dimensions using PCA, and fit random forest on the transformed set; hopefully that helps.\n",
    "\n",
    "Using TruncatedSVD because it can work with sparse matrices directly. Also, according to [sklearn documentation](https://scikit-learn.org/stable/modules/generated/sklearn.decomposition.TruncatedSVD.html), it is a common choice for working with Tf-idf matrices."
   ]
  },
  {
   "cell_type": "code",
   "execution_count": 69,
   "metadata": {},
   "outputs": [],
   "source": [
    "from sklearn.decomposition import TruncatedSVD\n",
    "from sklearn.model_selection import cross_val_score"
   ]
  },
  {
   "cell_type": "code",
   "execution_count": 70,
   "metadata": {},
   "outputs": [
    {
     "data": {
      "text/plain": [
       "50471"
      ]
     },
     "execution_count": 70,
     "metadata": {},
     "output_type": "execute_result"
    }
   ],
   "source": [
    "# The original number possible of features\n",
    "X_train.shape[1]"
   ]
  },
  {
   "cell_type": "code",
   "execution_count": 109,
   "metadata": {},
   "outputs": [],
   "source": [
    "# Extract principal components\n",
    "# First test an especially large value of n_components, then cut back if possible\n",
    "pca = TruncatedSVD(n_components=5000)"
   ]
  },
  {
   "cell_type": "code",
   "execution_count": 122,
   "metadata": {},
   "outputs": [
    {
     "name": "stdout",
     "output_type": "stream",
     "text": [
      "0.8684114188183585\n"
     ]
    },
    {
     "data": {
      "text/plain": [
       "[<matplotlib.lines.Line2D at 0x1a2f1544a8>]"
      ]
     },
     "execution_count": 122,
     "metadata": {},
     "output_type": "execute_result"
    },
    {
     "data": {
      "image/png": "[encoded data removed]",
      "text/plain": [
       "<Figure size 432x288 with 1 Axes>"
      ]
     },
     "metadata": {
      "needs_background": "light"
     },
     "output_type": "display_data"
    }
   ],
   "source": [
    "# 5000 principal components, 10% the original amount of features, explain ~86% of the variance\n",
    "# But even if we take just half of that, we can still explain over 70%\n",
    "# Let's go with n_components=3000 / 80% explained\n",
    "\n",
    "print(pca.explained_variance_ratio_.sum())\n",
    "\n",
    "plt.xlabel(\"Number of PCs\"); plt.ylabel(\"Proportion of Variance Explained\")\n",
    "plt.plot(np.cumsum(pca.explained_variance_ratio_))"
   ]
  },
  {
   "cell_type": "code",
   "execution_count": 123,
   "metadata": {},
   "outputs": [],
   "source": [
    "# In principle, can just use array indexing to retain the 3000 PCs?\n",
    "# But anyway, retrained to have access to them in a convenient object form...\n",
    "\n",
    "pca = TruncatedSVD(n_components=3000)\n",
    "X_train_pca = pca.fit_transform(X_train)\n",
    "X_test_pca = pca.transform(X_test)"
   ]
  },
  {
   "cell_type": "markdown",
   "metadata": {},
   "source": [
    "Now that we have reduced the # of feature dimensions, let's retrain some of the models again, and compare their performance to before dimension reduction."
   ]
  },
  {
   "cell_type": "code",
   "execution_count": 147,
   "metadata": {},
   "outputs": [
    {
     "name": "stdout",
     "output_type": "stream",
     "text": [
      "Logistic regression, train accuracy:  0.8588517629684327\n",
      "Logistic regression, test accuracy:  0.8470512946736241\n"
     ]
    }
   ],
   "source": [
    "### No hit in test performance for logistic regression, while train accuracy went down by ~2%\n",
    "### PCA probably succeeded in taking out noise features, and thus reduced overfitting. Good!\n",
    "\n",
    "lr_pca = LogisticRegression(solver=\"lbfgs\")\n",
    "lr_pca.fit(X_train_pca, target_train)\n",
    "\n",
    "print(\"Logistic regression, train accuracy: \", lr_pca.score(X_train_pca, target_train))\n",
    "print(\"Logistic regression, test accuracy: \", lr_pca.score(X_test_pca, target_test))"
   ]
  },
  {
   "cell_type": "code",
   "execution_count": 148,
   "metadata": {},
   "outputs": [
    {
     "name": "stdout",
     "output_type": "stream",
     "text": [
      "0.987631530367362\n",
      "0.7706015555774343\n"
     ]
    }
   ],
   "source": [
    "### What about random forest?\n",
    "\n",
    "rf_pca = RandomForestClassifier(n_estimators=30, max_features=300, max_depth=20, n_jobs=4)\n",
    "rf_pca.fit(X_train_pca, target_train)\n",
    "\n",
    "# Training accuracy\n",
    "print(rf_pca.score(X_train_pca, target_train))\n",
    "\n",
    "# Test accuracy\n",
    "print(rf_pca.score(X_test_pca, target_test))\n",
    "\n",
    "### Overfitting still!\n",
    "### More tuning is possible, but when there are simpler models that perform alright, it's not worth the time."
   ]
  },
  {
   "cell_type": "markdown",
   "metadata": {},
   "source": [
    "## Summary of Steps Taken + Results\n",
    "\n",
    "### Obtained vector representation of text reviews\n",
    "Tf-idf vectors, with only basic filtering of stop words.\n",
    "\n",
    "### Basic search engine for \"similar\" reviews\n",
    "Given a query in text; searches corpus and return the most similar reviews. Cosine similarity is used here, because it is insentive; therefore the search engine can still function alright, even when the query is much shorter or longer than corpus documents.\n",
    "\n",
    "### Sentiment analysis\n",
    "Both logistic regression and multinomial naive Bayes easily achieved over 80% of accuracy, on both training and test sets. While logistic regression performs 3-4% better, if prediction speed or training time is really an issue, naive Bayes is definitely a viable alternative.\n",
    "\n",
    "On the other hand, at least for the present amount of data, tuning random forest takes too long for the performance gain obtained. It easily overfits on the training data, and after elaborate, randomized hyperparameter search it only achieves the same accuracy as naive Bayes! Not worth exploring unless with a more powerful computer."
   ]
  }
 ],
 "metadata": {
  "anaconda-cloud": {},
  "kernelspec": {
   "display_name": "Python 3",
   "language": "python",
   "name": "python3"
  },
  "language_info": {
   "codemirror_mode": {
    "name": "ipython",
    "version": 3
   },
   "file_extension": ".py",
   "mimetype": "text/x-python",
   "name": "python",
   "nbconvert_exporter": "python",
   "pygments_lexer": "ipython3",
   "version": "3.7.2"
  }
 },
 "nbformat": 4,
 "nbformat_minor": 2
}
