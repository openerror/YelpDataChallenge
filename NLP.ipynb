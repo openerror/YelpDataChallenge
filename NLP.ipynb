{
 "cells": [
  {
   "cell_type": "markdown",
   "metadata": {},
   "source": [
    "# Yelp Data Challenge - NLP\n",
    "We will build a sentiment analysis system for the review texts. Such a system would be useful in pinpointing difficulties encountered by businesses --- or their successes, for that matter. Useful, when we don't have time to comb through many reviews.\n",
    "\n",
    "In this project, we will simulate encountering new data with a heldout test set."
   ]
  },
  {
   "cell_type": "markdown",
   "metadata": {},
   "source": [
    "## Load data\n",
    "We will use the DataFrame constructed in `Data_Preprocessing.ipynb`. It contains reviews of restaurants from Las Vegas from approximately the last 2 years."
   ]
  },
  {
   "cell_type": "code",
   "execution_count": 1,
   "metadata": {},
   "outputs": [],
   "source": [
    "import pandas as pd\n",
    "import matplotlib.pyplot as plt\n",
    "plt.style.use(\"ggplot\")"
   ]
  },
  {
   "cell_type": "code",
   "execution_count": 2,
   "metadata": {},
   "outputs": [
    {
     "data": {
      "text/html": [
       "<div>\n",
       "<style scoped>\n",
       "    .dataframe tbody tr th:only-of-type {\n",
       "        vertical-align: middle;\n",
       "    }\n",
       "\n",
       "    .dataframe tbody tr th {\n",
       "        vertical-align: top;\n",
       "    }\n",
       "\n",
       "    .dataframe thead th {\n",
       "        text-align: right;\n",
       "    }\n",
       "</style>\n",
       "<table border=\"1\" class=\"dataframe\">\n",
       "  <thead>\n",
       "    <tr style=\"text-align: right;\">\n",
       "      <th></th>\n",
       "      <th>business_id</th>\n",
       "      <th>name</th>\n",
       "      <th>categories</th>\n",
       "      <th>avg_stars</th>\n",
       "      <th>attributes</th>\n",
       "      <th>cool</th>\n",
       "      <th>date</th>\n",
       "      <th>funny</th>\n",
       "      <th>review_id</th>\n",
       "      <th>stars</th>\n",
       "      <th>text</th>\n",
       "      <th>useful</th>\n",
       "      <th>user_id</th>\n",
       "    </tr>\n",
       "  </thead>\n",
       "  <tbody>\n",
       "    <tr>\n",
       "      <th>0</th>\n",
       "      <td>2kWrSFkIes_d2BMg4YrRtA</td>\n",
       "      <td>Pizza Hut</td>\n",
       "      <td>Restaurants, Pizza</td>\n",
       "      <td>2.5</td>\n",
       "      <td>{'Alcohol': 'none', 'Ambience': \"{'romantic': ...</td>\n",
       "      <td>0</td>\n",
       "      <td>2017-04-01</td>\n",
       "      <td>0</td>\n",
       "      <td>Spl0fx_X6bjPASU-zUJQUA</td>\n",
       "      <td>1</td>\n",
       "      <td>Ordered a pizza, the location is literally in ...</td>\n",
       "      <td>1</td>\n",
       "      <td>vZ-eQzpCOrSWfBfU5KUvIA</td>\n",
       "    </tr>\n",
       "    <tr>\n",
       "      <th>1</th>\n",
       "      <td>2kWrSFkIes_d2BMg4YrRtA</td>\n",
       "      <td>Pizza Hut</td>\n",
       "      <td>Restaurants, Pizza</td>\n",
       "      <td>2.5</td>\n",
       "      <td>{'Alcohol': 'none', 'Ambience': \"{'romantic': ...</td>\n",
       "      <td>0</td>\n",
       "      <td>2016-11-20</td>\n",
       "      <td>0</td>\n",
       "      <td>2UV-a8pXUdbK0fdurFwXfQ</td>\n",
       "      <td>5</td>\n",
       "      <td>Very busy place but they take good care of you...</td>\n",
       "      <td>0</td>\n",
       "      <td>nu6wU6PLbL9HPLZuqon0-A</td>\n",
       "    </tr>\n",
       "    <tr>\n",
       "      <th>2</th>\n",
       "      <td>2kWrSFkIes_d2BMg4YrRtA</td>\n",
       "      <td>Pizza Hut</td>\n",
       "      <td>Restaurants, Pizza</td>\n",
       "      <td>2.5</td>\n",
       "      <td>{'Alcohol': 'none', 'Ambience': \"{'romantic': ...</td>\n",
       "      <td>0</td>\n",
       "      <td>2018-03-27</td>\n",
       "      <td>0</td>\n",
       "      <td>vG5m3TzOf5F52jzO2D_19g</td>\n",
       "      <td>3</td>\n",
       "      <td>Stopped here to pick up an order of wings on m...</td>\n",
       "      <td>0</td>\n",
       "      <td>KEerqlFNhzl1I-yVK6mHVA</td>\n",
       "    </tr>\n",
       "  </tbody>\n",
       "</table>\n",
       "</div>"
      ],
      "text/plain": [
       "              business_id       name          categories  avg_stars  \\\n",
       "0  2kWrSFkIes_d2BMg4YrRtA  Pizza Hut  Restaurants, Pizza        2.5   \n",
       "1  2kWrSFkIes_d2BMg4YrRtA  Pizza Hut  Restaurants, Pizza        2.5   \n",
       "2  2kWrSFkIes_d2BMg4YrRtA  Pizza Hut  Restaurants, Pizza        2.5   \n",
       "\n",
       "                                          attributes  cool        date  funny  \\\n",
       "0  {'Alcohol': 'none', 'Ambience': \"{'romantic': ...     0  2017-04-01      0   \n",
       "1  {'Alcohol': 'none', 'Ambience': \"{'romantic': ...     0  2016-11-20      0   \n",
       "2  {'Alcohol': 'none', 'Ambience': \"{'romantic': ...     0  2018-03-27      0   \n",
       "\n",
       "                review_id  stars  \\\n",
       "0  Spl0fx_X6bjPASU-zUJQUA      1   \n",
       "1  2UV-a8pXUdbK0fdurFwXfQ      5   \n",
       "2  vG5m3TzOf5F52jzO2D_19g      3   \n",
       "\n",
       "                                                text  useful  \\\n",
       "0  Ordered a pizza, the location is literally in ...       1   \n",
       "1  Very busy place but they take good care of you...       0   \n",
       "2  Stopped here to pick up an order of wings on m...       0   \n",
       "\n",
       "                  user_id  \n",
       "0  vZ-eQzpCOrSWfBfU5KUvIA  \n",
       "1  nu6wU6PLbL9HPLZuqon0-A  \n",
       "2  KEerqlFNhzl1I-yVK6mHVA  "
      ]
     },
     "execution_count": 2,
     "metadata": {},
     "output_type": "execute_result"
    }
   ],
   "source": [
    "df = pd.read_csv('data/last_2_years_restaurant_reviews.csv')\n",
    "df.head(3)"
   ]
  },
  {
   "cell_type": "code",
   "execution_count": 3,
   "metadata": {},
   "outputs": [
    {
     "data": {
      "text/plain": [
       "business_id     0\n",
       "name            0\n",
       "categories      0\n",
       "avg_stars       0\n",
       "attributes     84\n",
       "cool            0\n",
       "date            0\n",
       "funny           0\n",
       "review_id       0\n",
       "stars           0\n",
       "text            0\n",
       "useful          0\n",
       "user_id         0\n",
       "dtype: int64"
      ]
     },
     "execution_count": 3,
     "metadata": {},
     "output_type": "execute_result"
    }
   ],
   "source": [
    "# Minor number of NAs in 'attributes'; fortunately, we won't need that feature\n",
    "pd.DataFrame.sum(df.isna())"
   ]
  },
  {
   "cell_type": "markdown",
   "metadata": {},
   "source": [
    "### Extract review texts"
   ]
  },
  {
   "cell_type": "code",
   "execution_count": 4,
   "metadata": {},
   "outputs": [],
   "source": [
    "# Take the values of the column that contains review text data, save to a variable named \"documents\"\n",
    "documents = df.text"
   ]
  },
  {
   "cell_type": "code",
   "execution_count": 5,
   "metadata": {},
   "outputs": [
    {
     "name": "stdout",
     "output_type": "stream",
     "text": [
      "There are 101569 reviews in total.\n",
      "Sample: Ordered a pizza, the location is literally in front of my apartment complex and my pizza was cold. Must have been sitting there for for almost an hour for as cold as it was, the drive from this location to my apartment door is all of anout five minutes. I ordered a soda and its\n",
      "obvious it was never placed in a fridge. Cold pizza and warn soda. Horrible!\n"
     ]
    },
    {
     "data": {
      "image/png": "[encoded data removed]",
      "text/plain": [
       "<Figure size 432x288 with 1 Axes>"
      ]
     },
     "metadata": {
      "needs_background": "light"
     },
     "output_type": "display_data"
    }
   ],
   "source": [
    "'''\n",
    "    Inspect documents --- check length, and display example.\n",
    "    \n",
    "    We see that reviews come in various lengths. Deep learning approaches using RNNs may work,\n",
    "    but it would be quite troublesome/RAM-consuming to pad/cut the reviews to an appropriate, uniform length.\n",
    "    Therefore, we will adopt a bag-of-words approach, to acceptable results\n",
    "'''\n",
    "\n",
    "plt.hist(documents.apply(len))\n",
    "plt.title(\"Length Distribution of Reviews\")\n",
    "plt.ylabel(\"Number of reviews\")\n",
    "plt.xlabel(\"Length of review (characters)\")\n",
    "\n",
    "print(\"There are {} reviews in total.\".format(len(documents)))\n",
    "print(\"Sample: {}\".format(documents[0]))"
   ]
  },
  {
   "cell_type": "markdown",
   "metadata": {},
   "source": [
    "### Define target variable"
   ]
  },
  {
   "cell_type": "markdown",
   "metadata": {},
   "source": [
    "Let's distinguish between perfect (5 stars) and imperfect (1-4 stars) ratings. The assumption is that if a user gives a rating lower than 4, then there are potential room for improvements!"
   ]
  },
  {
   "cell_type": "code",
   "execution_count": 6,
   "metadata": {},
   "outputs": [],
   "source": [
    "# Make a column and take the values, save to a variable named \"target\"\n",
    "target = df.stars\n",
    "target = (target == 5) #True if perfect\n",
    "target = target.astype('int')"
   ]
  },
  {
   "cell_type": "code",
   "execution_count": 7,
   "metadata": {},
   "outputs": [
    {
     "data": {
      "text/plain": [
       "0    52978\n",
       "1    48591\n",
       "Name: stars, dtype: int64"
      ]
     },
     "execution_count": 7,
     "metadata": {},
     "output_type": "execute_result"
    }
   ],
   "source": [
    "# Fortunately, target variable is almost balanced. \n",
    "target.value_counts()"
   ]
  },
  {
   "cell_type": "markdown",
   "metadata": {},
   "source": [
    "## Splitting into training and test sets"
   ]
  },
  {
   "cell_type": "code",
   "execution_count": 8,
   "metadata": {},
   "outputs": [],
   "source": [
    "from sklearn.model_selection import train_test_split"
   ]
  },
  {
   "cell_type": "code",
   "execution_count": 15,
   "metadata": {},
   "outputs": [],
   "source": [
    "# Documents is your X, target is your y\n",
    "# Now split the data `to training set and test set\n",
    "# Split to documents_train, documents_test, target_train, target_test --- use the (default) 75-25 split\n",
    "\n",
    "documents_train, documents_test, target_train, target_test = train_test_split(documents, target, \n",
    "                                                                              test_size=0.25,\n",
    "                                                                              random_state=43)"
   ]
  },
  {
   "cell_type": "markdown",
   "metadata": {},
   "source": [
    "## Obtain NLP representation of `documents`\n",
    "\n",
    "Term frequency–inverse document frequency (Tf-idf) representation of single words is used here.\n",
    "\n",
    "We are **NOT** going to filter out the NLTK stopwords, because some of them may indicate sentiment: 'don't', 'weren't' ... basically, grammatical constructs that may be useful for our task."
   ]
  },
  {
   "cell_type": "code",
   "execution_count": 16,
   "metadata": {},
   "outputs": [],
   "source": [
    "from sklearn.feature_extraction.text import TfidfVectorizer\n",
    "from nltk.corpus import stopwords"
   ]
  },
  {
   "cell_type": "code",
   "execution_count": 17,
   "metadata": {},
   "outputs": [
    {
     "name": "stdout",
     "output_type": "stream",
     "text": [
      "['i', 'me', 'my', 'myself', 'we', 'our', 'ours', 'ourselves', 'you', \"you're\", \"you've\", \"you'll\", \"you'd\", 'your', 'yours', 'yourself', 'yourselves', 'he', 'him', 'his', 'himself', 'she', \"she's\", 'her', 'hers', 'herself', 'it', \"it's\", 'its', 'itself', 'they', 'them', 'their', 'theirs', 'themselves', 'what', 'which', 'who', 'whom', 'this', 'that', \"that'll\", 'these', 'those', 'am', 'is', 'are', 'was', 'were', 'be', 'been', 'being', 'have', 'has', 'had', 'having', 'do', 'does', 'did', 'doing', 'a', 'an', 'the', 'and', 'but', 'if', 'or', 'because', 'as', 'until', 'while', 'of', 'at', 'by', 'for', 'with', 'about', 'against', 'between', 'into', 'through', 'during', 'before', 'after', 'above', 'below', 'to', 'from', 'up', 'down', 'in', 'out', 'on', 'off', 'over', 'under', 'again', 'further', 'then', 'once', 'here', 'there', 'when', 'where', 'why', 'how', 'all', 'any', 'both', 'each', 'few', 'more', 'most', 'other', 'some', 'such', 'no', 'nor', 'not', 'only', 'own', 'same', 'so', 'than', 'too', 'very', 's', 't', 'can', 'will', 'just', 'don', \"don't\", 'should', \"should've\", 'now', 'd', 'll', 'm', 'o', 're', 've', 'y', 'ain', 'aren', \"aren't\", 'couldn', \"couldn't\", 'didn', \"didn't\", 'doesn', \"doesn't\", 'hadn', \"hadn't\", 'hasn', \"hasn't\", 'haven', \"haven't\", 'isn', \"isn't\", 'ma', 'mightn', \"mightn't\", 'mustn', \"mustn't\", 'needn', \"needn't\", 'shan', \"shan't\", 'shouldn', \"shouldn't\", 'wasn', \"wasn't\", 'weren', \"weren't\", 'won', \"won't\", 'wouldn', \"wouldn't\"]\n"
     ]
    }
   ],
   "source": [
    "print(stopwords.words('english')) "
   ]
  },
  {
   "cell_type": "code",
   "execution_count": 18,
   "metadata": {},
   "outputs": [],
   "source": [
    "# Create TfidfVectorizer, and name it vectorizer\n",
    "vectorizer = TfidfVectorizer()"
   ]
  },
  {
   "cell_type": "code",
   "execution_count": 19,
   "metadata": {},
   "outputs": [],
   "source": [
    "# Fit the vectorizer with training data\n",
    "vectorizer.fit(documents_train)\n",
    "X_train = vectorizer.transform(documents_train)\n",
    "\n",
    "# Use the trained vectorizer to transform test data\n",
    "X_test = vectorizer.transform(documents_test)"
   ]
  },
  {
   "cell_type": "code",
   "execution_count": 20,
   "metadata": {},
   "outputs": [
    {
     "name": "stdout",
     "output_type": "stream",
     "text": [
      "Vocabulary contains 49072 items\n"
     ]
    }
   ],
   "source": [
    "# Get the vocab of your tfidf\n",
    "vocab = vectorizer.vocabulary_\n",
    "print(\"Vocabulary contains {} items\".format(len(vocab)))"
   ]
  },
  {
   "cell_type": "markdown",
   "metadata": {},
   "source": [
    "## Build Search Engine for 'Similar' Reviews\n",
    "Once we have identified a review as positive/negative, we may want to search for other similar reviews to get a better picture of the data or the restaurant(s). Here, similarity is calculated based on Tf-idf features, and experimentally cosine similarity proves to give reasonable results.\n",
    "\n",
    "From experience working with word embeddings"
   ]
  },
  {
   "cell_type": "code",
   "execution_count": 21,
   "metadata": {},
   "outputs": [],
   "source": [
    "import numpy as np\n",
    "\n",
    "# Helper functions for selecting search engine results \n",
    "\n",
    "def get_top_values(lst, n, labels):\n",
    "    '''\n",
    "    INPUT: LIST, INTEGER, LIST\n",
    "    OUTPUT: LIST\n",
    "\n",
    "    Given a list of values, find the indices with the highest n values.\n",
    "    Return the labels for each of these indices.\n",
    "\n",
    "    e.g.\n",
    "    lst = [7, 3, 2, 4, 1]\n",
    "    n = 2\n",
    "    labels = [\"cat\", \"dog\", \"mouse\", \"pig\", \"rabbit\"]\n",
    "    output: [\"cat\", \"pig\"]\n",
    "    '''\n",
    "    return [labels[i] for i in np.argsort(lst)[::-1][:n]]  # np.argsort by default sorts values in ascending order\n",
    "\n",
    "def get_bottom_values(lst, n, labels):\n",
    "    '''\n",
    "    INPUT: LIST, INTEGER, LIST\n",
    "    OUTPUT: LIST\n",
    "\n",
    "    Given a list of values, find the indices with the lowest n values.\n",
    "    Return the labels for each of these indices.\n",
    "\n",
    "    e.g.\n",
    "    lst = [7, 3, 2, 4, 1]\n",
    "    n = 2\n",
    "    labels = [\"cat\", \"dog\", \"mouse\", \"pig\", \"rabbit\"]\n",
    "    output: [\"mouse\", \"rabbit\"]\n",
    "    '''\n",
    "    return [labels[i] for i in np.argsort(lst)[:n]]"
   ]
  },
  {
   "cell_type": "code",
   "execution_count": 22,
   "metadata": {},
   "outputs": [
    {
     "name": "stdout",
     "output_type": "stream",
     "text": [
      "['rabbit', 'mouse']\n",
      "['cat', 'pig']\n"
     ]
    }
   ],
   "source": [
    "# Test helper functions from above\n",
    "print( get_bottom_values(lst=[7, 3, 2, 4, 1], n=2, labels = [\"cat\", \"dog\", \"mouse\", \"pig\", \"rabbit\"]) ) \n",
    "print( get_top_values(lst=[7, 3, 2, 4, 1], n=2, labels = [\"cat\", \"dog\", \"mouse\", \"pig\", \"rabbit\"]) )"
   ]
  },
  {
   "cell_type": "code",
   "execution_count": 23,
   "metadata": {},
   "outputs": [],
   "source": [
    "# Let's use cosine similarity\n",
    "from sklearn.metrics.pairwise import cosine_similarity"
   ]
  },
  {
   "cell_type": "code",
   "execution_count": 24,
   "metadata": {},
   "outputs": [],
   "source": [
    "# Draw an arbitrary review from test (unseen in training) documents\n",
    "review_ind = 2103\n",
    "review = X_test[review_ind, :]"
   ]
  },
  {
   "cell_type": "code",
   "execution_count": 25,
   "metadata": {},
   "outputs": [
    {
     "data": {
      "text/plain": [
       "(array([3.794e+03, 2.147e+04, 3.202e+04, 1.552e+04, 2.781e+03, 3.990e+02,\n",
       "        1.180e+02, 5.600e+01, 1.400e+01, 4.000e+00]),\n",
       " array([0.        , 0.04309329, 0.08618658, 0.12927988, 0.17237317,\n",
       "        0.21546646, 0.25855975, 0.30165304, 0.34474634, 0.38783963,\n",
       "        0.43093292]),\n",
       " <a list of 10 Patch objects>)"
      ]
     },
     "execution_count": 25,
     "metadata": {},
     "output_type": "execute_result"
    },
    {
     "data": {
      "image/png": "[encoded data removed]",
      "text/plain": [
       "<Figure size 432x288 with 1 Axes>"
      ]
     },
     "metadata": {
      "needs_background": "light"
     },
     "output_type": "display_data"
    }
   ],
   "source": [
    "# Calculate the similarity score(s) between vector(s) and training vectors\n",
    "similarity = cosine_similarity(X_train, review)\n",
    "similarity = similarity.reshape(len(similarity),)\n",
    "\n",
    "# Cosine similarity ranges from abs(0, 1)\n",
    "# But even the top values are rather close to 0 ... Expect mediocre results\n",
    "plt.title(\"Similarity between Training Set and Picked Review\")\n",
    "plt.ylabel(\"Number of Training Set Reviews\")\n",
    "plt.xlabel(\"Cosine Similarity\")\n",
    "plt.hist(similarity)"
   ]
  },
  {
   "cell_type": "code",
   "execution_count": 28,
   "metadata": {},
   "outputs": [],
   "source": [
    "# Let's find top 4 similar reviews\n",
    "top_similar_reviews = get_top_values(lst=similarity, n=4, labels=documents_train.values)"
   ]
  },
  {
   "cell_type": "code",
   "execution_count": 29,
   "metadata": {},
   "outputs": [
    {
     "name": "stdout",
     "output_type": "stream",
     "text": [
      "Our search query:\n",
      "First time here and I love it!!! the service was good and friendly. The food was delicious. I recommend the chicken curry with bone and the goat curry. ask for Anthony for a great service. plus they have fresh naan!!! yummy. whenever in las vegas and you like Indian food this is the palace to go.\n",
      "\n",
      "Most 4 similar reviews:\n",
      "___ Review 1 ___\n",
      "Very good! We love chicken katsu curry. The flavor of the curry was what we expected and can pick 1-10. We also ordered naan bread and cheese with the curry. Chicken was fresh and juicy. The rice was sticky and just made.\n",
      "___END___\n",
      "\n",
      "___ Review 2 ___\n",
      "First off, Indian food inside of a hotel? All you have to do is to go down to the food court and order them. I love the idea already. \n",
      "\n",
      "This Indian food place located inside of the Venetian hotel, which is a very nice hotel. \n",
      "\n",
      "My husband ordered chicken curry for me one night and asked the cook to make the curry spicier. They did a good job . The curry was really tasty and the portion was fare for the price they charged. \n",
      "\n",
      "I went back the next day for dinner and i was very happy that I did not have to get in a car and drive for a good Indian food while in Vegas.\n",
      "___END___\n",
      "\n",
      "___ Review 3 ___\n",
      "First time at India Palace. I stumbled across this treasure when I was in search of satisfying my craving for mouth watering Goat curry.\n",
      "\n",
      "I got off work on a Tuesday and Goat Curry was calling my name. I read the Yelp reviews on here and decided this is totally happening. \n",
      "\n",
      "Located on Paradise and Twain.\n",
      "\n",
      "Ordered Take Out of Appetizer Combo which includes ( Scrumptious samosas, Fish, Pakora and Paneer). Fish was fishy. I asked for Goat Curry and ended up with Karahi Goat which was full of flavor and huge portion. I ordered it medium spicy because I appreciate the heat.\n",
      "\n",
      "It doesn't come with rice or naan so I ordered Garlic Naan . Pickup was extra quick and the food was hot and full of flavor. \n",
      "\n",
      "The service is on par.\n",
      "\n",
      "I will be back.\n",
      "___END___\n",
      "\n",
      "___ Review 4 ___\n",
      "Yummy Indian food.  Love the garlic Naan bread! Good ambiance ! Friendly staff. Will recommend!\n",
      "___END___\n",
      "\n"
     ]
    }
   ],
   "source": [
    "print('Our search query:')\n",
    "print(documents_test.iloc[review_ind]) \n",
    "print()\n",
    "\n",
    "print('Most %s similar reviews:' % len(top_similar_reviews))\n",
    "for i, review in enumerate(top_similar_reviews):\n",
    "    print(\"___ Review {} ___\".format(i+1))\n",
    "    print(review)\n",
    "    print(\"___END___\\n\")"
   ]
  },
  {
   "cell_type": "markdown",
   "metadata": {},
   "source": [
    "* Q: Do the results make sense?\n",
    "\n",
    "* A: It seems we are lucky with the particular review picked. All the top similar reviews discuss Indian restaurants\n",
    "and their curries; two of them also discussed the taste of the chicken served. Cannot guarantee globally acceptable performance, but don't have better (and simple) ideas now."
   ]
  },
  {
   "cell_type": "markdown",
   "metadata": {},
   "source": [
    "## Classifying positive/negative review\n",
    "\n",
    "Using logistic regression as a baseline; being able to interpret its coefficients help us understand the data better. Then, build random forest to achieve max prediction performance; tune with cross-validation.\n",
    "\n",
    "We will use accuracy as our metric, because classes are almost balanced."
   ]
  },
  {
   "cell_type": "markdown",
   "metadata": {},
   "source": [
    "#### Logistic Regression Classifier"
   ]
  },
  {
   "cell_type": "code",
   "execution_count": 30,
   "metadata": {},
   "outputs": [
    {
     "data": {
      "text/plain": [
       "LogisticRegression(C=1.0, class_weight=None, dual=False, fit_intercept=True,\n",
       "          intercept_scaling=1, max_iter=500, multi_class='warn',\n",
       "          n_jobs=None, penalty='l2', random_state=None, solver='lbfgs',\n",
       "          tol=0.0001, verbose=0, warm_start=False)"
      ]
     },
     "execution_count": 30,
     "metadata": {},
     "output_type": "execute_result"
    }
   ],
   "source": [
    "# Build a Logistic Regression Classifier\n",
    "\n",
    "from sklearn.linear_model import LogisticRegression\n",
    "\n",
    "lr_clf = LogisticRegression(solver=\"lbfgs\", max_iter=500)\n",
    "lr_clf.fit(X_train, target_train)"
   ]
  },
  {
   "cell_type": "code",
   "execution_count": 31,
   "metadata": {},
   "outputs": [
    {
     "data": {
      "text/plain": [
       "0.8714949590422181"
      ]
     },
     "execution_count": 31,
     "metadata": {},
     "output_type": "execute_result"
    }
   ],
   "source": [
    "# Get mean accuracy for training set\n",
    "lr_clf.score(X_train, target_train)"
   ]
  },
  {
   "cell_type": "code",
   "execution_count": 32,
   "metadata": {
    "scrolled": true
   },
   "outputs": [
    {
     "data": {
      "text/plain": [
       "0.847280746662466"
      ]
     },
     "execution_count": 32,
     "metadata": {},
     "output_type": "execute_result"
    }
   ],
   "source": [
    "# Get mean accuracy for test set. \n",
    "# Not bad! Let's hope RandomForest can beat LR; if not, LR works well enough anyway.\n",
    "lr_clf.score(X_test, target_test)"
   ]
  },
  {
   "cell_type": "markdown",
   "metadata": {},
   "source": [
    "#### Q: What are the features (words) that tend to produce a positive prediction?\n",
    "\n",
    "The top 20 features (i.e. with \"large\" positive coefficients) are all adjectives/adverbs of praise! Wonderful :)"
   ]
  },
  {
   "cell_type": "code",
   "execution_count": 33,
   "metadata": {},
   "outputs": [],
   "source": [
    "# Must first create a mapping from feature index to actual word\n",
    "ix_to_words = {ix:word for word,ix in vocab.items()}"
   ]
  },
  {
   "cell_type": "code",
   "execution_count": 34,
   "metadata": {},
   "outputs": [
    {
     "name": "stdout",
     "output_type": "stream",
     "text": [
      "['amazing', 'best', 'awesome', 'delicious', 'excellent', 'incredible', 'fantastic', 'perfect', 'thank', 'highly', 'great', 'love', 'favorite', 'die', 'bomb', 'perfectly', 'outstanding', 'perfection', 'everything', 'phenomenal']\n"
     ]
    }
   ],
   "source": [
    "top_positive_words = get_top_values(lst=lr_clf.coef_[0], n=20, labels=ix_to_words)\n",
    "print(top_positive_words)"
   ]
  },
  {
   "cell_type": "markdown",
   "metadata": {},
   "source": [
    "#### Q: What are the features (words) that tend to produce the negative prediction?\n",
    "\n",
    "Glad to see that words of criticism tend to produce negative predictions!"
   ]
  },
  {
   "cell_type": "code",
   "execution_count": 35,
   "metadata": {},
   "outputs": [
    {
     "name": "stdout",
     "output_type": "stream",
     "text": [
      "['worst', 'horrible', 'ok', 'rude', 'okay', 'terrible', 'not', 'disappointing', 'bland', 'slow', 'however', 'decent', 'mediocre', 'average', 'but', 'disgusting', 'dry', 'overpriced', 'wasn', 'poor']\n"
     ]
    }
   ],
   "source": [
    "top_negative_words = get_bottom_values(lst=lr_clf.coef_[0], n=20, labels=ix_to_words)\n",
    "print(top_negative_words)"
   ]
  },
  {
   "cell_type": "markdown",
   "metadata": {},
   "source": [
    "## Use grid search to find best predictable classifier\n",
    "\n",
    "Tuning the random forest took a lot of time; unfortunately, there is still significant overfitting, and the model performance is *worse* than logistic regression."
   ]
  },
  {
   "cell_type": "code",
   "execution_count": 37,
   "metadata": {},
   "outputs": [],
   "source": [
    "from sklearn.model_selection import GridSearchCV\n",
    "from sklearn.ensemble import RandomForestClassifier\n",
    "from math import sqrt, log2"
   ]
  },
  {
   "cell_type": "code",
   "execution_count": 38,
   "metadata": {},
   "outputs": [
    {
     "data": {
      "text/plain": [
       "GridSearchCV(cv=3, error_score='raise-deprecating',\n",
       "       estimator=RandomForestClassifier(bootstrap=True, class_weight=None, criterion='gini',\n",
       "            max_depth=None, max_features='auto', max_leaf_nodes=None,\n",
       "            min_impurity_decrease=0.0, min_impurity_split=None,\n",
       "            min_samples_leaf=1, min_samples_split=2,\n",
       "            min_weight_fraction_leaf=0.0, n_estimators='warn', n_jobs=None,\n",
       "            oob_score=False, random_state=None, verbose=0,\n",
       "            warm_start=False),\n",
       "       fit_params=None, iid='warn', n_jobs=4,\n",
       "       param_grid={'max_depth': (30,), 'n_estimators': (55, 65), 'max_features': array([2210, 3315, 4420])},\n",
       "       pre_dispatch='2*n_jobs', refit=True, return_train_score='warn',\n",
       "       scoring='accuracy', verbose=0)"
      ]
     },
     "execution_count": 38,
     "metadata": {},
     "output_type": "execute_result"
    }
   ],
   "source": [
    "rf_paramgrid = {\n",
    "    'max_depth': (30,),\n",
    "    'n_estimators': (55, 65),\n",
    "    'max_features': int(sqrt(X_train.shape[1])) * np.array([10.0, 15.0, 20.0], dtype='int'),\n",
    "}\n",
    "\n",
    "grid_rf = GridSearchCV(cv=3, \n",
    "                       estimator=RandomForestClassifier(), \n",
    "                       param_grid=rf_paramgrid, \n",
    "                       scoring='accuracy', n_jobs=4)\n",
    "\n",
    "grid_rf.fit(X_train, target_train)"
   ]
  },
  {
   "cell_type": "code",
   "execution_count": 39,
   "metadata": {},
   "outputs": [
    {
     "name": "stdout",
     "output_type": "stream",
     "text": [
      "After 3-fold CV, Random Forest achieves an accuracy of 0.8063957151858853\n",
      "The training accuracy is 0.9474506406217181\n"
     ]
    }
   ],
   "source": [
    "print(\"After 3-fold CV, Random Forest achieves an accuracy of {}\".format(grid_rf.best_score_))\n",
    "print(\"The training accuracy is {}\".format(grid_rf.score(X_train, target_train)))"
   ]
  },
  {
   "cell_type": "markdown",
   "metadata": {},
   "source": [
    "### Reduce dimensions of training data using PCA, to overcome overfitting\n",
    "As we can see from above, random forest is overfitting on the training data. Let's try reducing data dimensions using PCA, and fit random forest on the transformed set; hopefully that helps."
   ]
  },
  {
   "cell_type": "code",
   "execution_count": 40,
   "metadata": {},
   "outputs": [],
   "source": [
    "from sklearn.decomposition import TruncatedSVD\n",
    "from sklearn.model_selection import cross_val_score"
   ]
  },
  {
   "cell_type": "code",
   "execution_count": 41,
   "metadata": {},
   "outputs": [
    {
     "data": {
      "text/plain": [
       "49072"
      ]
     },
     "execution_count": 41,
     "metadata": {},
     "output_type": "execute_result"
    }
   ],
   "source": [
    "# The maximum number possible of features\n",
    "X_train.shape[1]"
   ]
  },
  {
   "cell_type": "code",
   "execution_count": 42,
   "metadata": {},
   "outputs": [],
   "source": [
    "# Using TruncatedSVD because it can work with sparse matrices directly\n",
    "# Also, according to sklearn documentation, it is a common choice for working with Tf-idf matrices\n",
    "pca = TruncatedSVD(n_components=50)\n",
    "X_train_pca = pca.fit_transform(X_train)\n",
    "X_test_pca = pca.transform(X_test)"
   ]
  },
  {
   "cell_type": "code",
   "execution_count": 43,
   "metadata": {},
   "outputs": [
    {
     "name": "stdout",
     "output_type": "stream",
     "text": [
      "0.13844584312744154\n"
     ]
    }
   ],
   "source": [
    "# We will see that despite explaining so little of the variance, the model still mostly works\n",
    "print(pca.explained_variance_ratio_.sum())"
   ]
  },
  {
   "cell_type": "code",
   "execution_count": 54,
   "metadata": {},
   "outputs": [
    {
     "data": {
      "text/plain": [
       "RandomForestClassifier(bootstrap=True, class_weight=None, criterion='gini',\n",
       "            max_depth=10, max_features='log2', max_leaf_nodes=None,\n",
       "            min_impurity_decrease=0.0, min_impurity_split=None,\n",
       "            min_samples_leaf=1, min_samples_split=2,\n",
       "            min_weight_fraction_leaf=0.0, n_estimators=100, n_jobs=2,\n",
       "            oob_score=False, random_state=None, verbose=0,\n",
       "            warm_start=False)"
      ]
     },
     "execution_count": 54,
     "metadata": {},
     "output_type": "execute_result"
    }
   ],
   "source": [
    "# Build model; followed by a bit of hand-tuning\n",
    "rf_pca = RandomForestClassifier(n_estimators=100, n_jobs=2, max_features='log2', max_depth=10)\n",
    "rf_pca.fit(X_train_pca, target_train)"
   ]
  },
  {
   "cell_type": "code",
   "execution_count": 55,
   "metadata": {},
   "outputs": [
    {
     "name": "stdout",
     "output_type": "stream",
     "text": [
      "0.834173492963663\n",
      "[0.78824873 0.78571991 0.78582962]\n"
     ]
    }
   ],
   "source": [
    "# Training accuracy\n",
    "print(rf_pca.score(X_train_pca, target_train))\n",
    "\n",
    "# 3-fold CV accuracy\n",
    "print(cross_val_score(rf_pca, X_train_pca, target_train, cv=3, scoring=\"accuracy\"))"
   ]
  },
  {
   "cell_type": "code",
   "execution_count": 58,
   "metadata": {},
   "outputs": [
    {
     "name": "stdout",
     "output_type": "stream",
     "text": [
      "0.7932501082975624\n"
     ]
    }
   ],
   "source": [
    "# Test performance\n",
    "print(rf_pca.score(X_test_pca, target_test))"
   ]
  },
  {
   "cell_type": "markdown",
   "metadata": {},
   "source": [
    "Conclusion: it is amazing that despite retaining only 50 features out of 49072, our model performs basically just as well. Moreover, the model trained much more quickly. However, PCA itself did not reduce overfitting; I had to manually set a small `max_depth` so that the training accuracy goes down. \n",
    "\n",
    "All in all, it would take more hyperparameter tuning to build an excellent random forest. However, that would have to wait until I find a faster computer for doing so."
   ]
  }
 ],
 "metadata": {
  "anaconda-cloud": {},
  "kernelspec": {
   "display_name": "Python 3",
   "language": "python",
   "name": "python3"
  },
  "language_info": {
   "codemirror_mode": {
    "name": "ipython",
    "version": 3
   },
   "file_extension": ".py",
   "mimetype": "text/x-python",
   "name": "python",
   "nbconvert_exporter": "python",
   "pygments_lexer": "ipython3",
   "version": "3.7.2"
  }
 },
 "nbformat": 4,
 "nbformat_minor": 2
}
