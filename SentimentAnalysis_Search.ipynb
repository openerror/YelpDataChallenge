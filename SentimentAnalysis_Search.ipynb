{
 "cells": [
  {
   "cell_type": "markdown",
   "metadata": {},
   "source": [
    "# Yelp Data Challenge - NLP\n",
    "\n",
    "Here I will build sentiment analysis models to classify reviews into positive/negative categories. Such models are useful in identifying points of concern, especially when it's infeasible to comb through reviews manually. \n",
    "\n",
    "For this project, I will simulate encountering new data with a heldout test set."
   ]
  },
  {
   "cell_type": "markdown",
   "metadata": {
    "collapsed": "true"
   },
   "source": [
    "## Imports"
   ]
  },
  {
   "cell_type": "code",
   "execution_count": 1,
   "metadata": {},
   "outputs": [],
   "source": [
    "from typing import *\n",
    "\n",
    "import matplotlib.pyplot as plt\n",
    "import numpy as np\n",
    "import pandas as pd\n",
    "\n",
    "from sklearn.decomposition import PCA, TruncatedSVD\n",
    "from sklearn.ensemble import RandomForestClassifier\n",
    "from sklearn.feature_extraction.text import TfidfVectorizer\n",
    "from sklearn.linear_model import LogisticRegression\n",
    "from sklearn.metrics import classification_report, confusion_matrix\n",
    "from sklearn.metrics.pairwise import cosine_similarity\n",
    "from sklearn.model_selection import train_test_split, GridSearchCV\n",
    "from sklearn.naive_bayes import MultinomialNB\n",
    "from sklearn.pipeline import Pipeline\n",
    "\n",
    "# nltk.download('stopwords')\n",
    "plt.style.use(\"ggplot\")\n",
    "\n",
    "%load_ext autoreload\n",
    "%autoreload 1\n",
    "%aimport src.nlp_helpers\n",
    "from src.nlp_helpers import get_top_values, get_bottom_values, get_n_most_frequent_tokens"
   ]
  },
  {
   "cell_type": "markdown",
   "metadata": {},
   "source": [
    "## Load data\n",
    "We will use the DataFrame constructed in `Data_Preprocessing.ipynb`. It contains reviews of restaurants from Las Vegas from approximately the last 2 years."
   ]
  },
  {
   "cell_type": "code",
   "execution_count": 2,
   "metadata": {},
   "outputs": [],
   "source": [
    "df = pd.read_csv('data/last_2_years_restaurant_reviews.csv',\n",
    "                 dtype={tag: np.int16 for tag in (\"useful\", \"funny\", \"cool\")})\n",
    "\n",
    "df = df.drop(columns=[\"attributes\"])"
   ]
  },
  {
   "cell_type": "code",
   "execution_count": 3,
   "metadata": {},
   "outputs": [
    {
     "data": {
      "text/plain": [
       "business_id    0\n",
       "name           0\n",
       "categories     0\n",
       "avg_stars      0\n",
       "review_id      0\n",
       "user_id        0\n",
       "stars          0\n",
       "date           0\n",
       "text           0\n",
       "useful         0\n",
       "funny          0\n",
       "cool           0\n",
       "dtype: int64"
      ]
     },
     "execution_count": 3,
     "metadata": {},
     "output_type": "execute_result"
    }
   ],
   "source": [
    "# Minor number of NAs in 'attributes'; fortunately, we won't need that feature\n",
    "pd.DataFrame.sum(df.isna())"
   ]
  },
  {
   "cell_type": "markdown",
   "metadata": {},
   "source": [
    "### Define review data set\n",
    "\n",
    "What constitutes a \"positive\" review? A sensible baseline is to equate that with 5-star reviews, the highest rating possible. After all, any rating below the highest possible may indicate room for improvement, on the restaurant's part."
   ]
  },
  {
   "cell_type": "code",
   "execution_count": 4,
   "metadata": {},
   "outputs": [
    {
     "data": {
      "text/plain": [
       "False    61094\n",
       "True     54700\n",
       "Name: stars, dtype: int64"
      ]
     },
     "execution_count": 4,
     "metadata": {},
     "output_type": "execute_result"
    }
   ],
   "source": [
    "raw_reviews = df.text\n",
    "target = df.stars.apply(lambda s: s == 5)\n",
    "\n",
    "target.value_counts()  # class label almost balanced"
   ]
  },
  {
   "cell_type": "code",
   "execution_count": 5,
   "metadata": {},
   "outputs": [
    {
     "name": "stdout",
     "output_type": "stream",
     "text": [
      "There are 115794 reviews in total.\n",
      "\n",
      "Sample: I was quite fortunate to have discovered this nice little Thai restaurant near work! Their food is quite exceptional and beyond the many great eateries we r bless with in this great city of our. The thing I like most about this particular Thai restaurant is the in-house made curry and the friendly service from the staff! Eventhough I m not a really  big fan of spicy food! The curry has enough special herbs to balance out the flavor! I will definitely be back for my lunch break at this little desert flower!\n"
     ]
    },
    {
     "data": {
      "image/png": "[encoded data removed]",
      "text/plain": [
       "<Figure size 432x288 with 1 Axes>"
      ]
     },
     "metadata": {},
     "output_type": "display_data"
    }
   ],
   "source": [
    "\"\"\"\n",
    "    Inspect documents: check length and display an example.\n",
    "    \n",
    "    Reviews come in various lengths; deep learning especially RNN models\n",
    "    may work well but it may also be an overkill. (Padding reviews to the\n",
    "    same length also consumes a lot of RAM.). Will adopt bag-of-words \n",
    "    approach.\n",
    "\"\"\"\n",
    "\n",
    "plt.hist(raw_reviews.apply(len))\n",
    "plt.title(\"Length Distribution of Reviews\")\n",
    "plt.ylabel(\"Number of reviews\")\n",
    "plt.xlabel(\"Length of review (characters)\")\n",
    "\n",
    "print(\"There are {} reviews in total.\".format(len(raw_reviews)))\n",
    "print(\"\\nSample: {}\".format(raw_reviews[0]))"
   ]
  },
  {
   "cell_type": "markdown",
   "metadata": {},
   "source": [
    "### Splitting into training and test sets"
   ]
  },
  {
   "cell_type": "code",
   "execution_count": 6,
   "metadata": {},
   "outputs": [],
   "source": [
    "# Now split the data into training set and test set\n",
    "# Use the (default) 75-25 split\n",
    "\n",
    "reviews_train, reviews_test, \\\n",
    "    target_train, target_test = train_test_split(raw_reviews, target, \n",
    "                                                 test_size=0.20, random_state=53)"
   ]
  },
  {
   "cell_type": "markdown",
   "metadata": {},
   "source": [
    "## Obtain NLP representation of `documents`\n",
    "\n",
    "Here I will tokenize reviews as unigrams, and convert each review to a term frequency–inverse document frequency (Tf-idf) vector."
   ]
  },
  {
   "cell_type": "markdown",
   "metadata": {
    "collapsed": "true"
   },
   "source": [
    "### Filter out stop words\n",
    "Remove top-n unigrams by total occurences over all reviews, *after* discarding unigrams with document frequency higher than `max_df`. This is a quick-n-dirty way of removing grammatical stop words. \n",
    "\n",
    "Adjust `n` and `max_df`, so that code **does not** return any words of potential interest, e.g. \"service\""
   ]
  },
  {
   "cell_type": "code",
   "execution_count": 7,
   "metadata": {},
   "outputs": [
    {
     "data": {
      "text/html": [
       "<div>\n",
       "<style scoped>\n",
       "    .dataframe tbody tr th:only-of-type {\n",
       "        vertical-align: middle;\n",
       "    }\n",
       "\n",
       "    .dataframe tbody tr th {\n",
       "        vertical-align: top;\n",
       "    }\n",
       "\n",
       "    .dataframe thead th {\n",
       "        text-align: right;\n",
       "    }\n",
       "</style>\n",
       "<table border=\"1\" class=\"dataframe\">\n",
       "  <thead>\n",
       "    <tr style=\"text-align: right;\">\n",
       "      <th></th>\n",
       "      <th>tokens</th>\n",
       "      <th>counts</th>\n",
       "    </tr>\n",
       "  </thead>\n",
       "  <tbody>\n",
       "    <tr>\n",
       "      <th>0</th>\n",
       "      <td>the</td>\n",
       "      <td>462488</td>\n",
       "    </tr>\n",
       "    <tr>\n",
       "      <th>1</th>\n",
       "      <td>and</td>\n",
       "      <td>310722</td>\n",
       "    </tr>\n",
       "    <tr>\n",
       "      <th>2</th>\n",
       "      <td>to</td>\n",
       "      <td>194488</td>\n",
       "    </tr>\n",
       "    <tr>\n",
       "      <th>3</th>\n",
       "      <td>was</td>\n",
       "      <td>189111</td>\n",
       "    </tr>\n",
       "    <tr>\n",
       "      <th>4</th>\n",
       "      <td>it</td>\n",
       "      <td>141787</td>\n",
       "    </tr>\n",
       "    <tr>\n",
       "      <th>5</th>\n",
       "      <td>of</td>\n",
       "      <td>121175</td>\n",
       "    </tr>\n",
       "    <tr>\n",
       "      <th>6</th>\n",
       "      <td>is</td>\n",
       "      <td>109630</td>\n",
       "    </tr>\n",
       "    <tr>\n",
       "      <th>7</th>\n",
       "      <td>for</td>\n",
       "      <td>104318</td>\n",
       "    </tr>\n",
       "    <tr>\n",
       "      <th>8</th>\n",
       "      <td>we</td>\n",
       "      <td>97106</td>\n",
       "    </tr>\n",
       "    <tr>\n",
       "      <th>9</th>\n",
       "      <td>in</td>\n",
       "      <td>90306</td>\n",
       "    </tr>\n",
       "    <tr>\n",
       "      <th>10</th>\n",
       "      <td>this</td>\n",
       "      <td>78432</td>\n",
       "    </tr>\n",
       "    <tr>\n",
       "      <th>11</th>\n",
       "      <td>my</td>\n",
       "      <td>74740</td>\n",
       "    </tr>\n",
       "    <tr>\n",
       "      <th>12</th>\n",
       "      <td>food</td>\n",
       "      <td>72799</td>\n",
       "    </tr>\n",
       "    <tr>\n",
       "      <th>13</th>\n",
       "      <td>with</td>\n",
       "      <td>71764</td>\n",
       "    </tr>\n",
       "    <tr>\n",
       "      <th>14</th>\n",
       "      <td>but</td>\n",
       "      <td>70753</td>\n",
       "    </tr>\n",
       "    <tr>\n",
       "      <th>15</th>\n",
       "      <td>that</td>\n",
       "      <td>70285</td>\n",
       "    </tr>\n",
       "    <tr>\n",
       "      <th>16</th>\n",
       "      <td>you</td>\n",
       "      <td>67745</td>\n",
       "    </tr>\n",
       "    <tr>\n",
       "      <th>17</th>\n",
       "      <td>they</td>\n",
       "      <td>65429</td>\n",
       "    </tr>\n",
       "    <tr>\n",
       "      <th>18</th>\n",
       "      <td>on</td>\n",
       "      <td>57360</td>\n",
       "    </tr>\n",
       "    <tr>\n",
       "      <th>19</th>\n",
       "      <td>had</td>\n",
       "      <td>56850</td>\n",
       "    </tr>\n",
       "    <tr>\n",
       "      <th>20</th>\n",
       "      <td>were</td>\n",
       "      <td>54884</td>\n",
       "    </tr>\n",
       "    <tr>\n",
       "      <th>21</th>\n",
       "      <td>not</td>\n",
       "      <td>54569</td>\n",
       "    </tr>\n",
       "    <tr>\n",
       "      <th>22</th>\n",
       "      <td>so</td>\n",
       "      <td>52424</td>\n",
       "    </tr>\n",
       "    <tr>\n",
       "      <th>23</th>\n",
       "      <td>good</td>\n",
       "      <td>51502</td>\n",
       "    </tr>\n",
       "    <tr>\n",
       "      <th>24</th>\n",
       "      <td>have</td>\n",
       "      <td>47205</td>\n",
       "    </tr>\n",
       "    <tr>\n",
       "      <th>25</th>\n",
       "      <td>place</td>\n",
       "      <td>46324</td>\n",
       "    </tr>\n",
       "    <tr>\n",
       "      <th>26</th>\n",
       "      <td>at</td>\n",
       "      <td>42950</td>\n",
       "    </tr>\n",
       "    <tr>\n",
       "      <th>27</th>\n",
       "      <td>great</td>\n",
       "      <td>39954</td>\n",
       "    </tr>\n",
       "    <tr>\n",
       "      <th>28</th>\n",
       "      <td>service</td>\n",
       "      <td>39234</td>\n",
       "    </tr>\n",
       "    <tr>\n",
       "      <th>29</th>\n",
       "      <td>our</td>\n",
       "      <td>38810</td>\n",
       "    </tr>\n",
       "  </tbody>\n",
       "</table>\n",
       "</div>"
      ],
      "text/plain": [
       "     tokens  counts\n",
       "0       the  462488\n",
       "1       and  310722\n",
       "2        to  194488\n",
       "3       was  189111\n",
       "4        it  141787\n",
       "5        of  121175\n",
       "6        is  109630\n",
       "7       for  104318\n",
       "8        we   97106\n",
       "9        in   90306\n",
       "10     this   78432\n",
       "11       my   74740\n",
       "12     food   72799\n",
       "13     with   71764\n",
       "14      but   70753\n",
       "15     that   70285\n",
       "16      you   67745\n",
       "17     they   65429\n",
       "18       on   57360\n",
       "19      had   56850\n",
       "20     were   54884\n",
       "21      not   54569\n",
       "22       so   52424\n",
       "23     good   51502\n",
       "24     have   47205\n",
       "25    place   46324\n",
       "26       at   42950\n",
       "27    great   39954\n",
       "28  service   39234\n",
       "29      our   38810"
      ]
     },
     "execution_count": 7,
     "metadata": {},
     "output_type": "execute_result"
    }
   ],
   "source": [
    "# 23rd token: good, 27th token: great, sentiment related. Must keep\n",
    "top_n_words = pd.DataFrame(get_n_most_frequent_tokens(reviews_train, 30, 0.98), \n",
    "                           columns=[\"tokens\", \"counts\"])\n",
    "top_n_words"
   ]
  },
  {
   "cell_type": "code",
   "execution_count": 8,
   "metadata": {},
   "outputs": [],
   "source": [
    "# Only take the top 20 as stop words\n",
    "grammatical_stop_words = top_n_words[\"tokens\"].iloc[:20].values\n",
    "vectorizer = TfidfVectorizer(lowercase=True, stop_words=grammatical_stop_words.tolist(), max_df=0.98)"
   ]
  },
  {
   "cell_type": "code",
   "execution_count": 9,
   "metadata": {},
   "outputs": [],
   "source": [
    "# Fit the vectorizer with training data\n",
    "X_train = vectorizer.fit_transform(reviews_train)\n",
    "\n",
    "# Use the trained vectorizer to transform test data\n",
    "X_test = vectorizer.transform(reviews_test)"
   ]
  },
  {
   "cell_type": "code",
   "execution_count": 10,
   "metadata": {},
   "outputs": [
    {
     "name": "stdout",
     "output_type": "stream",
     "text": [
      "Vocabulary contains 53613 items\n"
     ]
    }
   ],
   "source": [
    "# Get the vocab of your tfidf\n",
    "vocab = vectorizer.vocabulary_\n",
    "print(\"Vocabulary contains {} items\".format(len(vocab)))"
   ]
  },
  {
   "cell_type": "markdown",
   "metadata": {
    "collapsed": "true"
   },
   "source": [
    "## Build Search Engine for 'Similar' Reviews\n",
    "Once we have identified a review as positive/negative, we may want to search for other similar reviews to get a better picture of the data or the restaurant(s). Here, similarity is calculated based on Tf-idf features, and experimentally cosine similarity proves to give reasonable results.\n",
    "\n",
    "From experience working with word embeddings"
   ]
  },
  {
   "cell_type": "code",
   "execution_count": 11,
   "metadata": {},
   "outputs": [
    {
     "name": "stdout",
     "output_type": "stream",
     "text": [
      "['rabbit', 'mouse']\n",
      "['cat', 'pig']\n"
     ]
    }
   ],
   "source": [
    "# Test helper functions from above\n",
    "print( get_bottom_values(lst=[7, 3, 2, 4, 1], n=2, labels = [\"cat\", \"dog\", \"mouse\", \"pig\", \"rabbit\"]) ) \n",
    "print( get_top_values(lst=[7, 3, 2, 4, 1], n=2, labels = [\"cat\", \"dog\", \"mouse\", \"pig\", \"rabbit\"]) )"
   ]
  },
  {
   "cell_type": "code",
   "execution_count": 12,
   "metadata": {},
   "outputs": [],
   "source": [
    "# Draw an arbitrary review from test (unseen in training) documents\n",
    "review_ind = 2103\n",
    "review = X_test[review_ind, :]"
   ]
  },
  {
   "cell_type": "code",
   "execution_count": 13,
   "metadata": {},
   "outputs": [
    {
     "data": {
      "text/plain": [
       "(array([6.9570e+04, 1.8744e+04, 3.4150e+03, 6.9100e+02, 1.6800e+02,\n",
       "        2.7000e+01, 1.5000e+01, 2.0000e+00, 1.0000e+00, 2.0000e+00]),\n",
       " array([0.        , 0.03783504, 0.07567007, 0.11350511, 0.15134014,\n",
       "        0.18917518, 0.22701021, 0.26484525, 0.30268028, 0.34051532,\n",
       "        0.37835035]),\n",
       " <BarContainer object of 10 artists>)"
      ]
     },
     "execution_count": 13,
     "metadata": {},
     "output_type": "execute_result"
    },
    {
     "data": {
      "image/png": "[encoded data removed]",
      "text/plain": [
       "<Figure size 432x288 with 1 Axes>"
      ]
     },
     "metadata": {},
     "output_type": "display_data"
    }
   ],
   "source": [
    "# Calculate the similarity score(s) between vector(s) and training vectors\n",
    "similarity = cosine_similarity(X_train, review)\n",
    "similarity = similarity.reshape(len(similarity),)\n",
    "\n",
    "# Cosine similarity ranges from abs(0, 1)\n",
    "# But even the top values are rather close to 0 ... Expect mediocre results\n",
    "plt.title(\"Similarity between Training Set and Picked Review\")\n",
    "plt.ylabel(\"Number of Training Set Reviews\")\n",
    "plt.xlabel(\"Cosine Similarity\")\n",
    "plt.hist(similarity)"
   ]
  },
  {
   "cell_type": "code",
   "execution_count": 14,
   "metadata": {},
   "outputs": [],
   "source": [
    "# Let's find top 4 similar reviews\n",
    "top_similar_reviews = get_top_values(lst=similarity, n=4, labels=reviews_train.values)"
   ]
  },
  {
   "cell_type": "code",
   "execution_count": 15,
   "metadata": {},
   "outputs": [
    {
     "name": "stdout",
     "output_type": "stream",
     "text": [
      "Our search query:\n",
      "Amazing food, incredible service. I love everyone who works here and kind of come just to see them sometimes.  Veggy Street is a simple, delicious spot for a quick vegan bite. Def recommend\n",
      "\n",
      "Most 4 similar reviews:\n",
      "___ Review 1 ___\n",
      "Wow!!!!!!! My Veggy Cheeseburger was mouth watering good. I was craving a burger but didn't really want one, and I am so happy I came to Veggy Street!!!!!!! Well Done Veggy Street!!!!!!!!\n",
      "\n",
      "Yum!!!!!!!!!!!!!!!!\n",
      "\n",
      "*Employees*\n",
      "Thanks Max for the amazing customer service. He was super helpful and offered amazing menu suggestions. He told me that the Veggy cheeseburger is one of the best items on the menu. I must say I was very pleased with my Veggy cheeseburger and fries. \n",
      "\n",
      "I will definitely be returning for more delicious food!!!!! \n",
      "\n",
      "*Inside* \n",
      "The inside is super clean with cute decor and their logo on the wall. Check out was super quick and easy. There is a giant menu up front but more detailed menus are available as well. \n",
      "\n",
      "P.S- you get a delicious protein truffle with you Yelp checkin. Double yummmmmmmmmmm . Veggy Street you know the way to my heart\n",
      "___END___\n",
      "\n",
      "___ Review 2 ___\n",
      "Been here twice and everything is so delicious and full of flavor!! I plan on trying something new every time I go there but will definitely have an order of the Veggy street tacos every single time- I'm addicted! Everyone working there is so welcoming and friendly, the atmosphere is awesome but most of all the food is amazing!! \n",
      "Veggy street tacos \n",
      "Açaí lemonade \n",
      "\n",
      "I want a Veggy street in every zip code! Lol\n",
      "___END___\n",
      "\n",
      "___ Review 3 ___\n",
      "Food is delicious . Service is quick and food is amazing as always. I always love to come here to get a bite to eat.\n",
      "___END___\n",
      "\n",
      "___ Review 4 ___\n",
      "Amazing authentic food. Love it here and would def. come back. The customer service is outstanding!\n",
      "___END___\n",
      "\n"
     ]
    }
   ],
   "source": [
    "# Print search results!\n",
    "# At the very least, the top search result is somewhat relevant to the input query\n",
    "# They both discuss an evening meal, and share the same concerns of cold food\n",
    "\n",
    "print('Our search query:')\n",
    "print(reviews_test.iloc[review_ind]) \n",
    "print()\n",
    "\n",
    "print('Most %s similar reviews:' % len(top_similar_reviews))\n",
    "for i, review in enumerate(top_similar_reviews):\n",
    "    print(\"___ Review {} ___\".format(i+1))\n",
    "    print(review)\n",
    "    print(\"___END___\\n\")"
   ]
  },
  {
   "cell_type": "markdown",
   "metadata": {},
   "source": [
    "* Q: Do the results make sense?\n",
    "\n",
    "* A: It seems we are lucky with the particular review picked. All the top similar reviews discuss Indian restaurants\n",
    "and their curries; two of them also discussed the taste of the chicken served. Cannot guarantee globally acceptable performance, but don't have better (and simple) ideas now."
   ]
  },
  {
   "cell_type": "markdown",
   "metadata": {},
   "source": [
    "## Classifying positive/negative review\n",
    "\n",
    "1. Build **logistic regression** classifier first, because its coefficients are the easiest to interpret. That would help us understand the language used in the reviews better.\n",
    "2. Then, build multinomial **naive Bayes** (NB) classifier. Given how training and running a NB model is very quick, if it performs reasonably well it may just serve as the production model!\n",
    "\n",
    "Accuracy, precision and recall metrics recorded for held-out test data, courtesy of `sklearn.metrics.classification_report`"
   ]
  },
  {
   "cell_type": "markdown",
   "metadata": {
    "collapsed": "true"
   },
   "source": [
    "### Logistic Regression Classifier"
   ]
  },
  {
   "cell_type": "code",
   "execution_count": 16,
   "metadata": {},
   "outputs": [
    {
     "name": "stdout",
     "output_type": "stream",
     "text": [
      "0.867177632644249\n",
      "0.8428256833196598\n"
     ]
    }
   ],
   "source": [
    "lr_clf = LogisticRegression(solver=\"lbfgs\", max_iter=200)\n",
    "lr_clf.fit(X_train, target_train)\n",
    "\n",
    "# Get accuracy for training set\n",
    "print(lr_clf.score(X_train, target_train))\n",
    "\n",
    "# Get accuracy for test set.\n",
    "# Not bad! Let's hope RandomForest can beat LR; if not, LR works pretty well already\n",
    "print(lr_clf.score(X_test, target_test))"
   ]
  },
  {
   "cell_type": "markdown",
   "metadata": {},
   "source": [
    "#### Q: Which features (words) tend to produce a positive/negative prediction?\n",
    "\n",
    "Glad to see that features with the most positive/negative coefficients in logistic regression actually correspond to positive/negative sentiments! (Remember, perfect = 1, imperfect = 0) "
   ]
  },
  {
   "cell_type": "code",
   "execution_count": 17,
   "metadata": {},
   "outputs": [
    {
     "name": "stdout",
     "output_type": "stream",
     "text": [
      "['amazing', 'best', 'awesome', 'delicious', 'excellent', 'thank', 'highly', 'incredible', 'fantastic', 'perfect']\n",
      "['worst', 'ok', 'horrible', 'rude', 'disappointing', 'okay', 'terrible', 'not', 'slow', 'mediocre']\n"
     ]
    }
   ],
   "source": [
    "# Must first create a mapping from feature index to actual word\n",
    "ix_to_words = {ix:word for word,ix in vocab.items()}\n",
    "\n",
    "top_positive_words = get_top_values(lst=lr_clf.coef_[0], n=10, labels=ix_to_words)\n",
    "print(top_positive_words)\n",
    "\n",
    "top_negative_words = get_bottom_values(lst=lr_clf.coef_[0], n=10, labels=ix_to_words)\n",
    "print(top_negative_words)"
   ]
  },
  {
   "cell_type": "code",
   "execution_count": 18,
   "metadata": {},
   "outputs": [
    {
     "name": "stdout",
     "output_type": "stream",
     "text": [
      "              precision    recall  f1-score   support\n",
      "\n",
      "    Negative       0.86      0.84      0.85     12277\n",
      "    Positive       0.83      0.84      0.83     10882\n",
      "\n",
      "    accuracy                           0.84     23159\n",
      "   macro avg       0.84      0.84      0.84     23159\n",
      "weighted avg       0.84      0.84      0.84     23159\n",
      "\n"
     ]
    }
   ],
   "source": [
    "\"\"\" Accuracy/Precision/Recall all similarly high, good \"\"\"\n",
    "print(classification_report(target_test, lr_clf.predict(X_test), target_names=(\"Negative\", \"Positive\")))"
   ]
  },
  {
   "cell_type": "markdown",
   "metadata": {},
   "source": [
    "#### (Multinomial) Naive Bayes Classifier\n",
    "Technically multinomial naive Bayes should be fed integer features, but according to [sklearn's documentation](https://scikit-learn.org/stable/modules/generated/sklearn.naive_bayes.MultinomialNB.html) fractional tf-idf values work in practice, too. "
   ]
  },
  {
   "cell_type": "code",
   "execution_count": 19,
   "metadata": {},
   "outputs": [
    {
     "name": "stdout",
     "output_type": "stream",
     "text": [
      "0.836811140497652\n",
      "0.8170041884364609\n"
     ]
    }
   ],
   "source": [
    "# Default settings of Laplace smoothing, and computing class priors from data\n",
    "nb_clf = MultinomialNB(alpha=1.0, fit_prior=True)\n",
    "nb_clf.fit(X_train, target_train)\n",
    "\n",
    "# Get accuracy for training set\n",
    "print(nb_clf.score(X_train, target_train))\n",
    "\n",
    "# Get accuracy for test set.\n",
    "# Not bad! If this accuracy is accceptable, definitely should consider deploying NB model\n",
    "# It's quick to run and can be updated online\n",
    "print(nb_clf.score(X_test, target_test))"
   ]
  },
  {
   "cell_type": "code",
   "execution_count": 20,
   "metadata": {},
   "outputs": [
    {
     "name": "stdout",
     "output_type": "stream",
     "text": [
      "              precision    recall  f1-score   support\n",
      "\n",
      "    Negative       0.82      0.84      0.83     12277\n",
      "    Positive       0.82      0.79      0.80     10882\n",
      "\n",
      "    accuracy                           0.82     23159\n",
      "   macro avg       0.82      0.82      0.82     23159\n",
      "weighted avg       0.82      0.82      0.82     23159\n",
      "\n"
     ]
    }
   ],
   "source": [
    "\"\"\" Perfect reviews have weaker recall; maybe that's where naive Bayes lost out to logistic regression \"\"\"\n",
    "print(classification_report(target_test, nb_clf.predict(X_test), target_names=(\"Negative\", \"Positive\")))"
   ]
  },
  {
   "cell_type": "markdown",
   "metadata": {
    "collapsed": "true"
   },
   "source": [
    "### What about non-linear models?\n",
    "\n",
    "Can we obtain even better classification performance with non-linear models, such as random forest? Unfortunately, my laptop takes hours to cross validate random forest --- and sometimes the program still doesn't terminate.\n",
    "\n",
    "With a better computer, I would cut down on the number of features using PCA, and then feed the principal components to a downstream, non-linear model. That should keep computations manageable."
   ]
  },
  {
   "cell_type": "markdown",
   "metadata": {},
   "source": [
    "### What can we do with the models?\n",
    "\n",
    "How can we make use of the sentiment analysis models trained above? Admittedly, for Yelp  reviews, it doesn't seem necessary to predict a label for each review, because each review is already associated with a star rating. (In fact, that's how we got our labels.)\n",
    "\n",
    "However, one can imagine wanting to classify text reviews coming from outside Yelp; in this case, the enormous Yelp data set is great for building a baseline model.\n",
    "\n",
    "Then, for instance, given a corpus of unlabeled reviews for e.g. new restaurants, the models allow us to quickly estimate e.g. the proportion of positive/negative reviews. Demonstrated below using Yelp data."
   ]
  },
  {
   "cell_type": "code",
   "execution_count": 21,
   "metadata": {},
   "outputs": [],
   "source": [
    "# Reload to keep things clean\n",
    "df = pd.read_csv('data/last_2_years_restaurant_reviews.csv',\n",
    "                 dtype={tag: np.int16 for tag in (\"useful\", \"funny\", \"cool\")})\n",
    "\n",
    "df = df.drop(columns=[\"attributes\"])\n",
    "\n",
    "most_reviewed_restaurants = df.groupby(\"business_id\")\\\n",
    "                              [\"review_id\"].nunique()\\\n",
    "                                           .sort_values(ascending=False)"
   ]
  },
  {
   "cell_type": "code",
   "execution_count": 22,
   "metadata": {},
   "outputs": [],
   "source": [
    "pos_rev_df = []\n",
    "\n",
    "for bid in most_reviewed_restaurants.index[0:5]:\n",
    "    # For each business_id (bid)\n",
    "    # predict sentiment of associated reviews\n",
    "    # then compute the predicted proportion of +ve reviews\n",
    "    df_bid = df.query(\"`business_id` == @bid\")\n",
    "    \n",
    "    reviews_bid = vectorizer.transform(df_bid[\"text\"])\n",
    "    predicted_sentiments = lr_clf.predict(reviews_bid)\n",
    "    positive_review_proportion = (predicted_sentiments == True).sum() / predicted_sentiments.shape[0]\n",
    "    \n",
    "    restaurant_name = df_bid[\"name\"].iloc[0]\n",
    "    pos_rev_df.append((restaurant_name, positive_review_proportion))\n",
    "    \n",
    "pos_rev_df = pd.DataFrame(pos_rev_df, columns=[\"Restaurant\", \"Proportion of Positive Reviews\"])\\\n",
    "               .set_index(\"Restaurant\")"
   ]
  },
  {
   "cell_type": "code",
   "execution_count": 24,
   "metadata": {},
   "outputs": [
    {
     "data": {
      "text/plain": [
       "<matplotlib.lines.Line2D at 0x122984e50>"
      ]
     },
     "execution_count": 24,
     "metadata": {},
     "output_type": "execute_result"
    },
    {
     "data": {
      "image/png": "[encoded data removed]",
      "text/plain": [
       "<Figure size 432x288 with 1 Axes>"
      ]
     },
     "metadata": {},
     "output_type": "display_data"
    }
   ],
   "source": [
    "# For the most-reviewed restaurant, Tom's Urban, number of reviews with negative sentiment\n",
    "# outnumbers positive ones!\n",
    "\n",
    "pos_rev_df.plot.barh(title=\"How Favorable are the Top-5 Most Reviewed Las Vegan Restaurants?\")\n",
    "plt.axvline(0.5, ls=\"--\", color=\"black\")"
   ]
  },
  {
   "cell_type": "markdown",
   "metadata": {},
   "source": [
    "## Summary of Steps Taken + Results\n",
    "\n",
    "### Obtained vector representation of text reviews\n",
    "Tf-idf vectors, with only basic filtering of stop words.\n",
    "\n",
    "### Basic search engine for \"similar\" reviews\n",
    "Given a query in text; searches corpus and return the most similar reviews. Cosine similarity is used here, because it is insentive; therefore the search engine can still function alright, even when the query is much shorter or longer than corpus documents.\n",
    "\n",
    "### Sentiment analysis\n",
    "Both logistic regression and multinomial naive Bayes easily achieved over 80% of accuracy, on both training and test sets. While logistic regression performs 3-4% better, if prediction speed or training time is really an issue, naive Bayes is definitely a viable alternative.\n",
    "\n",
    "On the other hand, at least for the present amount of data, tuning random forest takes too long for the performance gain obtained. It easily overfits on the training data, and after elaborate, randomized hyperparameter search it only achieves the same accuracy as naive Bayes! Not worth exploring unless with a more powerful computer."
   ]
  }
 ],
 "metadata": {
  "anaconda-cloud": {},
  "kernelspec": {
   "display_name": "Python 3",
   "language": "python",
   "name": "python3"
  },
  "language_info": {
   "codemirror_mode": {
    "name": "ipython",
    "version": 3
   },
   "file_extension": ".py",
   "mimetype": "text/x-python",
   "name": "python",
   "nbconvert_exporter": "python",
   "pygments_lexer": "ipython3",
   "version": "3.8.5"
  }
 },
 "nbformat": 4,
 "nbformat_minor": 4
}
