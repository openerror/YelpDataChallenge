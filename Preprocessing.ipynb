{
 "cells": [
  {
   "cell_type": "markdown",
   "metadata": {},
   "source": [
    "# Yelp Data Challenge - Data Preprocessing"
   ]
  },
  {
   "cell_type": "markdown",
   "metadata": {},
   "source": [
    "This is an attempt to build a basic recommendation system for restaurants in Las Vegas. We will explore using collaborative filtering and matrix factorization methods."
   ]
  },
  {
   "cell_type": "markdown",
   "metadata": {},
   "source": [
    "## Dataset Introduction\n",
    "\n",
    "[Yelp Dataset Challenge](https://www.yelp.com/dataset_challenge)\n",
    "\n",
    "The Challenge Dataset:\n",
    "\n",
    "    4.1M reviews and 947K tips by 1M users for 144K businesses\n",
    "    1.1M business attributes, e.g., hours, parking availability, ambience.\n",
    "    Aggregated check-ins over time for each of the 125K businesses\n",
    "    200,000 pictures from the included businesses\n",
    "\n",
    "Cities:\n",
    "\n",
    "    1111 unique cities from all across the globe. This project will work with Las Vegas.\n",
    "    It is a popular destination, and there are ample entries in this data set.\n",
    "\n",
    "Files:\n",
    "\n",
    "    yelp_academic_dataset_business.json\n",
    "    yelp_academic_dataset_checkin.json\n",
    "    yelp_academic_dataset_review.json\n",
    "    yelp_academic_dataset_tip.json\n",
    "    yelp_academic_dataset_user.json\n",
    "\n",
    "Notes on the Dataset\n",
    "\n",
    "    Each file is composed of a single object type, one json-object per-line.\n",
    "    Take a look at some examples to get you started: https://github.com/Yelp/dataset-examples.\n",
    "\n"
   ]
  },
  {
   "cell_type": "markdown",
   "metadata": {},
   "source": [
    "## Read data from file and load to Pandas DataFrame\n",
    "\n",
    "**Warning**: Loading all the 1.8 GB data into Pandas at a time takes long time and a lot of memory!"
   ]
  },
  {
   "cell_type": "code",
   "execution_count": 1,
   "metadata": {},
   "outputs": [],
   "source": [
    "import json\n",
    "import pandas as pd\n",
    "import numpy as np"
   ]
  },
  {
   "cell_type": "code",
   "execution_count": 2,
   "metadata": {},
   "outputs": [],
   "source": [
    "file_business, file_checkin, file_review, file_tip, file_user = [\n",
    "    'yelp_dataset/yelp_academic_dataset_business.json',\n",
    "    'yelp_dataset/yelp_academic_dataset_checkin.json',\n",
    "    'yelp_dataset/yelp_academic_dataset_review.json',\n",
    "    'yelp_dataset/yelp_academic_dataset_tip.json',\n",
    "    'yelp_dataset/yelp_academic_dataset_user.json'\n",
    "]"
   ]
  },
  {
   "cell_type": "markdown",
   "metadata": {},
   "source": [
    "#### Business Data"
   ]
  },
  {
   "cell_type": "code",
   "execution_count": 3,
   "metadata": {},
   "outputs": [],
   "source": [
    "with open(file_business) as f:\n",
    "    df_business = pd.DataFrame(json.loads(line) for line in f)"
   ]
  },
  {
   "cell_type": "code",
   "execution_count": 4,
   "metadata": {},
   "outputs": [
    {
     "data": {
      "text/html": [
       "<div>\n",
       "<style scoped>\n",
       "    .dataframe tbody tr th:only-of-type {\n",
       "        vertical-align: middle;\n",
       "    }\n",
       "\n",
       "    .dataframe tbody tr th {\n",
       "        vertical-align: top;\n",
       "    }\n",
       "\n",
       "    .dataframe thead th {\n",
       "        text-align: right;\n",
       "    }\n",
       "</style>\n",
       "<table border=\"1\" class=\"dataframe\">\n",
       "  <thead>\n",
       "    <tr style=\"text-align: right;\">\n",
       "      <th></th>\n",
       "      <th>address</th>\n",
       "      <th>attributes</th>\n",
       "      <th>business_id</th>\n",
       "      <th>categories</th>\n",
       "      <th>city</th>\n",
       "      <th>hours</th>\n",
       "      <th>is_open</th>\n",
       "      <th>latitude</th>\n",
       "      <th>longitude</th>\n",
       "      <th>name</th>\n",
       "      <th>neighborhood</th>\n",
       "      <th>postal_code</th>\n",
       "      <th>review_count</th>\n",
       "      <th>stars</th>\n",
       "      <th>state</th>\n",
       "    </tr>\n",
       "  </thead>\n",
       "  <tbody>\n",
       "    <tr>\n",
       "      <th>0</th>\n",
       "      <td>1314 44 Avenue NE</td>\n",
       "      <td>{'BikeParking': 'False', 'BusinessAcceptsCredi...</td>\n",
       "      <td>Apn5Q_b6Nz61Tq4XzPdf9A</td>\n",
       "      <td>Tours, Breweries, Pizza, Restaurants, Food, Ho...</td>\n",
       "      <td>Calgary</td>\n",
       "      <td>{'Monday': '8:30-17:0', 'Tuesday': '11:0-21:0'...</td>\n",
       "      <td>1</td>\n",
       "      <td>51.091813</td>\n",
       "      <td>-114.031675</td>\n",
       "      <td>Minhas Micro Brewery</td>\n",
       "      <td></td>\n",
       "      <td>T2E 6L6</td>\n",
       "      <td>24</td>\n",
       "      <td>4.0</td>\n",
       "      <td>AB</td>\n",
       "    </tr>\n",
       "    <tr>\n",
       "      <th>1</th>\n",
       "      <td></td>\n",
       "      <td>{'Alcohol': 'none', 'BikeParking': 'False', 'B...</td>\n",
       "      <td>AjEbIBw6ZFfln7ePHha9PA</td>\n",
       "      <td>Chicken Wings, Burgers, Caterers, Street Vendo...</td>\n",
       "      <td>Henderson</td>\n",
       "      <td>{'Friday': '17:0-23:0', 'Saturday': '17:0-23:0...</td>\n",
       "      <td>0</td>\n",
       "      <td>35.960734</td>\n",
       "      <td>-114.939821</td>\n",
       "      <td>CK'S BBQ &amp; Catering</td>\n",
       "      <td></td>\n",
       "      <td>89002</td>\n",
       "      <td>3</td>\n",
       "      <td>4.5</td>\n",
       "      <td>NV</td>\n",
       "    </tr>\n",
       "  </tbody>\n",
       "</table>\n",
       "</div>"
      ],
      "text/plain": [
       "             address                                         attributes  \\\n",
       "0  1314 44 Avenue NE  {'BikeParking': 'False', 'BusinessAcceptsCredi...   \n",
       "1                     {'Alcohol': 'none', 'BikeParking': 'False', 'B...   \n",
       "\n",
       "              business_id                                         categories  \\\n",
       "0  Apn5Q_b6Nz61Tq4XzPdf9A  Tours, Breweries, Pizza, Restaurants, Food, Ho...   \n",
       "1  AjEbIBw6ZFfln7ePHha9PA  Chicken Wings, Burgers, Caterers, Street Vendo...   \n",
       "\n",
       "        city                                              hours  is_open  \\\n",
       "0    Calgary  {'Monday': '8:30-17:0', 'Tuesday': '11:0-21:0'...        1   \n",
       "1  Henderson  {'Friday': '17:0-23:0', 'Saturday': '17:0-23:0...        0   \n",
       "\n",
       "    latitude   longitude                  name neighborhood postal_code  \\\n",
       "0  51.091813 -114.031675  Minhas Micro Brewery                  T2E 6L6   \n",
       "1  35.960734 -114.939821   CK'S BBQ & Catering                    89002   \n",
       "\n",
       "   review_count  stars state  \n",
       "0            24    4.0    AB  \n",
       "1             3    4.5    NV  "
      ]
     },
     "execution_count": 4,
     "metadata": {},
     "output_type": "execute_result"
    }
   ],
   "source": [
    "df_business.head(2)"
   ]
  },
  {
   "cell_type": "code",
   "execution_count": 5,
   "metadata": {},
   "outputs": [
    {
     "name": "stdout",
     "output_type": "stream",
     "text": [
      "Las Vegas\n",
      "las vegas\n",
      "Lasalle\n",
      "LaSalle\n",
      "las Vegas\n",
      "Las  Vegas\n",
      "Las vegas\n",
      "Las Vegass\n",
      "LasVegas\n",
      "Las Vegas East\n",
      "Las Vegas,\n",
      "Las Vegas Nv\n",
      "Las Vegas & Henderson\n",
      "Las Vegas, NV\n",
      "Las Vegas Nevada\n",
      "Entries actually named 'Las Vegas': 28865\n"
     ]
    }
   ],
   "source": [
    "# There are various names that refer to Las Vegas, with various mixes of cases and spaces\n",
    "# Let's standardize all relevant names to \"Las Vegas\"\n",
    "# Ignore 'las vegas & henderson', 'las vegas east'\n",
    "\n",
    "for city in df_business.city.unique():\n",
    "    if city.lower()[:3] == 'las':\n",
    "        print(city)\n",
    "        \n",
    "print(\"Entries actually named 'Las Vegas': {}\".format( (df_business.city==\"Las Vegas\").sum() ))"
   ]
  },
  {
   "cell_type": "code",
   "execution_count": 6,
   "metadata": {},
   "outputs": [],
   "source": [
    "# Carry out replacement\n",
    "\n",
    "valid_city_names = [\"las vegas\", \"las  vegas\", \"las vegas east\",\n",
    "                    \"las vegass\", \"lasvegas\", \"las vegas,\", \"las vegas nv\",\n",
    "                    \"las vegas, nv\", \"las vegas nevada\"]\n",
    "\n",
    "def fix_city_name(name, names_to_replace, key=None):\n",
    "    ''' Replace names_to_replace with key '''\n",
    "    if name in names_to_replace:\n",
    "        return key\n",
    "    else:\n",
    "        return name\n",
    "\n",
    "standardized_city_name = df_business.city.apply(fix_city_name, args=(valid_city_names, \"Las Vegas\"))"
   ]
  },
  {
   "cell_type": "code",
   "execution_count": 7,
   "metadata": {},
   "outputs": [
    {
     "name": "stdout",
     "output_type": "stream",
     "text": [
      "# of Entries now named 'Las Vegas': 28902\n"
     ]
    }
   ],
   "source": [
    "# Verify that there are ample entries on Las Vegas\n",
    "# So we have fixed around a few dozens of entries...alright.\n",
    "\n",
    "df_business.city = standardized_city_name\n",
    "print(\"# of Entries now named 'Las Vegas': {}\".format( (standardized_city_name==\"Las Vegas\").sum() ))"
   ]
  },
  {
   "cell_type": "code",
   "execution_count": 8,
   "metadata": {},
   "outputs": [
    {
     "name": "stdout",
     "output_type": "stream",
     "text": [
      "<class 'pandas.core.frame.DataFrame'>\n",
      "RangeIndex: 188593 entries, 0 to 188592\n",
      "Data columns (total 15 columns):\n",
      "address         188593 non-null object\n",
      "attributes      162807 non-null object\n",
      "business_id     188593 non-null object\n",
      "categories      188052 non-null object\n",
      "city            188593 non-null object\n",
      "hours           143791 non-null object\n",
      "is_open         188593 non-null int64\n",
      "latitude        188587 non-null float64\n",
      "longitude       188587 non-null float64\n",
      "name            188593 non-null object\n",
      "neighborhood    188593 non-null object\n",
      "postal_code     188593 non-null object\n",
      "review_count    188593 non-null int64\n",
      "stars           188593 non-null float64\n",
      "state           188593 non-null object\n",
      "dtypes: float64(3), int64(2), object(10)\n",
      "memory usage: 21.6+ MB\n"
     ]
    }
   ],
   "source": [
    "# Small amounts of NAs observed; will impute when necessary\n",
    "df_business.info()"
   ]
  },
  {
   "cell_type": "markdown",
   "metadata": {},
   "source": [
    "#### Checkin Data"
   ]
  },
  {
   "cell_type": "code",
   "execution_count": null,
   "metadata": {},
   "outputs": [],
   "source": [
    "# with open(file_checkin) as f:\n",
    "#     df_checkin = pd.DataFrame(json.loads(line) for line in f)\n",
    "# df_checkin.head(2)"
   ]
  },
  {
   "cell_type": "markdown",
   "metadata": {},
   "source": [
    "#### Review Data\n",
    "30 secs loading time on a MBP with 16GB of RAM. Use distributed Spark whenever possible."
   ]
  },
  {
   "cell_type": "code",
   "execution_count": 9,
   "metadata": {},
   "outputs": [
    {
     "data": {
      "text/html": [
       "<div>\n",
       "<style scoped>\n",
       "    .dataframe tbody tr th:only-of-type {\n",
       "        vertical-align: middle;\n",
       "    }\n",
       "\n",
       "    .dataframe tbody tr th {\n",
       "        vertical-align: top;\n",
       "    }\n",
       "\n",
       "    .dataframe thead th {\n",
       "        text-align: right;\n",
       "    }\n",
       "</style>\n",
       "<table border=\"1\" class=\"dataframe\">\n",
       "  <thead>\n",
       "    <tr style=\"text-align: right;\">\n",
       "      <th></th>\n",
       "      <th>business_id</th>\n",
       "      <th>cool</th>\n",
       "      <th>date</th>\n",
       "      <th>funny</th>\n",
       "      <th>review_id</th>\n",
       "      <th>stars</th>\n",
       "      <th>text</th>\n",
       "      <th>useful</th>\n",
       "      <th>user_id</th>\n",
       "    </tr>\n",
       "  </thead>\n",
       "  <tbody>\n",
       "    <tr>\n",
       "      <th>0</th>\n",
       "      <td>iCQpiavjjPzJ5_3gPD5Ebg</td>\n",
       "      <td>0</td>\n",
       "      <td>2011-02-25</td>\n",
       "      <td>0</td>\n",
       "      <td>x7mDIiDB3jEiPGPHOmDzyw</td>\n",
       "      <td>2</td>\n",
       "      <td>The pizza was okay. Not the best I've had. I p...</td>\n",
       "      <td>0</td>\n",
       "      <td>msQe1u7Z_XuqjGoqhB0J5g</td>\n",
       "    </tr>\n",
       "    <tr>\n",
       "      <th>1</th>\n",
       "      <td>pomGBqfbxcqPv14c3XH-ZQ</td>\n",
       "      <td>0</td>\n",
       "      <td>2012-11-13</td>\n",
       "      <td>0</td>\n",
       "      <td>dDl8zu1vWPdKGihJrwQbpw</td>\n",
       "      <td>5</td>\n",
       "      <td>I love this place! My fiance And I go here atl...</td>\n",
       "      <td>0</td>\n",
       "      <td>msQe1u7Z_XuqjGoqhB0J5g</td>\n",
       "    </tr>\n",
       "  </tbody>\n",
       "</table>\n",
       "</div>"
      ],
      "text/plain": [
       "              business_id  cool        date  funny               review_id  \\\n",
       "0  iCQpiavjjPzJ5_3gPD5Ebg     0  2011-02-25      0  x7mDIiDB3jEiPGPHOmDzyw   \n",
       "1  pomGBqfbxcqPv14c3XH-ZQ     0  2012-11-13      0  dDl8zu1vWPdKGihJrwQbpw   \n",
       "\n",
       "   stars                                               text  useful  \\\n",
       "0      2  The pizza was okay. Not the best I've had. I p...       0   \n",
       "1      5  I love this place! My fiance And I go here atl...       0   \n",
       "\n",
       "                  user_id  \n",
       "0  msQe1u7Z_XuqjGoqhB0J5g  \n",
       "1  msQe1u7Z_XuqjGoqhB0J5g  "
      ]
     },
     "execution_count": 9,
     "metadata": {},
     "output_type": "execute_result"
    }
   ],
   "source": [
    "# with open(file_review) as f:\n",
    "#     df_review = pd.DataFrame(json.loads(line) for line in f)\n",
    "# df_review.head(2)"
   ]
  },
  {
   "cell_type": "markdown",
   "metadata": {},
   "source": [
    "#### Tip Data"
   ]
  },
  {
   "cell_type": "code",
   "execution_count": null,
   "metadata": {},
   "outputs": [],
   "source": [
    "# with open(file_tip) as f:\n",
    "#     df_tip = pd.DataFrame(json.loads(line) for line in f)\n",
    "# df_tip.head(2)"
   ]
  },
  {
   "cell_type": "markdown",
   "metadata": {},
   "source": [
    "#### User Data"
   ]
  },
  {
   "cell_type": "code",
   "execution_count": null,
   "metadata": {},
   "outputs": [],
   "source": [
    "# with open(file_user) as f:\n",
    "#     df_user = pd.DataFrame(json.loads(line) for line in f)\n",
    "# df_user.head(2)"
   ]
  },
  {
   "cell_type": "markdown",
   "metadata": {},
   "source": [
    "## Filter data by city and category\n",
    "Extract all entries from `df_business` pertaining to \"Restaurants\" in \"Las Vegas\". \n",
    "\n",
    "Although the 'categories' feature consists of long, unformatted strings, it suffices to perform a str.match(\"Restaurants\") to identify all restaurants."
   ]
  },
  {
   "cell_type": "code",
   "execution_count": 10,
   "metadata": {},
   "outputs": [],
   "source": [
    "# Impute missing categories as 'Unknown'\n",
    "df_business[\"categories\"].replace(np.nan, \"Unknown\", inplace=True)\n",
    "\n",
    "# Create the necessary filters (boolean mask) \n",
    "lv_mask = (df_business[\"city\"]== 'Las Vegas') & (df_business[\"categories\"].str.match(\"Restaurants\"))"
   ]
  },
  {
   "cell_type": "code",
   "execution_count": 11,
   "metadata": {},
   "outputs": [],
   "source": [
    "# Create filtered DataFrame, and name it df_filtered\n",
    "df_filtered = df_business.loc[lv_mask, :]"
   ]
  },
  {
   "cell_type": "code",
   "execution_count": 35,
   "metadata": {},
   "outputs": [
    {
     "data": {
      "text/plain": [
       "Index(['address', 'attributes', 'business_id', 'categories', 'city', 'hours',\n",
       "       'is_open', 'latitude', 'longitude', 'name', 'neighborhood',\n",
       "       'postal_code', 'review_count', 'stars', 'state'],\n",
       "      dtype='object')"
      ]
     },
     "execution_count": 35,
     "metadata": {},
     "output_type": "execute_result"
    }
   ],
   "source": [
    "df_filtered.columns"
   ]
  },
  {
   "cell_type": "markdown",
   "metadata": {},
   "source": [
    "#### Keep only relevant columns in `df_business` \n",
    "Which features are useful for building a recommendation system?\n",
    "    * business_id --- for computers to uniquely identifying each restaurant (branch)\n",
    "    * name --- for us humans to identify restaurant \n",
    "    * categories --- more human-readable information for understanding the restaurant\n",
    "    * stars --- the average star rating given to each restaurant\n",
    "    * attributes --- more text attributes describing each restaurant in detail"
   ]
  },
  {
   "cell_type": "code",
   "execution_count": null,
   "metadata": {},
   "outputs": [],
   "source": [
    "# Print column names to verify\n",
    "# df_filtered.columns"
   ]
  },
  {
   "cell_type": "code",
   "execution_count": 36,
   "metadata": {},
   "outputs": [],
   "source": [
    "selected_features = [u'business_id', u'name', u'categories', u'stars', u'attributes']"
   ]
  },
  {
   "cell_type": "code",
   "execution_count": 37,
   "metadata": {},
   "outputs": [],
   "source": [
    "# Make a DataFrame that contains only the abovementioned columns, and name it as df_selected_business\n",
    "df_selected_business = df_filtered.loc[:, selected_features]"
   ]
  },
  {
   "cell_type": "code",
   "execution_count": 38,
   "metadata": {},
   "outputs": [],
   "source": [
    "# Rename the column name \"stars\" to \"avg_stars\" to avoid naming conflicts with review dataset\n",
    "df_selected_business.rename(axis=\"columns\", mapper={\"stars\": \"avg_stars\"}, inplace=True)"
   ]
  },
  {
   "cell_type": "code",
   "execution_count": 39,
   "metadata": {},
   "outputs": [
    {
     "data": {
      "text/html": [
       "<div>\n",
       "<style scoped>\n",
       "    .dataframe tbody tr th:only-of-type {\n",
       "        vertical-align: middle;\n",
       "    }\n",
       "\n",
       "    .dataframe tbody tr th {\n",
       "        vertical-align: top;\n",
       "    }\n",
       "\n",
       "    .dataframe thead th {\n",
       "        text-align: right;\n",
       "    }\n",
       "</style>\n",
       "<table border=\"1\" class=\"dataframe\">\n",
       "  <thead>\n",
       "    <tr style=\"text-align: right;\">\n",
       "      <th></th>\n",
       "      <th>business_id</th>\n",
       "      <th>name</th>\n",
       "      <th>categories</th>\n",
       "      <th>avg_stars</th>\n",
       "      <th>attributes</th>\n",
       "    </tr>\n",
       "  </thead>\n",
       "  <tbody>\n",
       "    <tr>\n",
       "      <th>143</th>\n",
       "      <td>2kWrSFkIes_d2BMg4YrRtA</td>\n",
       "      <td>Pizza Hut</td>\n",
       "      <td>Restaurants, Pizza</td>\n",
       "      <td>2.5</td>\n",
       "      <td>{'Alcohol': 'none', 'Ambience': '{'romantic': ...</td>\n",
       "    </tr>\n",
       "    <tr>\n",
       "      <th>197</th>\n",
       "      <td>YV9GVfmDSDM7HSV0jVdTOA</td>\n",
       "      <td>El Pollo Loco</td>\n",
       "      <td>Restaurants, Salad, Fast Food, Mexican</td>\n",
       "      <td>3.0</td>\n",
       "      <td>{'Alcohol': 'none', 'Ambience': '{'romantic': ...</td>\n",
       "    </tr>\n",
       "    <tr>\n",
       "      <th>325</th>\n",
       "      <td>lv5Bnqlt93NnvNJ2oNcQ8Q</td>\n",
       "      <td>Los Cucos Mexican Cafe</td>\n",
       "      <td>Restaurants, Bars, Nightlife, Caterers, Mexica...</td>\n",
       "      <td>4.0</td>\n",
       "      <td>{'Alcohol': 'full_bar', 'Ambience': '{'romanti...</td>\n",
       "    </tr>\n",
       "    <tr>\n",
       "      <th>630</th>\n",
       "      <td>DbK9fyJq4O4zfT1jv6JOhw</td>\n",
       "      <td>Pam Real Thai Las Vegas</td>\n",
       "      <td>Restaurants, Food, Food Delivery Services, Thai</td>\n",
       "      <td>4.0</td>\n",
       "      <td>{'Alcohol': 'none', 'Ambience': '{'romantic': ...</td>\n",
       "    </tr>\n",
       "    <tr>\n",
       "      <th>1061</th>\n",
       "      <td>Kx0MUrNQ737s-VVElk6Vig</td>\n",
       "      <td>Las Delicias De Las Vegas</td>\n",
       "      <td>Restaurants, Mexican</td>\n",
       "      <td>4.0</td>\n",
       "      <td>{'Alcohol': 'none', 'Ambience': '{'romantic': ...</td>\n",
       "    </tr>\n",
       "  </tbody>\n",
       "</table>\n",
       "</div>"
      ],
      "text/plain": [
       "                 business_id                       name  \\\n",
       "143   2kWrSFkIes_d2BMg4YrRtA                  Pizza Hut   \n",
       "197   YV9GVfmDSDM7HSV0jVdTOA              El Pollo Loco   \n",
       "325   lv5Bnqlt93NnvNJ2oNcQ8Q     Los Cucos Mexican Cafe   \n",
       "630   DbK9fyJq4O4zfT1jv6JOhw    Pam Real Thai Las Vegas   \n",
       "1061  Kx0MUrNQ737s-VVElk6Vig  Las Delicias De Las Vegas   \n",
       "\n",
       "                                             categories  avg_stars  \\\n",
       "143                                  Restaurants, Pizza        2.5   \n",
       "197              Restaurants, Salad, Fast Food, Mexican        3.0   \n",
       "325   Restaurants, Bars, Nightlife, Caterers, Mexica...        4.0   \n",
       "630     Restaurants, Food, Food Delivery Services, Thai        4.0   \n",
       "1061                               Restaurants, Mexican        4.0   \n",
       "\n",
       "                                             attributes  \n",
       "143   {'Alcohol': 'none', 'Ambience': '{'romantic': ...  \n",
       "197   {'Alcohol': 'none', 'Ambience': '{'romantic': ...  \n",
       "325   {'Alcohol': 'full_bar', 'Ambience': '{'romanti...  \n",
       "630   {'Alcohol': 'none', 'Ambience': '{'romantic': ...  \n",
       "1061  {'Alcohol': 'none', 'Ambience': '{'romantic': ...  "
      ]
     },
     "execution_count": 39,
     "metadata": {},
     "output_type": "execute_result"
    }
   ],
   "source": [
    "# Inspect your DataFrame\n",
    "df_selected_business.head()"
   ]
  },
  {
   "cell_type": "markdown",
   "metadata": {},
   "source": [
    "#### Save results to csv files"
   ]
  },
  {
   "cell_type": "code",
   "execution_count": 44,
   "metadata": {},
   "outputs": [],
   "source": [
    "# Save to ./data/selected_business.csv for your next task\n",
    "df_selected_business.to_csv(\"data/selected_business.csv\")"
   ]
  },
  {
   "cell_type": "code",
   "execution_count": null,
   "metadata": {},
   "outputs": [],
   "source": [
    "# Try reload the csv file to check if everything works fine\n",
    "# pd.read_csv(\"data/selected_business.csv\").tail()"
   ]
  },
  {
   "cell_type": "markdown",
   "metadata": {},
   "source": [
    "### Use the \"business_id\" column to filter review data\n",
    "\n",
    "* We want to make a DataFrame that only contain reviews about the business entities we just obtained"
   ]
  },
  {
   "cell_type": "markdown",
   "metadata": {},
   "source": [
    "#### Load review dataset"
   ]
  },
  {
   "cell_type": "code",
   "execution_count": null,
   "metadata": {},
   "outputs": [],
   "source": [
    "with open(file_review) as f:\n",
    "    df_review = pd.DataFrame(json.loads(line) for line in f)\n",
    "df_review.head(2)"
   ]
  },
  {
   "cell_type": "markdown",
   "metadata": {},
   "source": [
    "#### Prepare dataframes to be joined, - on business_id"
   ]
  },
  {
   "cell_type": "code",
   "execution_count": 46,
   "metadata": {},
   "outputs": [],
   "source": [
    "# Prepare the business dataframe and set index to column \"business_id\", and name it as df_left\n",
    "df_left = df_selected_business.set_index(['business_id'])"
   ]
  },
  {
   "cell_type": "code",
   "execution_count": 47,
   "metadata": {},
   "outputs": [],
   "source": [
    "# Prepare the review dataframe and set index to column \"business_id\", and name it as df_right\n",
    "df_right = df_review.set_index([\"business_id\"])"
   ]
  },
  {
   "cell_type": "markdown",
   "metadata": {},
   "source": [
    "#### Join! and reset index"
   ]
  },
  {
   "cell_type": "code",
   "execution_count": 48,
   "metadata": {},
   "outputs": [
    {
     "data": {
      "text/plain": [
       "cool         0\n",
       "date         0\n",
       "funny        0\n",
       "review_id    0\n",
       "stars        0\n",
       "text         0\n",
       "useful       0\n",
       "user_id      0\n",
       "dtype: int64"
      ]
     },
     "execution_count": 48,
     "metadata": {},
     "output_type": "execute_result"
    }
   ],
   "source": [
    "# Confirm that there are no NAs among review dataset\n",
    "pd.DataFrame.sum(df_right.isna())"
   ]
  },
  {
   "cell_type": "code",
   "execution_count": 49,
   "metadata": {},
   "outputs": [],
   "source": [
    "# Join df_left and df_right. \n",
    "# Using inner join, because we only want restaurants with reviews attached to them\n",
    "df_lv_joined = df_left.join(df_right, on=\"business_id\", how=\"inner\")\n",
    "\n",
    "# Reset index; return DataFrame to normal\n",
    "df_lv_joined = df_lv_joined.reset_index()"
   ]
  },
  {
   "cell_type": "markdown",
   "metadata": {},
   "source": [
    "#### Furthermore, filter data by date\n",
    "\n",
    "Keep reviews from the **most recent two years** (approximately), to ensure relevance of recommendations. Also, it helps with saving RAM on a puny laptop :)"
   ]
  },
  {
   "cell_type": "code",
   "execution_count": 51,
   "metadata": {},
   "outputs": [
    {
     "data": {
      "text/plain": [
       "'2018-07-02'"
      ]
     },
     "execution_count": 51,
     "metadata": {},
     "output_type": "execute_result"
    }
   ],
   "source": [
    "# The latest review in the data was made on 2018-07-02\n",
    "df_lv_joined.date.max()"
   ]
  },
  {
   "cell_type": "code",
   "execution_count": 52,
   "metadata": {
    "scrolled": true
   },
   "outputs": [],
   "source": [
    "# Make a filter that selects date after 2016-04-30; \n",
    "date_mask = (df_lv_joined.date > '2016-04-30')\n",
    "\n",
    "# Filter the joined DataFrame and name it as df_final\n",
    "df_lv_joined = df_lv_joined.loc[date_mask, :]"
   ]
  },
  {
   "cell_type": "markdown",
   "metadata": {},
   "source": [
    "## Basic EDA on processed data\n",
    "Each row of `df_lv_joined` contains a review, and data about the restaurant reviewed. We can explore the data, and obtain insights for our recommendation system, or simply interesting behaviorial patterns among users."
   ]
  },
  {
   "cell_type": "code",
   "execution_count": 54,
   "metadata": {},
   "outputs": [],
   "source": [
    "import matplotlib.pyplot as plt\n",
    "plt.style.use(\"ggplot\")"
   ]
  },
  {
   "cell_type": "code",
   "execution_count": 71,
   "metadata": {},
   "outputs": [
    {
     "data": {
      "text/plain": [
       "Text(0, 0.5, \"Number of 'useful' votes\")"
      ]
     },
     "execution_count": 71,
     "metadata": {},
     "output_type": "execute_result"
    },
    {
     "data": {
      "image/png": "[encoded data removed]",
      "text/plain": [
       "<Figure size 432x288 with 1 Axes>"
      ]
     },
     "metadata": {
      "needs_background": "light"
     },
     "output_type": "display_data"
    }
   ],
   "source": [
    "# Obvious, almost-linear correlation between the numbers of \"useful\" and \"cool\" tags per review\n",
    "# Front-end product question: is one of the tags redundant?\n",
    "# In any case, can pick EITHER ONE to weigh the importance of each review when building recommendation system!\n",
    "\n",
    "df_lv_joined.plot.scatter(x=\"cool\", y=\"useful\")\n",
    "plt.xlabel(\"Number of 'cool' votes\")\n",
    "plt.ylabel(\"Number of 'useful' votes\")"
   ]
  },
  {
   "cell_type": "code",
   "execution_count": 68,
   "metadata": {},
   "outputs": [
    {
     "name": "stdout",
     "output_type": "stream",
     "text": [
      "          useful     stars\n",
      "useful  1.000000 -0.031587\n",
      "stars  -0.031587  1.000000\n"
     ]
    },
    {
     "data": {
      "image/png": "[encoded data removed]",
      "text/plain": [
       "<Figure size 432x288 with 1 Axes>"
      ]
     },
     "metadata": {
      "needs_background": "light"
     },
     "output_type": "display_data"
    }
   ],
   "source": [
    "# Weak between usefulness of reviews and star rating given to restaurant\n",
    "df_lv_joined.boxplot(by=\"stars\", column=\"useful\")\n",
    "plt.title(\"Usefulness of Review VS Star Rating Given\")\n",
    "plt.suptitle(\"\")\n",
    "plt.xlabel(\"Star Rating\")\n",
    "plt.ylabel(\"Number of 'Useful' Tags\") \n",
    "\n",
    "# Confirm weak correlation\n",
    "print(df_lv_joined.loc[:, [\"useful\", \"stars\"]].corr())"
   ]
  },
  {
   "cell_type": "code",
   "execution_count": 69,
   "metadata": {},
   "outputs": [
    {
     "data": {
      "text/plain": [
       "<matplotlib.axes._subplots.AxesSubplot at 0x120ed97b8>"
      ]
     },
     "execution_count": 69,
     "metadata": {},
     "output_type": "execute_result"
    },
    {
     "data": {
      "image/png": "[encoded data removed]",
      "text/plain": [
       "<Figure size 432x288 with 1 Axes>"
      ]
     },
     "metadata": {
      "needs_background": "light"
     },
     "output_type": "display_data"
    }
   ],
   "source": [
    "# Are the reviews concentrated in certain (average) ratings? Yes!\n",
    "# Possible implication: people don't bother to leave reviews for really bad restaurants\n",
    "# Not sure why so few reviews give 5.0 though; maybe perfect restaurants are hard to find ;)\n",
    "\n",
    "reviews_per_star = df_lv_joined['avg_stars'].value_counts()\n",
    "reviews_per_star = reviews_per_star.sort_index()\n",
    "\n",
    "plt.title(\"Number of Reviews, At Each Average Rating\")\n",
    "plt.xlabel(\"Average Rating\")\n",
    "plt.ylabel(\"Number of Reviews\")\n",
    "reviews_per_star.plot.bar()"
   ]
  },
  {
   "cell_type": "markdown",
   "metadata": {},
   "source": [
    "## Save preprocessed dataset to CSV file\n",
    "\n",
    "* Provides starting point for actual modeling / recommendation-making"
   ]
  },
  {
   "cell_type": "code",
   "execution_count": 70,
   "metadata": {},
   "outputs": [],
   "source": [
    "# Save to ./data/last_2_years_restaurant_reviews.csv for your next task\n",
    "df_lv_joined.to_csv(\"data/last_2_years_restaurant_reviews.csv\", index=False)"
   ]
  }
 ],
 "metadata": {
  "anaconda-cloud": {},
  "kernelspec": {
   "display_name": "Python 3",
   "language": "python",
   "name": "python3"
  },
  "language_info": {
   "codemirror_mode": {
    "name": "ipython",
    "version": 3
   },
   "file_extension": ".py",
   "mimetype": "text/x-python",
   "name": "python",
   "nbconvert_exporter": "python",
   "pygments_lexer": "ipython3",
   "version": "3.7.1"
  }
 },
 "nbformat": 4,
 "nbformat_minor": 2
}
