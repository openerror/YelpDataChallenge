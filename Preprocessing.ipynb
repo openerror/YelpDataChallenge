{
 "cells": [
  {
   "cell_type": "markdown",
   "metadata": {},
   "source": [
    "# Yelp Data Challenge - Data Preprocessing\n",
    "\n",
    "Filter down data to save space and facilitate further goals: sentiment analysis, clustering of textual reviews, and building a recommendation system."
   ]
  },
  {
   "cell_type": "markdown",
   "metadata": {},
   "source": [
    "## Dataset Introduction\n",
    "\n",
    "[Yelp Dataset Challenge](https://www.yelp.com/dataset_challenge)\n",
    "\n",
    "The Challenge Dataset:\n",
    "\n",
    "    4.1M reviews and 947K tips by 1M users for 144K businesses\n",
    "    1.1M business attributes, e.g., hours, parking availability, ambience.\n",
    "    Aggregated check-ins over time for each of the 125K businesses\n",
    "    200,000 pictures from the included businesses\n",
    "\n",
    "Cities:\n",
    "\n",
    "    1111 unique cities from all across the globe. This project will work with Las Vegas,\n",
    "    which is a popular destination with ample data entries.\n",
    "\n",
    "Files:\n",
    "\n",
    "    yelp_academic_dataset_business.json\n",
    "    yelp_academic_dataset_checkin.json\n",
    "    yelp_academic_dataset_review.json\n",
    "    yelp_academic_dataset_tip.json\n",
    "    yelp_academic_dataset_user.json\n",
    "\n",
    "Notes on the Dataset\n",
    "\n",
    "    Each file is composed of a single object type, one json-object per-line.\n",
    "    Examples to get started: https://github.com/Yelp/dataset-examples.\n",
    "\n"
   ]
  },
  {
   "cell_type": "markdown",
   "metadata": {
    "collapsed": "true"
   },
   "source": [
    "## Read data into pandas.DataFrame; basic preprocessing"
   ]
  },
  {
   "cell_type": "code",
   "execution_count": 1,
   "metadata": {},
   "outputs": [],
   "source": [
    "import json\n",
    "from typing import *\n",
    "import pandas as pd\n",
    "import numpy as np"
   ]
  },
  {
   "cell_type": "code",
   "execution_count": 2,
   "metadata": {},
   "outputs": [],
   "source": [
    "file_business, file_checkin, file_review, file_tip, file_user = [\n",
    "    'yelp_dataset/yelp_academic_dataset_business.json',\n",
    "    'yelp_dataset/yelp_academic_dataset_checkin.json',\n",
    "    'yelp_dataset/yelp_academic_dataset_review.json',\n",
    "    'yelp_dataset/yelp_academic_dataset_tip.json',\n",
    "    'yelp_dataset/yelp_academic_dataset_user.json'\n",
    "]"
   ]
  },
  {
   "cell_type": "markdown",
   "metadata": {
    "collapsed": "true"
   },
   "source": [
    "### Business Data"
   ]
  },
  {
   "cell_type": "code",
   "execution_count": 3,
   "metadata": {},
   "outputs": [
    {
     "data": {
      "text/html": [
       "<div>\n",
       "<style scoped>\n",
       "    .dataframe tbody tr th:only-of-type {\n",
       "        vertical-align: middle;\n",
       "    }\n",
       "\n",
       "    .dataframe tbody tr th {\n",
       "        vertical-align: top;\n",
       "    }\n",
       "\n",
       "    .dataframe thead th {\n",
       "        text-align: right;\n",
       "    }\n",
       "</style>\n",
       "<table border=\"1\" class=\"dataframe\">\n",
       "  <thead>\n",
       "    <tr style=\"text-align: right;\">\n",
       "      <th></th>\n",
       "      <th>business_id</th>\n",
       "      <th>name</th>\n",
       "      <th>neighborhood</th>\n",
       "      <th>address</th>\n",
       "      <th>city</th>\n",
       "      <th>state</th>\n",
       "      <th>postal_code</th>\n",
       "      <th>latitude</th>\n",
       "      <th>longitude</th>\n",
       "      <th>stars</th>\n",
       "      <th>review_count</th>\n",
       "      <th>is_open</th>\n",
       "      <th>attributes</th>\n",
       "      <th>categories</th>\n",
       "      <th>hours</th>\n",
       "    </tr>\n",
       "  </thead>\n",
       "  <tbody>\n",
       "    <tr>\n",
       "      <th>0</th>\n",
       "      <td>Apn5Q_b6Nz61Tq4XzPdf9A</td>\n",
       "      <td>Minhas Micro Brewery</td>\n",
       "      <td></td>\n",
       "      <td>1314 44 Avenue NE</td>\n",
       "      <td>Calgary</td>\n",
       "      <td>AB</td>\n",
       "      <td>T2E 6L6</td>\n",
       "      <td>51.091813</td>\n",
       "      <td>-114.031675</td>\n",
       "      <td>4.0</td>\n",
       "      <td>24</td>\n",
       "      <td>1</td>\n",
       "      <td>{'BikeParking': 'False', 'BusinessAcceptsCredi...</td>\n",
       "      <td>Tours, Breweries, Pizza, Restaurants, Food, Ho...</td>\n",
       "      <td>{'Monday': '8:30-17:0', 'Tuesday': '11:0-21:0'...</td>\n",
       "    </tr>\n",
       "    <tr>\n",
       "      <th>1</th>\n",
       "      <td>AjEbIBw6ZFfln7ePHha9PA</td>\n",
       "      <td>CK'S BBQ &amp; Catering</td>\n",
       "      <td></td>\n",
       "      <td></td>\n",
       "      <td>Henderson</td>\n",
       "      <td>NV</td>\n",
       "      <td>89002</td>\n",
       "      <td>35.960734</td>\n",
       "      <td>-114.939821</td>\n",
       "      <td>4.5</td>\n",
       "      <td>3</td>\n",
       "      <td>0</td>\n",
       "      <td>{'Alcohol': 'none', 'BikeParking': 'False', 'B...</td>\n",
       "      <td>Chicken Wings, Burgers, Caterers, Street Vendo...</td>\n",
       "      <td>{'Friday': '17:0-23:0', 'Saturday': '17:0-23:0...</td>\n",
       "    </tr>\n",
       "  </tbody>\n",
       "</table>\n",
       "</div>"
      ],
      "text/plain": [
       "              business_id                  name neighborhood  \\\n",
       "0  Apn5Q_b6Nz61Tq4XzPdf9A  Minhas Micro Brewery                \n",
       "1  AjEbIBw6ZFfln7ePHha9PA   CK'S BBQ & Catering                \n",
       "\n",
       "             address       city state postal_code   latitude   longitude  \\\n",
       "0  1314 44 Avenue NE    Calgary    AB     T2E 6L6  51.091813 -114.031675   \n",
       "1                     Henderson    NV       89002  35.960734 -114.939821   \n",
       "\n",
       "   stars  review_count  is_open  \\\n",
       "0    4.0            24        1   \n",
       "1    4.5             3        0   \n",
       "\n",
       "                                          attributes  \\\n",
       "0  {'BikeParking': 'False', 'BusinessAcceptsCredi...   \n",
       "1  {'Alcohol': 'none', 'BikeParking': 'False', 'B...   \n",
       "\n",
       "                                          categories  \\\n",
       "0  Tours, Breweries, Pizza, Restaurants, Food, Ho...   \n",
       "1  Chicken Wings, Burgers, Caterers, Street Vendo...   \n",
       "\n",
       "                                               hours  \n",
       "0  {'Monday': '8:30-17:0', 'Tuesday': '11:0-21:0'...  \n",
       "1  {'Friday': '17:0-23:0', 'Saturday': '17:0-23:0...  "
      ]
     },
     "execution_count": 3,
     "metadata": {},
     "output_type": "execute_result"
    }
   ],
   "source": [
    "with open(file_business) as f:\n",
    "    df_business = pd.DataFrame(json.loads(line) for line in f)\n",
    "\n",
    "df_business.head(2)"
   ]
  },
  {
   "cell_type": "code",
   "execution_count": 4,
   "metadata": {},
   "outputs": [
    {
     "name": "stdout",
     "output_type": "stream",
     "text": [
      "Las Vegas\n",
      "las vegas\n",
      "Lasalle\n",
      "LaSalle\n",
      "las Vegas\n",
      "Las  Vegas\n",
      "Las vegas\n",
      "Las Vegass\n",
      "LasVegas\n",
      "Las Vegas East\n",
      "Las Vegas,\n",
      "Las Vegas Nv\n",
      "Las Vegas & Henderson\n",
      "Las Vegas, NV\n",
      "Las Vegas Nevada\n",
      "28865 entries already named 'Las Vegas'\n"
     ]
    }
   ],
   "source": [
    "# There are various names that refer to Las Vegas, with mixes of cases and spaces\n",
    "\n",
    "for city in df_business.city.unique():\n",
    "    if city.lower().startswith(\"las\"):\n",
    "        print(city)\n",
    "\n",
    "print(f\"{(df_business.city == 'Las Vegas').sum()} entries already named 'Las Vegas'\")"
   ]
  },
  {
   "cell_type": "code",
   "execution_count": 5,
   "metadata": {},
   "outputs": [],
   "source": [
    "# Let's standardize all relevant names to \"Las Vegas\"\n",
    "# Ignoring Las Vegas East and Las Vegas & Henderson, which are nowhere near touristy areas\n",
    "\n",
    "valid_city_names = set([\"las vegas\", \"las Vegas\", \"Las  Vegas\", \"Las vegas\", \"LasVegas\",\n",
    "                        \"Las Vegass\", \"Las Vegas,\", \"Las Vegas Nv\", \"Las Vegas, NV\", \n",
    "                        \"Las Vegas Nevada\"])\n",
    "\n",
    "def fix_city_name(old_name: str, names_to_replace: Iterable[str], \n",
    "                  new_name: str = None) -> str:\n",
    "    return new_name if old_name.strip() in names_to_replace else old_name"
   ]
  },
  {
   "cell_type": "code",
   "execution_count": 6,
   "metadata": {},
   "outputs": [
    {
     "name": "stdout",
     "output_type": "stream",
     "text": [
      "Las Vegas\n",
      "Lasalle\n",
      "LaSalle\n",
      "Las Vegas East\n",
      "Las Vegas & Henderson\n",
      "28922 entries now named 'Las Vegas'\n"
     ]
    }
   ],
   "source": [
    "# Verify that there are ample entries on Las Vegas\n",
    "# So we have fixed around a few dozens of entries...alright.\n",
    "\n",
    "df_business.city = df_business.city.apply(fix_city_name, \n",
    "                                          args=(valid_city_names, \"Las Vegas\"))\n",
    "\n",
    "# Print new set of unique values to verify\n",
    "for city in df_business.city.unique():\n",
    "    if city.lower().startswith(\"las\"):\n",
    "        print(city)\n",
    "\n",
    "print(f\"{(df_business.city == 'Las Vegas').sum()} entries now named 'Las Vegas'\")"
   ]
  },
  {
   "cell_type": "code",
   "execution_count": 7,
   "metadata": {},
   "outputs": [
    {
     "data": {
      "text/plain": [
       "business_id         0\n",
       "name                0\n",
       "neighborhood        0\n",
       "address             0\n",
       "city                0\n",
       "state               0\n",
       "postal_code         0\n",
       "latitude            6\n",
       "longitude           6\n",
       "stars               0\n",
       "review_count        0\n",
       "is_open             0\n",
       "attributes      25786\n",
       "categories        541\n",
       "hours           44802\n",
       "dtype: int64"
      ]
     },
     "execution_count": 7,
     "metadata": {},
     "output_type": "execute_result"
    }
   ],
   "source": [
    "# Missing values in categories, will impute very soon\n",
    "df_business.isna().sum()"
   ]
  },
  {
   "cell_type": "markdown",
   "metadata": {},
   "source": [
    "### Review Data\n",
    "30 secs loading time on a MBP with 16GB of RAM. "
   ]
  },
  {
   "cell_type": "code",
   "execution_count": 8,
   "metadata": {},
   "outputs": [
    {
     "data": {
      "text/html": [
       "<div>\n",
       "<style scoped>\n",
       "    .dataframe tbody tr th:only-of-type {\n",
       "        vertical-align: middle;\n",
       "    }\n",
       "\n",
       "    .dataframe tbody tr th {\n",
       "        vertical-align: top;\n",
       "    }\n",
       "\n",
       "    .dataframe thead th {\n",
       "        text-align: right;\n",
       "    }\n",
       "</style>\n",
       "<table border=\"1\" class=\"dataframe\">\n",
       "  <thead>\n",
       "    <tr style=\"text-align: right;\">\n",
       "      <th></th>\n",
       "      <th>review_id</th>\n",
       "      <th>user_id</th>\n",
       "      <th>business_id</th>\n",
       "      <th>stars</th>\n",
       "      <th>date</th>\n",
       "      <th>text</th>\n",
       "      <th>useful</th>\n",
       "      <th>funny</th>\n",
       "      <th>cool</th>\n",
       "    </tr>\n",
       "  </thead>\n",
       "  <tbody>\n",
       "    <tr>\n",
       "      <th>0</th>\n",
       "      <td>x7mDIiDB3jEiPGPHOmDzyw</td>\n",
       "      <td>msQe1u7Z_XuqjGoqhB0J5g</td>\n",
       "      <td>iCQpiavjjPzJ5_3gPD5Ebg</td>\n",
       "      <td>2</td>\n",
       "      <td>2011-02-25</td>\n",
       "      <td>The pizza was okay. Not the best I've had. I p...</td>\n",
       "      <td>0</td>\n",
       "      <td>0</td>\n",
       "      <td>0</td>\n",
       "    </tr>\n",
       "    <tr>\n",
       "      <th>1</th>\n",
       "      <td>dDl8zu1vWPdKGihJrwQbpw</td>\n",
       "      <td>msQe1u7Z_XuqjGoqhB0J5g</td>\n",
       "      <td>pomGBqfbxcqPv14c3XH-ZQ</td>\n",
       "      <td>5</td>\n",
       "      <td>2012-11-13</td>\n",
       "      <td>I love this place! My fiance And I go here atl...</td>\n",
       "      <td>0</td>\n",
       "      <td>0</td>\n",
       "      <td>0</td>\n",
       "    </tr>\n",
       "  </tbody>\n",
       "</table>\n",
       "</div>"
      ],
      "text/plain": [
       "                review_id                 user_id             business_id  \\\n",
       "0  x7mDIiDB3jEiPGPHOmDzyw  msQe1u7Z_XuqjGoqhB0J5g  iCQpiavjjPzJ5_3gPD5Ebg   \n",
       "1  dDl8zu1vWPdKGihJrwQbpw  msQe1u7Z_XuqjGoqhB0J5g  pomGBqfbxcqPv14c3XH-ZQ   \n",
       "\n",
       "   stars        date                                               text  \\\n",
       "0      2  2011-02-25  The pizza was okay. Not the best I've had. I p...   \n",
       "1      5  2012-11-13  I love this place! My fiance And I go here atl...   \n",
       "\n",
       "   useful  funny  cool  \n",
       "0       0      0     0  \n",
       "1       0      0     0  "
      ]
     },
     "execution_count": 8,
     "metadata": {},
     "output_type": "execute_result"
    }
   ],
   "source": [
    "with open(file_review) as f:\n",
    "    df_review = pd.DataFrame(json.loads(line) for line in f)\n",
    "df_review.head(2)"
   ]
  },
  {
   "cell_type": "markdown",
   "metadata": {
    "collapsed": "true"
   },
   "source": [
    "## Filter `df_business` by `city` and `category`\n",
    "Extract all entries from `df_business` pertaining to \"Restaurants\" in \"Las Vegas\". "
   ]
  },
  {
   "cell_type": "code",
   "execution_count": 11,
   "metadata": {},
   "outputs": [],
   "source": [
    "df_business = df_business.query(\"`city` == 'Las Vegas'\")\n",
    "\n",
    "# Impute missing categories as 'Unknown'\n",
    "df_business[\"categories\"].replace(np.nan, \"Unknown\", inplace=True)\n",
    "\n",
    "# Selection below only works AFTER imputation,\n",
    "df_business = df_business.loc[df_business.categories.str.match(\"Restaurants\")]"
   ]
  },
  {
   "cell_type": "markdown",
   "metadata": {},
   "source": [
    "### Keep only relevant columns in `df_business` \n",
    "Which features are useful for building a recommendation system?\n",
    "\n",
    "    - business_id --- for computers to uniquely identifying each restaurant (branch)\n",
    "    - name --- for us humans to identify restaurant \n",
    "    - categories --- more human-readable information for understanding the restaurant\n",
    "    - stars --- the average star rating given to each restaurant\n",
    "    - attributes --- more text attributes describing each restaurant in detail"
   ]
  },
  {
   "cell_type": "code",
   "execution_count": 12,
   "metadata": {},
   "outputs": [
    {
     "data": {
      "text/plain": [
       "Index(['business_id', 'name', 'neighborhood', 'address', 'city', 'state',\n",
       "       'postal_code', 'latitude', 'longitude', 'stars', 'review_count',\n",
       "       'is_open', 'attributes', 'categories', 'hours'],\n",
       "      dtype='object')"
      ]
     },
     "execution_count": 12,
     "metadata": {},
     "output_type": "execute_result"
    }
   ],
   "source": [
    "df_business.columns  # existing columns"
   ]
  },
  {
   "cell_type": "code",
   "execution_count": 13,
   "metadata": {},
   "outputs": [],
   "source": [
    "selected_features = [u'business_id', u'name', u'categories', u'stars', u'attributes']\n",
    "df_business = df_business.loc[:, selected_features]\n",
    "\n",
    "# Rename column \"stars\" to \"avg_stars\" to avoid conflict with review dataset\n",
    "# 'avg_stars' is the rating a restaurant received, averaged over all reviews\n",
    "df_business.rename(axis=\"columns\", mapper={\"stars\": \"avg_stars\"}, inplace=True)"
   ]
  },
  {
   "cell_type": "code",
   "execution_count": 14,
   "metadata": {},
   "outputs": [
    {
     "data": {
      "text/html": [
       "<div>\n",
       "<style scoped>\n",
       "    .dataframe tbody tr th:only-of-type {\n",
       "        vertical-align: middle;\n",
       "    }\n",
       "\n",
       "    .dataframe tbody tr th {\n",
       "        vertical-align: top;\n",
       "    }\n",
       "\n",
       "    .dataframe thead th {\n",
       "        text-align: right;\n",
       "    }\n",
       "</style>\n",
       "<table border=\"1\" class=\"dataframe\">\n",
       "  <thead>\n",
       "    <tr style=\"text-align: right;\">\n",
       "      <th></th>\n",
       "      <th>business_id</th>\n",
       "      <th>name</th>\n",
       "      <th>categories</th>\n",
       "      <th>avg_stars</th>\n",
       "      <th>attributes</th>\n",
       "    </tr>\n",
       "  </thead>\n",
       "  <tbody>\n",
       "    <tr>\n",
       "      <th>143</th>\n",
       "      <td>2kWrSFkIes_d2BMg4YrRtA</td>\n",
       "      <td>Pizza Hut</td>\n",
       "      <td>Restaurants, Pizza</td>\n",
       "      <td>2.5</td>\n",
       "      <td>{'Alcohol': 'none', 'Ambience': '{'romantic': ...</td>\n",
       "    </tr>\n",
       "    <tr>\n",
       "      <th>197</th>\n",
       "      <td>YV9GVfmDSDM7HSV0jVdTOA</td>\n",
       "      <td>El Pollo Loco</td>\n",
       "      <td>Restaurants, Salad, Fast Food, Mexican</td>\n",
       "      <td>3.0</td>\n",
       "      <td>{'Alcohol': 'none', 'Ambience': '{'romantic': ...</td>\n",
       "    </tr>\n",
       "    <tr>\n",
       "      <th>325</th>\n",
       "      <td>lv5Bnqlt93NnvNJ2oNcQ8Q</td>\n",
       "      <td>Los Cucos Mexican Cafe</td>\n",
       "      <td>Restaurants, Bars, Nightlife, Caterers, Mexica...</td>\n",
       "      <td>4.0</td>\n",
       "      <td>{'Alcohol': 'full_bar', 'Ambience': '{'romanti...</td>\n",
       "    </tr>\n",
       "    <tr>\n",
       "      <th>630</th>\n",
       "      <td>DbK9fyJq4O4zfT1jv6JOhw</td>\n",
       "      <td>Pam Real Thai Las Vegas</td>\n",
       "      <td>Restaurants, Food, Food Delivery Services, Thai</td>\n",
       "      <td>4.0</td>\n",
       "      <td>{'Alcohol': 'none', 'Ambience': '{'romantic': ...</td>\n",
       "    </tr>\n",
       "    <tr>\n",
       "      <th>1061</th>\n",
       "      <td>Kx0MUrNQ737s-VVElk6Vig</td>\n",
       "      <td>Las Delicias De Las Vegas</td>\n",
       "      <td>Restaurants, Mexican</td>\n",
       "      <td>4.0</td>\n",
       "      <td>{'Alcohol': 'none', 'Ambience': '{'romantic': ...</td>\n",
       "    </tr>\n",
       "  </tbody>\n",
       "</table>\n",
       "</div>"
      ],
      "text/plain": [
       "                 business_id                       name  \\\n",
       "143   2kWrSFkIes_d2BMg4YrRtA                  Pizza Hut   \n",
       "197   YV9GVfmDSDM7HSV0jVdTOA              El Pollo Loco   \n",
       "325   lv5Bnqlt93NnvNJ2oNcQ8Q     Los Cucos Mexican Cafe   \n",
       "630   DbK9fyJq4O4zfT1jv6JOhw    Pam Real Thai Las Vegas   \n",
       "1061  Kx0MUrNQ737s-VVElk6Vig  Las Delicias De Las Vegas   \n",
       "\n",
       "                                             categories  avg_stars  \\\n",
       "143                                  Restaurants, Pizza        2.5   \n",
       "197              Restaurants, Salad, Fast Food, Mexican        3.0   \n",
       "325   Restaurants, Bars, Nightlife, Caterers, Mexica...        4.0   \n",
       "630     Restaurants, Food, Food Delivery Services, Thai        4.0   \n",
       "1061                               Restaurants, Mexican        4.0   \n",
       "\n",
       "                                             attributes  \n",
       "143   {'Alcohol': 'none', 'Ambience': '{'romantic': ...  \n",
       "197   {'Alcohol': 'none', 'Ambience': '{'romantic': ...  \n",
       "325   {'Alcohol': 'full_bar', 'Ambience': '{'romanti...  \n",
       "630   {'Alcohol': 'none', 'Ambience': '{'romantic': ...  \n",
       "1061  {'Alcohol': 'none', 'Ambience': '{'romantic': ...  "
      ]
     },
     "execution_count": 14,
     "metadata": {},
     "output_type": "execute_result"
    }
   ],
   "source": [
    "# Inspect DataFrame\n",
    "df_business.head()"
   ]
  },
  {
   "cell_type": "markdown",
   "metadata": {},
   "source": [
    "### Save filtered `df_business` DataFrame\n",
    "Caching intermediate result"
   ]
  },
  {
   "cell_type": "code",
   "execution_count": 15,
   "metadata": {},
   "outputs": [],
   "source": [
    "df_business.to_csv(\"data/selected_business.csv\", index=False)"
   ]
  },
  {
   "cell_type": "markdown",
   "metadata": {
    "collapsed": "true"
   },
   "source": [
    "## Filter `df_review` by `business_id` and `date`\n",
    "Extract only \"recent\" reviews about Las Vegan restaurants."
   ]
  },
  {
   "cell_type": "code",
   "execution_count": 16,
   "metadata": {},
   "outputs": [
    {
     "name": "stdout",
     "output_type": "stream",
     "text": [
      "business_id      0\n",
      "name             0\n",
      "categories       0\n",
      "avg_stars        0\n",
      "attributes     475\n",
      "review_id        0\n",
      "user_id          0\n",
      "stars            0\n",
      "date             0\n",
      "text             0\n",
      "useful           0\n",
      "funny            0\n",
      "cool             0\n",
      "dtype: int64\n"
     ]
    }
   ],
   "source": [
    "df_left = df_business.set_index(\"business_id\")\n",
    "df_right = df_review.set_index(\"business_id\")\n",
    "df_br_joined = df_left.join(df_right, how=\"inner\").reset_index() \n",
    "\n",
    "print(df_br_joined.isna().sum())\n",
    "del df_left, df_right"
   ]
  },
  {
   "cell_type": "code",
   "execution_count": 17,
   "metadata": {},
   "outputs": [
    {
     "data": {
      "text/plain": [
       "'2018-07-02'"
      ]
     },
     "execution_count": 17,
     "metadata": {},
     "output_type": "execute_result"
    }
   ],
   "source": [
    "# What is the latest review in the data?\n",
    "df_br_joined.date.max()"
   ]
  },
  {
   "cell_type": "code",
   "execution_count": 19,
   "metadata": {},
   "outputs": [],
   "source": [
    "# Filter down to the latest two+ years\n",
    "df_br_joined = df_br_joined.query(\"`date` > '2016-01-01'\")"
   ]
  },
  {
   "cell_type": "markdown",
   "metadata": {
    "collapsed": "true"
   },
   "source": [
    "## Save joined businesses + reviews dataset to CSV file"
   ]
  },
  {
   "cell_type": "code",
   "execution_count": 21,
   "metadata": {},
   "outputs": [],
   "source": [
    "# Save to ./data/last_2_years_restaurant_reviews.csv for your next task\n",
    "df_br_joined.to_csv(\"data/last_2_years_restaurant_reviews.csv\", index=False)"
   ]
  },
  {
   "cell_type": "markdown",
   "metadata": {},
   "source": [
    "## Basic EDA on processed data\n",
    "Each row of `df_br_joined` contains a review, and data about the restaurant reviewed. We can explore the data, and obtain insights for our recommendation system, or simply interesting behaviorial patterns among users."
   ]
  },
  {
   "cell_type": "code",
   "execution_count": 22,
   "metadata": {},
   "outputs": [],
   "source": [
    "import matplotlib.pyplot as plt\n",
    "plt.style.use(\"ggplot\")"
   ]
  },
  {
   "cell_type": "code",
   "execution_count": 26,
   "metadata": {},
   "outputs": [
    {
     "data": {
      "text/plain": [
       "Text(0, 0.5, \"Number of 'useful' votes\")"
      ]
     },
     "execution_count": 26,
     "metadata": {},
     "output_type": "execute_result"
    },
    {
     "data": {
      "image/png": "[encoded data removed]",
      "text/plain": [
       "<Figure size 432x288 with 1 Axes>"
      ]
     },
     "metadata": {},
     "output_type": "display_data"
    }
   ],
   "source": [
    "# Obvious, almost-linear correlation between the numbers of \"useful\" and \"cool\" tags per review\n",
    "# Front-end product question: is one of the tags redundant?\n",
    "# In any case, can pick EITHER ONE to weigh the importance of each review when building recommendation system!\n",
    "\n",
    "df_br_joined.plot.scatter(x=\"cool\", y=\"useful\")\n",
    "plt.xlabel(\"Number of 'cool' votes\")\n",
    "plt.ylabel(\"Number of 'useful' votes\")"
   ]
  },
  {
   "cell_type": "code",
   "execution_count": 28,
   "metadata": {},
   "outputs": [
    {
     "name": "stdout",
     "output_type": "stream",
     "text": [
      "          useful     stars\n",
      "useful  1.000000 -0.034555\n",
      "stars  -0.034555  1.000000\n"
     ]
    },
    {
     "data": {
      "image/png": "[encoded data removed]",
      "text/plain": [
       "<Figure size 432x288 with 1 Axes>"
      ]
     },
     "metadata": {},
     "output_type": "display_data"
    }
   ],
   "source": [
    "# Weak between usefulness of reviews and star rating given to restaurant\n",
    "df_br_joined.boxplot(by=\"stars\", column=\"useful\")\n",
    "plt.title(\"Usefulness of Review VS Star Rating Given\")\n",
    "plt.suptitle(\"\")\n",
    "plt.xlabel(\"Star Rating\")\n",
    "plt.ylabel(\"Number of 'Useful' Tags\") \n",
    "\n",
    "# Confirm weak correlation\n",
    "print(df_br_joined.loc[:, [\"useful\", \"stars\"]].corr())"
   ]
  },
  {
   "cell_type": "code",
   "execution_count": 30,
   "metadata": {},
   "outputs": [
    {
     "data": {
      "text/plain": [
       "<AxesSubplot:title={'center':'Number of Reviews, At Each Average Rating'}, xlabel='Average Rating', ylabel='Number of Reviews'>"
      ]
     },
     "execution_count": 30,
     "metadata": {},
     "output_type": "execute_result"
    },
    {
     "data": {
      "image/png": "[encoded data removed]",
      "text/plain": [
       "<Figure size 432x288 with 1 Axes>"
      ]
     },
     "metadata": {},
     "output_type": "display_data"
    }
   ],
   "source": [
    "# Are the reviews concentrated in certain (average) ratings? Yes!\n",
    "# Possible implication: people don't bother to leave reviews for really bad restaurants\n",
    "# Not sure why so few reviews give 5.0 though; maybe perfect restaurants are hard to find ;)\n",
    "\n",
    "reviews_per_star = df_br_joined['avg_stars'].value_counts()\\\n",
    "                                            .sort_index()\n",
    "\n",
    "plt.title(\"Number of Reviews, At Each Average Rating\")\n",
    "plt.xlabel(\"Average Rating\")\n",
    "plt.ylabel(\"Number of Reviews\")\n",
    "reviews_per_star.plot.bar()"
   ]
  }
 ],
 "metadata": {
  "anaconda-cloud": {},
  "kernelspec": {
   "display_name": "Python 3",
   "language": "python",
   "name": "python3"
  },
  "language_info": {
   "codemirror_mode": {
    "name": "ipython",
    "version": 3
   },
   "file_extension": ".py",
   "mimetype": "text/x-python",
   "name": "python",
   "nbconvert_exporter": "python",
   "pygments_lexer": "ipython3",
   "version": "3.8.5"
  }
 },
 "nbformat": 4,
 "nbformat_minor": 4
}
