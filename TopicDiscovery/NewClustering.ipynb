{
 "cells": [
  {
   "cell_type": "markdown",
   "metadata": {},
   "source": [
    "# Yelp Data Challenge - Topic Discovery Among Reviews\n",
    "Restaurant owners would probably like to get a better understanding of diners, and data scientists can help by clustering (vectorizer) restaurant reviews. Here we utilize K-means clustering to discover\n",
    "- the cuisines commonly reviewed in Las Vegas\n",
    "- the concerns that diners commonly share"
   ]
  },
  {
   "cell_type": "code",
   "execution_count": 1,
   "metadata": {},
   "outputs": [],
   "source": [
    "import pandas as pd\n",
    "import numpy as np\n",
    "import matplotlib.pyplot as plt\n",
    "plt.style.use(\"ggplot\")"
   ]
  },
  {
   "cell_type": "code",
   "execution_count": 2,
   "metadata": {},
   "outputs": [
    {
     "data": {
      "text/html": [
       "<div>\n",
       "<style scoped>\n",
       "    .dataframe tbody tr th:only-of-type {\n",
       "        vertical-align: middle;\n",
       "    }\n",
       "\n",
       "    .dataframe tbody tr th {\n",
       "        vertical-align: top;\n",
       "    }\n",
       "\n",
       "    .dataframe thead th {\n",
       "        text-align: right;\n",
       "    }\n",
       "</style>\n",
       "<table border=\"1\" class=\"dataframe\">\n",
       "  <thead>\n",
       "    <tr style=\"text-align: right;\">\n",
       "      <th></th>\n",
       "      <th>business_id</th>\n",
       "      <th>name</th>\n",
       "      <th>categories</th>\n",
       "      <th>avg_stars</th>\n",
       "      <th>attributes</th>\n",
       "      <th>cool</th>\n",
       "      <th>date</th>\n",
       "      <th>funny</th>\n",
       "      <th>review_id</th>\n",
       "      <th>stars</th>\n",
       "      <th>text</th>\n",
       "      <th>useful</th>\n",
       "      <th>user_id</th>\n",
       "    </tr>\n",
       "  </thead>\n",
       "  <tbody>\n",
       "    <tr>\n",
       "      <th>0</th>\n",
       "      <td>2kWrSFkIes_d2BMg4YrRtA</td>\n",
       "      <td>Pizza Hut</td>\n",
       "      <td>Restaurants, Pizza</td>\n",
       "      <td>2.5</td>\n",
       "      <td>{'Alcohol': 'none', 'Ambience': \"{'romantic': ...</td>\n",
       "      <td>0</td>\n",
       "      <td>2017-04-01</td>\n",
       "      <td>0</td>\n",
       "      <td>Spl0fx_X6bjPASU-zUJQUA</td>\n",
       "      <td>1</td>\n",
       "      <td>Ordered a pizza, the location is literally in ...</td>\n",
       "      <td>1</td>\n",
       "      <td>vZ-eQzpCOrSWfBfU5KUvIA</td>\n",
       "    </tr>\n",
       "    <tr>\n",
       "      <th>1</th>\n",
       "      <td>2kWrSFkIes_d2BMg4YrRtA</td>\n",
       "      <td>Pizza Hut</td>\n",
       "      <td>Restaurants, Pizza</td>\n",
       "      <td>2.5</td>\n",
       "      <td>{'Alcohol': 'none', 'Ambience': \"{'romantic': ...</td>\n",
       "      <td>0</td>\n",
       "      <td>2016-11-20</td>\n",
       "      <td>0</td>\n",
       "      <td>2UV-a8pXUdbK0fdurFwXfQ</td>\n",
       "      <td>5</td>\n",
       "      <td>Very busy place but they take good care of you...</td>\n",
       "      <td>0</td>\n",
       "      <td>nu6wU6PLbL9HPLZuqon0-A</td>\n",
       "    </tr>\n",
       "    <tr>\n",
       "      <th>2</th>\n",
       "      <td>2kWrSFkIes_d2BMg4YrRtA</td>\n",
       "      <td>Pizza Hut</td>\n",
       "      <td>Restaurants, Pizza</td>\n",
       "      <td>2.5</td>\n",
       "      <td>{'Alcohol': 'none', 'Ambience': \"{'romantic': ...</td>\n",
       "      <td>0</td>\n",
       "      <td>2018-03-27</td>\n",
       "      <td>0</td>\n",
       "      <td>vG5m3TzOf5F52jzO2D_19g</td>\n",
       "      <td>3</td>\n",
       "      <td>Stopped here to pick up an order of wings on m...</td>\n",
       "      <td>0</td>\n",
       "      <td>KEerqlFNhzl1I-yVK6mHVA</td>\n",
       "    </tr>\n",
       "  </tbody>\n",
       "</table>\n",
       "</div>"
      ],
      "text/plain": [
       "              business_id       name          categories  avg_stars  \\\n",
       "0  2kWrSFkIes_d2BMg4YrRtA  Pizza Hut  Restaurants, Pizza        2.5   \n",
       "1  2kWrSFkIes_d2BMg4YrRtA  Pizza Hut  Restaurants, Pizza        2.5   \n",
       "2  2kWrSFkIes_d2BMg4YrRtA  Pizza Hut  Restaurants, Pizza        2.5   \n",
       "\n",
       "                                          attributes  cool        date  funny  \\\n",
       "0  {'Alcohol': 'none', 'Ambience': \"{'romantic': ...     0  2017-04-01      0   \n",
       "1  {'Alcohol': 'none', 'Ambience': \"{'romantic': ...     0  2016-11-20      0   \n",
       "2  {'Alcohol': 'none', 'Ambience': \"{'romantic': ...     0  2018-03-27      0   \n",
       "\n",
       "                review_id  stars  \\\n",
       "0  Spl0fx_X6bjPASU-zUJQUA      1   \n",
       "1  2UV-a8pXUdbK0fdurFwXfQ      5   \n",
       "2  vG5m3TzOf5F52jzO2D_19g      3   \n",
       "\n",
       "                                                text  useful  \\\n",
       "0  Ordered a pizza, the location is literally in ...       1   \n",
       "1  Very busy place but they take good care of you...       0   \n",
       "2  Stopped here to pick up an order of wings on m...       0   \n",
       "\n",
       "                  user_id  \n",
       "0  vZ-eQzpCOrSWfBfU5KUvIA  \n",
       "1  nu6wU6PLbL9HPLZuqon0-A  \n",
       "2  KEerqlFNhzl1I-yVK6mHVA  "
      ]
     },
     "execution_count": 2,
     "metadata": {},
     "output_type": "execute_result"
    }
   ],
   "source": [
    "df = pd.read_csv('../data/last_2_years_restaurant_reviews.csv')\n",
    "df.head(3)"
   ]
  },
  {
   "cell_type": "code",
   "execution_count": 3,
   "metadata": {},
   "outputs": [
    {
     "data": {
      "text/plain": [
       "business_id     0\n",
       "name            0\n",
       "categories      0\n",
       "avg_stars       0\n",
       "attributes     84\n",
       "cool            0\n",
       "date            0\n",
       "funny           0\n",
       "review_id       0\n",
       "stars           0\n",
       "text            0\n",
       "useful          0\n",
       "user_id         0\n",
       "dtype: int64"
      ]
     },
     "execution_count": 3,
     "metadata": {},
     "output_type": "execute_result"
    }
   ],
   "source": [
    "# Minor number of NAs in 'attributes'; fortunately, we won't need that feature\n",
    "pd.DataFrame.sum(df.isna())"
   ]
  },
  {
   "cell_type": "code",
   "execution_count": 4,
   "metadata": {},
   "outputs": [],
   "source": [
    "# Take the values of the column that contains review text data, save to a variable named \"documents\"\n",
    "documents = df.text"
   ]
  },
  {
   "cell_type": "code",
   "execution_count": 5,
   "metadata": {},
   "outputs": [
    {
     "name": "stdout",
     "output_type": "stream",
     "text": [
      "(101569,)\n"
     ]
    }
   ],
   "source": [
    "# The number of reviews\n",
    "print(documents.shape)"
   ]
  },
  {
   "cell_type": "markdown",
   "metadata": {},
   "source": [
    "## Data-driven discovery of stop words\n",
    "For this exercise we will consider unigrams and bigrams only. We will plot their frequency distribution, and experiment with various cutoffs for rejecting tokens. In particular, we want to filter out words that are\n",
    "1. so common that they contain little specific information\n",
    "2. so infrequent that they describe specific niche situations.\n",
    "\n",
    "To accomplish the goals above, two successive steps are taken:\n",
    "1. Filter tokens with too small/big a document-frequency.\n",
    "2. Then, count the remaining tokens, and determine additional thresholds on *corpus-wide* term frequencies"
   ]
  },
  {
   "cell_type": "code",
   "execution_count": 6,
   "metadata": {},
   "outputs": [],
   "source": [
    "from nltk.corpus import stopwords\n",
    "import re\n",
    "\n",
    "def scrub_symbols(text):\n",
    "    # Remove all punctuation to facilitate filtering out stop words\n",
    "    # Replace by space instead of empty string, so that words don't accidentally stick together\n",
    "    scrubbed_text = re.sub(r\"[(<.*?>,!)]\", \" \", text)\n",
    "    return scrubbed_text\n",
    "\n",
    "def filter_grammatical_sw(review, stop_words):\n",
    "    '''\n",
    "        Filter out grammatical stop words (unigrams) from a review. \n",
    "        Take lower case automatically, since stop words list (likely) all lower-case\n",
    "        \n",
    "        Args:\n",
    "            review: a string containing a restaurant review\n",
    "            stop_words: set containing stop words (strs)\n",
    "        Returns:\n",
    "            filtered_review: string, with all specified stop words removed\n",
    "    '''\n",
    "    \n",
    "    filtered_review = ' '.join([word for word in scrub_symbols(review.lower()).split() \n",
    "                                if word not in stop_words])\n",
    "    return filtered_review"
   ]
  },
  {
   "cell_type": "code",
   "execution_count": 7,
   "metadata": {},
   "outputs": [],
   "source": [
    "grammatical_sw = stopwords.words('english')\n",
    "grammatical_sw.remove('not') #Important sentiment information!\n",
    "grammatical_sw.remove('no') #Important sentiment information!\n",
    "\n",
    "documents_filtered = documents.apply(filter_grammatical_sw, args=(grammatical_sw,))"
   ]
  },
  {
   "cell_type": "code",
   "execution_count": 8,
   "metadata": {},
   "outputs": [
    {
     "name": "stdout",
     "output_type": "stream",
     "text": [
      "['a', 'about', 'above', 'after', 'again', 'against', 'ain', 'all', 'am', 'an', 'and', 'any', 'are', 'aren', \"aren't\", 'as', 'at', 'be', 'because', 'been', 'before', 'being', 'below', 'between', 'both', 'but', 'by', 'can', 'couldn', \"couldn't\", 'd', 'did', 'didn', \"didn't\", 'do', 'does', 'doesn', \"doesn't\", 'doing', 'don', \"don't\", 'down', 'during', 'each', 'few', 'for', 'from', 'further', 'had', 'hadn', \"hadn't\", 'has', 'hasn', \"hasn't\", 'have', 'haven', \"haven't\", 'having', 'he', 'her', 'here', 'hers', 'herself', 'him', 'himself', 'his', 'how', 'i', 'if', 'in', 'into', 'is', 'isn', \"isn't\", 'it', \"it's\", 'its', 'itself', 'just', 'll', 'm', 'ma', 'me', 'mightn', \"mightn't\", 'more', 'most', 'mustn', \"mustn't\", 'my', 'myself', 'needn', \"needn't\", 'nor', 'now', 'o', 'of', 'off', 'on', 'once', 'only', 'or', 'other', 'our', 'ours', 'ourselves', 'out', 'over', 'own', 're', 's', 'same', 'shan', \"shan't\", 'she', \"she's\", 'should', \"should've\", 'shouldn', \"shouldn't\", 'so', 'some', 'such', 't', 'than', 'that', \"that'll\", 'the', 'their', 'theirs', 'them', 'themselves', 'then', 'there', 'these', 'they', 'this', 'those', 'through', 'to', 'too', 'under', 'until', 'up', 've', 'very', 'was', 'wasn', \"wasn't\", 'we', 'were', 'weren', \"weren't\", 'what', 'when', 'where', 'which', 'while', 'who', 'whom', 'why', 'will', 'with', 'won', \"won't\", 'wouldn', \"wouldn't\", 'y', 'you', \"you'd\", \"you'll\", \"you're\", \"you've\", 'your', 'yours', 'yourself', 'yourselves']\n"
     ]
    }
   ],
   "source": [
    "print(sorted(grammatical_sw))"
   ]
  },
  {
   "cell_type": "code",
   "execution_count": 9,
   "metadata": {},
   "outputs": [
    {
     "name": "stdout",
     "output_type": "stream",
     "text": [
      "* ORIGINAL *  This was one of the best one out here I from San Diego and I can't call the food was like if my grandma just made it the waiter was great \n",
      " * FILTERED *  one best one san diego can't call food like grandma made waiter great \n",
      "\n",
      "* ORIGINAL *  Unfortunately there's no option for zero stars, today the customer in front of me walk away because the extra charge and lack of customer service of the Asian female manager, I asked for 8 piece chicken and I asked all thighs and she wanted me to charge 1.79 on top of the 9.99 for each one! \n",
      " * FILTERED *  unfortunately there's no option zero stars today customer front walk away extra charge lack customer service asian female manager asked 8 piece chicken asked thighs wanted charge 1 79 top 9 99 one \n",
      "\n",
      "* ORIGINAL *  What a place . They never answer the phone. Went to get pizza and the internet did not let me put the code in for taking the survey. Counter girl said she would let me slide. This place is a joke . Will find another place to get a simple pizza. Don't take the survey because it is a waste of time you don't get a 10$ credit on specials . A lot of other places that make pizza \n",
      " * FILTERED *  place never answer phone went get pizza internet not let put code taking survey counter girl said would let slide place joke find another place get simple pizza take survey waste time get 10$ credit specials lot places make pizza \n",
      "\n"
     ]
    }
   ],
   "source": [
    "print_these = (101, 23, 6)\n",
    "for index in print_these:\n",
    "    print('* ORIGINAL * ', documents[index], '\\n', '* FILTERED * ', documents_filtered[index], '\\n')"
   ]
  },
  {
   "cell_type": "markdown",
   "metadata": {},
   "source": [
    "Now that grammatical stop words are dealt with, let's try to find topic-specific ones."
   ]
  },
  {
   "cell_type": "code",
   "execution_count": 10,
   "metadata": {},
   "outputs": [],
   "source": [
    "from sklearn.feature_extraction.text import CountVectorizer"
   ]
  },
  {
   "cell_type": "code",
   "execution_count": 11,
   "metadata": {},
   "outputs": [],
   "source": [
    "# First filter by DF: note the arguments fed into CountVectorizer\n",
    "# To reiterate: we have ~100,000 reviews. 1% of that is 1000 reviews, reasonable min_df?\n",
    "# No point going beyond bigrams, when word connectivity is destroyed by filtering grammatical stop words\n",
    "\n",
    "count_vectorizer = CountVectorizer(ngram_range=(1,2), min_df=0.01, max_df=0.95)\n",
    "token_counts = count_vectorizer.fit_transform(documents_filtered)"
   ]
  },
  {
   "cell_type": "code",
   "execution_count": 12,
   "metadata": {},
   "outputs": [],
   "source": [
    "# Turn into numpy arrays for boolean masking later\n",
    "unigram_indices = np.asarray([ix for token,ix in count_vectorizer.vocabulary_.items() \\\n",
    "                              if len(token.split())==1])\n",
    "\n",
    "bigram_indices = np.asarray([ix for token,ix in count_vectorizer.vocabulary_.items()\\\n",
    "                             if len(token.split())==2])"
   ]
  },
  {
   "cell_type": "code",
   "execution_count": 13,
   "metadata": {},
   "outputs": [],
   "source": [
    "# CORPUS-WIDE term frequency; take log10 to compress the range\n",
    "unigram_tf = np.log10( np.sum(token_counts[:, unigram_indices], axis=0) )\n",
    "bigram_tf = np.log10( np.sum(token_counts[:, bigram_indices], axis=0) )\n",
    "\n",
    "# Without these two lines, plotting cumulative frequencies would take forever\n",
    "unigram_tf = np.asarray(unigram_tf).reshape(-1)\n",
    "bigram_tf = np.asarray(bigram_tf).reshape(-1)"
   ]
  },
  {
   "cell_type": "code",
   "execution_count": 14,
   "metadata": {},
   "outputs": [
    {
     "data": {
      "text/plain": [
       "Text(0.5, 1.0, 'Bigram Distribution')"
      ]
     },
     "execution_count": 14,
     "metadata": {},
     "output_type": "execute_result"
    },
    {
     "data": {
      "image/png": "[encoded data removed]",
      "text/plain": [
       "<Figure size 432x288 with 2 Axes>"
      ]
     },
     "metadata": {
      "needs_background": "light"
     },
     "output_type": "display_data"
    }
   ],
   "source": [
    "# Cumulative frequency plot of corpus-wide TF\n",
    "# Rather arbitarily, we will remove tokens beyond 0.9; will validate results manually below\n",
    "\n",
    "fig, axes = plt.subplots(1,2)\n",
    "plt.tight_layout()\n",
    "axes[0].hist(unigram_tf, bins=10, cumulative=True, density=True)\n",
    "axes[1].hist(bigram_tf, bins=10, cumulative=True, density=True)\n",
    "\n",
    "axes[0].set_xlabel(\"Log10 TF\")\n",
    "axes[1].set_xlabel(\"Log10 TF\")\n",
    "\n",
    "axes[0].set_title(\"Unigram Distribution\")\n",
    "axes[1].set_title(\"Bigram Distribution\")"
   ]
  },
  {
   "cell_type": "markdown",
   "metadata": {},
   "source": [
    "### Filter and validate!"
   ]
  },
  {
   "cell_type": "code",
   "execution_count": 15,
   "metadata": {},
   "outputs": [],
   "source": [
    "# Create index-to-string lookup table; so that we know which tokens are filtered out\n",
    "ix_to_token = {ix:token for token,ix in count_vectorizer.vocabulary_.items()}"
   ]
  },
  {
   "cell_type": "code",
   "execution_count": 29,
   "metadata": {},
   "outputs": [
    {
     "name": "stdout",
     "output_type": "stream",
     "text": [
      "{'back', 'best', 'also', 'great', 'got', 'came', 'one', 'really', 'restaurant', 'service', 'order', 'like', 'would', 'go', 'ordered', 'us', 'chicken', 'vegas', 'food', 'not', 'get', 'time', 'good', 'delicious', 'place', 'no'}\n",
      "{'come back', 'customer service', 'las vegas'}\n"
     ]
    }
   ],
   "source": [
    "# Thresholds of 4.x and ~3.x eyeballed from cumulative frequency graphs\n",
    "# Tried a few near values to optimize results --- e.g. so that no tokens describing\n",
    "# specific food items are included in the 'drop list'\n",
    "\n",
    "# Earlier in the pipleine we have attempted to remove common, grammatical stop words\n",
    "# As seen below, that effort was largely successful, with only a few exceptions such as 'would', 'also'...\n",
    "# In particular, 'no' and 'not' as unigrams don't contain much info, and so we will get rid of them.\n",
    "\n",
    "# There are also culinary-themed themes that are presumably common in reviews of Las \n",
    "# Vegan restaurants --- e.g. 'restaurant', 'vegas', 'las vegas'. \n",
    "# As such, they will be treated as stop words.\n",
    "\n",
    "unigrams_to_drop_ix = unigram_indices[unigram_tf > 4.25]\n",
    "bigrams_to_drop_ix = bigram_indices[bigram_tf > 3.7]\n",
    "\n",
    "excess_unigrams = set([ix_to_token[ix] for ix in unigrams_to_drop_ix])\n",
    "excess_bigrams = set([ix_to_token[ix] for ix in bigrams_to_drop_ix])\n",
    "\n",
    "print(excess_unigrams)\n",
    "print(excess_bigrams)"
   ]
  },
  {
   "cell_type": "code",
   "execution_count": 30,
   "metadata": {},
   "outputs": [],
   "source": [
    "# Inspected print out above, and manually decided to retain any potentially informative tokens\n",
    "fudge_sw_unigram = ['chicken', 'service', 'time', 'delicious']\n",
    "for tok in fudge_sw_unigram:\n",
    "    excess_unigrams.remove(tok)\n",
    "\n",
    "fudge_sw_bigram = ['customer service']\n",
    "for tok in fudge_sw_bigram:\n",
    "    excess_bigrams.remove(tok)"
   ]
  },
  {
   "cell_type": "markdown",
   "metadata": {},
   "source": [
    "Form Python list containing final vocab!"
   ]
  },
  {
   "cell_type": "code",
   "execution_count": 31,
   "metadata": {},
   "outputs": [],
   "source": [
    "final_vocab = [token for token in count_vectorizer.vocabulary_.keys() \n",
    "               if (token not in excess_bigrams) and (token not in excess_unigrams)]\n",
    "# print(sorted(final_vocab))"
   ]
  },
  {
   "cell_type": "markdown",
   "metadata": {},
   "source": [
    "## Obtain TF-IDF representation of `documents`\n",
    "\n",
    "Consider only unigrams + bigrams, and obtain Tf-Idf vectors of `documents`. "
   ]
  },
  {
   "cell_type": "code",
   "execution_count": 19,
   "metadata": {},
   "outputs": [],
   "source": [
    "from sklearn.feature_extraction.text import TfidfVectorizer"
   ]
  },
  {
   "cell_type": "code",
   "execution_count": 32,
   "metadata": {},
   "outputs": [],
   "source": [
    "# Create TfidfVectorizer, and name it vectorizer\n",
    "# Since vocabulary is already given, no need to specifcy ngram range etc\n",
    "tfidf_vectorizer = TfidfVectorizer(vocabulary=final_vocab)"
   ]
  },
  {
   "cell_type": "code",
   "execution_count": 33,
   "metadata": {},
   "outputs": [],
   "source": [
    "# Fit the vectorizer with all available data\n",
    "vec_doc = tfidf_vectorizer.fit_transform(documents_filtered)"
   ]
  },
  {
   "cell_type": "code",
   "execution_count": 34,
   "metadata": {},
   "outputs": [
    {
     "name": "stdout",
     "output_type": "stream",
     "text": [
      "Vocabulary contains 847 items\n"
     ]
    }
   ],
   "source": [
    "# Now that vectorizer is fitted, Get the vocab of your tfidf\n",
    "# vectorizer.vocabulary_ records feature indices!\n",
    "token_to_index = tfidf_vectorizer.vocabulary_\n",
    "\n",
    "# Reverse dictionary for interpreting results\n",
    "index_to_token = {index:token for token,index in token_to_index.items()}\n",
    "\n",
    "print(\"Vocabulary contains {} items\".format(len(tfidf_vectorizer.vocabulary_)))"
   ]
  },
  {
   "cell_type": "markdown",
   "metadata": {},
   "source": [
    "## Finally, cluster reviews with KMeans\n",
    "Fit k-means clustering with \"training data\", and then apply it on the entire data set. Tune with the elbow method."
   ]
  },
  {
   "cell_type": "code",
   "execution_count": 35,
   "metadata": {},
   "outputs": [],
   "source": [
    "# Using sklearn.cluster.MiniBatchKMeans instead of sklearn.cluster.KMeans\n",
    "# Slightly worse clustering maybe? But much faster convergence\n",
    "\n",
    "from sklearn.cluster import MiniBatchKMeans"
   ]
  },
  {
   "cell_type": "code",
   "execution_count": 36,
   "metadata": {},
   "outputs": [],
   "source": [
    "# Define function for printing top features of each cluster\n",
    "# 'Top features' being the largest components of the centroid vector \n",
    "# Remember: TF-IDF vector components are always non-negative, so we don't have to worry about sign\n",
    "\n",
    "def print_top_features(kmeans_obj, ix_to_tokens, n=10):\n",
    "    '''\n",
    "        Reveals the 'most important' tokens in each KMeans cluster\n",
    "        \n",
    "        Args:\n",
    "            kmeans_obj: fitted sklearn.cluster.MiniBatchKMeans() or KMeans() object\n",
    "            ix_to_tokens: dictionary mapping feature indices to string token\n",
    "            n: integer number of top tokens to display\n",
    "    '''\n",
    "    cluster_centers = kmeans_obj.cluster_centers_\n",
    "    labels = kmeans_obj.labels_\n",
    "    \n",
    "    for i, centroid in enumerate(cluster_centers):\n",
    "        top_n_features = np.argsort(centroid)[::-1]\n",
    "        top_n_features = top_n_features[:n]\n",
    "        top_n_words = [ix_to_tokens[feature_index] for feature_index in top_n_features]\n",
    "\n",
    "        print(\"Top tokens from cluster {} (# of obs: {})\".format(i, (labels==i).sum()))\n",
    "        print(top_n_words)"
   ]
  },
  {
   "cell_type": "code",
   "execution_count": 37,
   "metadata": {},
   "outputs": [
    {
     "name": "stdout",
     "output_type": "stream",
     "text": [
      "Top tokens from cluster 0 (# of obs: 50745)\n",
      "['service', 'chicken', 'amazing', 'love', 'nice', 'time', 'definitely', 'always', 'sushi', 'try']\n",
      "Top tokens from cluster 1 (# of obs: 33373)\n",
      "['pizza', 'time', 'service', 'even', 'never', 'minutes', 'come', 'bad', 'people', 'location']\n",
      "Top tokens from cluster 2 (# of obs: 17451)\n",
      "['delicious', 'friendly', 'staff', 'breakfast', 'service', 'definitely', 'fresh', 'lunch', 'amazing', 'time']\n"
     ]
    }
   ],
   "source": [
    "# Start with arbitrary K = 3, as a trial\n",
    "kmeans = MiniBatchKMeans(n_clusters=3, batch_size=500, max_iter=1000, n_init=5)\n",
    "kmeans.fit(vec_doc)\n",
    "print_top_features(kmeans, index_to_token, n=10)"
   ]
  },
  {
   "cell_type": "markdown",
   "metadata": {},
   "source": [
    "### Experiment with different K\n",
    "\n",
    "Attempt to find optimal K's using elbow method. Also tried silhouette score, but computations on a representative sample takes far too long. Elbow method it is!"
   ]
  },
  {
   "cell_type": "code",
   "execution_count": 26,
   "metadata": {},
   "outputs": [],
   "source": [
    "from Elbow import elbow_tuner"
   ]
  },
  {
   "cell_type": "code",
   "execution_count": 27,
   "metadata": {},
   "outputs": [
    {
     "data": {
      "text/plain": [
       "Text(0, 0.5, 'Mean Intra-cluster SS')"
      ]
     },
     "execution_count": 27,
     "metadata": {},
     "output_type": "execute_result"
    },
    {
     "data": {
      "image/png": "[encoded data removed]",
      "text/plain": [
       "<Figure size 432x288 with 1 Axes>"
      ]
     },
     "metadata": {
      "needs_background": "light"
     },
     "output_type": "display_data"
    }
   ],
   "source": [
    "k_to_try = range(3, 100, 9)\n",
    "\n",
    "# intra_cluster_ss = elbow.elbow_tuner(vec_doc, k_to_try)\n",
    "intra_cluster_ss = elbow_tuner(vec_doc, k_to_try)\n",
    "\n",
    "plt.plot(k_to_try, intra_cluster_ss, '-+')\n",
    "plt.xlabel('K #(Number of Clusters)')\n",
    "plt.ylabel('Mean Intra-cluster SS')"
   ]
  },
  {
   "cell_type": "code",
   "execution_count": 38,
   "metadata": {},
   "outputs": [
    {
     "name": "stdout",
     "output_type": "stream",
     "text": [
      "Top tokens from cluster 0 (# of obs: 3538)\n",
      "['excellent', 'service', 'highly', 'recommend', 'amazing', 'delicious', 'definitely', 'friendly']\n",
      "Top tokens from cluster 1 (# of obs: 5275)\n",
      "['chicken', 'fried', 'rice', 'salad', 'sauce', 'delicious', 'service', 'try']\n",
      "Top tokens from cluster 2 (# of obs: 2055)\n",
      "['visit', 'time', 'service', 'first', 'definitely', 'next', 'amazing', 'every']\n",
      "Top tokens from cluster 3 (# of obs: 3444)\n",
      "['wait', 'long', 'can', 'time', 'minutes', 'service', 'staff', 'come']\n",
      "Top tokens from cluster 4 (# of obs: 3071)\n",
      "['sushi', 'roll', 'rolls', 'burrito', 'fresh', 'service', 'eat', 'definitely']\n",
      "Top tokens from cluster 5 (# of obs: 2526)\n",
      "['buffet', 'price', 'crab', 'selection', 'station', 'quality', 'dinner', 'seafood']\n",
      "Top tokens from cluster 6 (# of obs: 1)\n",
      "['awesome', 'cute', 'visiting', 'soon', 'thank', 'they', 'rolls', 'free']\n",
      "Top tokens from cluster 7 (# of obs: 15568)\n",
      "['service', 'time', 'even', 'never', 'said', 'minutes', 'asked', 'table']\n",
      "Top tokens from cluster 8 (# of obs: 23949)\n",
      "['service', 'amazing', 'delicious', 'definitely', 'friendly', 'nice', 'staff', 'awesome']\n",
      "Top tokens from cluster 9 (# of obs: 2874)\n",
      "['breakfast', 'eggs', 'pancakes', 'coffee', 'service', 'toast', 'delicious', 'lunch']\n",
      "Top tokens from cluster 10 (# of obs: 4)\n",
      "['ramen', 'hands', 'life', 'absolutely', 'highly', 'spicy', 'fried', 'rice']\n",
      "Top tokens from cluster 11 (# of obs: 1760)\n",
      "['chocolate', 'cake', 'dessert', 'cream', 'delicious', 'ice', 'amazing', 'sweet']\n",
      "Top tokens from cluster 12 (# of obs: 1862)\n",
      "['fantastic', 'service', 'amazing', 'delicious', 'server', 'friendly', 'recommend', 'staff']\n",
      "Top tokens from cluster 13 (# of obs: 4226)\n",
      "['ramen', 'rice', 'pork', 'soup', 'fried', 'noodles', 'spicy', 'broth']\n",
      "Top tokens from cluster 14 (# of obs: 2565)\n",
      "['burger', 'fries', 'burgers', 'service', 'try', 'time', 'well', 'cheese']\n",
      "Top tokens from cluster 15 (# of obs: 2018)\n",
      "['curry', 'thai', 'pad', 'chicken', 'spicy', 'rice', 'spice', 'fried']\n",
      "Top tokens from cluster 16 (# of obs: 1)\n",
      "['times', 'beyond', 'type', 'parking', 'offer', 'quickly', 'room', 'ramen']\n",
      "Top tokens from cluster 17 (# of obs: 2993)\n",
      "['cheese', 'mac', 'lobster', 'fries', 'steak', 'sandwich', 'delicious', 'sauce']\n",
      "Top tokens from cluster 18 (# of obs: 5787)\n",
      "['love', 'always', 'service', 'friendly', 'amazing', 'favorite', 'staff', 'time']\n",
      "Top tokens from cluster 19 (# of obs: 3221)\n",
      "['make', 'sure', 'time', 'service', 'amazing', 'staff', 'made', 'delicious']\n",
      "Top tokens from cluster 20 (# of obs: 2097)\n",
      "['pho', 'broth', 'rolls', 'spring', 'service', 'beef', 'meat', 'noodles']\n",
      "Top tokens from cluster 21 (# of obs: 1758)\n",
      "['fish', 'tacos', 'fresh', 'chips', 'service', 'sushi', 'taco', 'sauce']\n",
      "Top tokens from cluster 22 (# of obs: 3571)\n",
      "['better', 'service', 'much', 'even', 'way', 'time', 've', 'could']\n",
      "Top tokens from cluster 23 (# of obs: 4737)\n",
      "['pizza', 'crust', 'cheese', 'service', 'slice', 'time', 'delivery', 'toppings']\n",
      "Top tokens from cluster 24 (# of obs: 2668)\n",
      "['location', 'service', 'always', 'time', 've', 'staff', 'friendly', 'drive']\n"
     ]
    }
   ],
   "source": [
    "'''\n",
    "    Take first elbow at around K=25; tried values larger than 25, \n",
    "    but that gives multiple clusters that contain only one obseration.\n",
    "    Finally, print top features related to each cluster\n",
    "'''\n",
    "\n",
    "kmeans_final = MiniBatchKMeans(n_clusters=25).fit(vec_doc)\n",
    "print_top_features(kmeans_final, index_to_token, n=8)"
   ]
  },
  {
   "cell_type": "markdown",
   "metadata": {},
   "source": [
    "## Summary and Observations\n",
    "\n",
    "### Popular Categories of Food\n",
    "(Vietnamese) pho noodles, (Japanese) ramen, sushi, pizzas, Thai curry, fried rice, buffet, seafood...all have their place in Las Vegas. Contrary to an earlier clustering attempt, it is not immediately obvious which types of food are more popular. This variation in results across clustering attempts reminds us that K-means clustering, as a random algorithm, can only provide a rough overview of the data.\n",
    "\n",
    "### Items of Attention for Restaurants\n",
    "In case it isn't crystal clear, the **taste** of food matters --- as shown by the recurrence of 'delicious' in eight different clusters. It is also vital to have **friendly staff** and **good service**. Remember that 'service' and 'delicious' almost became stop words by their sheer frequency counts!\n",
    "\n",
    "On the other hand, as shown in `Preprocessing.ipynb`, most reviews gave 3 stars or above. Therefore it is no wonder that tokens presenting positive sentiments e.g. 'delicious' are overwhelmingly represented, while we hardly see negative ones. To put culinary pitfalls into focus, we must analyze  bad reviews separately.\n",
    "\n",
    "### Further Refinement of Analysis Technique?\n",
    "By removing grammatical stop words at the very beginning, it seems we have avoided having repetitive tokens --- which plagued the previous iteration of this notebook. That's encouraging!\n",
    "\n",
    "To put interesting information more sharpyl into focus, we can try a, instead of extracting n-grams in a straightforward, brute-force manner. This [blog post by Git(Hub) data scientist Kavita Ganesan](http://kavita-ganesan.com/how-to-incorporate-phrases-into-word2vec-a-text-mining-approach/#.WuiiKtMvyds) may contain some clues, but in the interest of time I will stop here for now.\n",
    "\n",
    "A more esoteric concern is that clustering results may be quantitatively mediocre. Since scikit-learn's TfidfVectorizer normalizes the L2 norm of each observation to unit length, a RMS distance of 0.9x between observations and their cluster centroids implies that observations are spread out sparely in the 'TF-IDF hypersphere'.\n",
    "\n",
    "Could this a manifestation of the dimensionality curse? We do have hundreds features after all. Maybe we can apply PCA first, then cluster and attempt to discover themes? Will leave this for the next iteration of notebook."
   ]
  },
  {
   "cell_type": "code",
   "execution_count": null,
   "metadata": {},
   "outputs": [],
   "source": []
  },
  {
   "cell_type": "code",
   "execution_count": null,
   "metadata": {},
   "outputs": [],
   "source": []
  }
 ],
 "metadata": {
  "kernelspec": {
   "display_name": "Python 3",
   "language": "python",
   "name": "python3"
  },
  "language_info": {
   "codemirror_mode": {
    "name": "ipython",
    "version": 3
   },
   "file_extension": ".py",
   "mimetype": "text/x-python",
   "name": "python",
   "nbconvert_exporter": "python",
   "pygments_lexer": "ipython3",
   "version": "3.7.2"
  }
 },
 "nbformat": 4,
 "nbformat_minor": 2
}
