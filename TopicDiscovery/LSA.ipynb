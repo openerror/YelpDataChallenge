{
 "cells": [
  {
   "cell_type": "markdown",
   "metadata": {},
   "source": [
    "# Yelp Data Challenge - Topic Discovery Among Reviews\n",
    "Restaurant owners would probably like to get a better understanding of diners, and data scientists can help by mining for recurring topics among reviews. \n",
    "\n",
    "Here we utilize latent semantic analysis (LSA, via SVD) and K-means clustering to achieve"
   ]
  },
  {
   "cell_type": "code",
   "execution_count": 3,
   "metadata": {},
   "outputs": [],
   "source": [
    "import pandas as pd\n",
    "import numpy as np\n",
    "import matplotlib.pyplot as plt\n",
    "plt.style.use(\"ggplot\")"
   ]
  },
  {
   "cell_type": "code",
   "execution_count": 4,
   "metadata": {},
   "outputs": [
    {
     "data": {
      "text/html": [
       "<div>\n",
       "<style scoped>\n",
       "    .dataframe tbody tr th:only-of-type {\n",
       "        vertical-align: middle;\n",
       "    }\n",
       "\n",
       "    .dataframe tbody tr th {\n",
       "        vertical-align: top;\n",
       "    }\n",
       "\n",
       "    .dataframe thead th {\n",
       "        text-align: right;\n",
       "    }\n",
       "</style>\n",
       "<table border=\"1\" class=\"dataframe\">\n",
       "  <thead>\n",
       "    <tr style=\"text-align: right;\">\n",
       "      <th></th>\n",
       "      <th>business_id</th>\n",
       "      <th>name</th>\n",
       "      <th>categories</th>\n",
       "      <th>avg_stars</th>\n",
       "      <th>attributes</th>\n",
       "      <th>cool</th>\n",
       "      <th>date</th>\n",
       "      <th>funny</th>\n",
       "      <th>review_id</th>\n",
       "      <th>stars</th>\n",
       "      <th>text</th>\n",
       "      <th>useful</th>\n",
       "      <th>user_id</th>\n",
       "    </tr>\n",
       "  </thead>\n",
       "  <tbody>\n",
       "    <tr>\n",
       "      <th>0</th>\n",
       "      <td>2kWrSFkIes_d2BMg4YrRtA</td>\n",
       "      <td>Pizza Hut</td>\n",
       "      <td>Restaurants, Pizza</td>\n",
       "      <td>2.5</td>\n",
       "      <td>{'Alcohol': 'none', 'Ambience': \"{'romantic': ...</td>\n",
       "      <td>0</td>\n",
       "      <td>2017-04-01</td>\n",
       "      <td>0</td>\n",
       "      <td>Spl0fx_X6bjPASU-zUJQUA</td>\n",
       "      <td>1</td>\n",
       "      <td>Ordered a pizza, the location is literally in ...</td>\n",
       "      <td>1</td>\n",
       "      <td>vZ-eQzpCOrSWfBfU5KUvIA</td>\n",
       "    </tr>\n",
       "    <tr>\n",
       "      <th>1</th>\n",
       "      <td>2kWrSFkIes_d2BMg4YrRtA</td>\n",
       "      <td>Pizza Hut</td>\n",
       "      <td>Restaurants, Pizza</td>\n",
       "      <td>2.5</td>\n",
       "      <td>{'Alcohol': 'none', 'Ambience': \"{'romantic': ...</td>\n",
       "      <td>0</td>\n",
       "      <td>2016-11-20</td>\n",
       "      <td>0</td>\n",
       "      <td>2UV-a8pXUdbK0fdurFwXfQ</td>\n",
       "      <td>5</td>\n",
       "      <td>Very busy place but they take good care of you...</td>\n",
       "      <td>0</td>\n",
       "      <td>nu6wU6PLbL9HPLZuqon0-A</td>\n",
       "    </tr>\n",
       "    <tr>\n",
       "      <th>2</th>\n",
       "      <td>2kWrSFkIes_d2BMg4YrRtA</td>\n",
       "      <td>Pizza Hut</td>\n",
       "      <td>Restaurants, Pizza</td>\n",
       "      <td>2.5</td>\n",
       "      <td>{'Alcohol': 'none', 'Ambience': \"{'romantic': ...</td>\n",
       "      <td>0</td>\n",
       "      <td>2018-03-27</td>\n",
       "      <td>0</td>\n",
       "      <td>vG5m3TzOf5F52jzO2D_19g</td>\n",
       "      <td>3</td>\n",
       "      <td>Stopped here to pick up an order of wings on m...</td>\n",
       "      <td>0</td>\n",
       "      <td>KEerqlFNhzl1I-yVK6mHVA</td>\n",
       "    </tr>\n",
       "  </tbody>\n",
       "</table>\n",
       "</div>"
      ],
      "text/plain": [
       "              business_id       name          categories  avg_stars  \\\n",
       "0  2kWrSFkIes_d2BMg4YrRtA  Pizza Hut  Restaurants, Pizza        2.5   \n",
       "1  2kWrSFkIes_d2BMg4YrRtA  Pizza Hut  Restaurants, Pizza        2.5   \n",
       "2  2kWrSFkIes_d2BMg4YrRtA  Pizza Hut  Restaurants, Pizza        2.5   \n",
       "\n",
       "                                          attributes  cool        date  funny  \\\n",
       "0  {'Alcohol': 'none', 'Ambience': \"{'romantic': ...     0  2017-04-01      0   \n",
       "1  {'Alcohol': 'none', 'Ambience': \"{'romantic': ...     0  2016-11-20      0   \n",
       "2  {'Alcohol': 'none', 'Ambience': \"{'romantic': ...     0  2018-03-27      0   \n",
       "\n",
       "                review_id  stars  \\\n",
       "0  Spl0fx_X6bjPASU-zUJQUA      1   \n",
       "1  2UV-a8pXUdbK0fdurFwXfQ      5   \n",
       "2  vG5m3TzOf5F52jzO2D_19g      3   \n",
       "\n",
       "                                                text  useful  \\\n",
       "0  Ordered a pizza, the location is literally in ...       1   \n",
       "1  Very busy place but they take good care of you...       0   \n",
       "2  Stopped here to pick up an order of wings on m...       0   \n",
       "\n",
       "                  user_id  \n",
       "0  vZ-eQzpCOrSWfBfU5KUvIA  \n",
       "1  nu6wU6PLbL9HPLZuqon0-A  \n",
       "2  KEerqlFNhzl1I-yVK6mHVA  "
      ]
     },
     "execution_count": 4,
     "metadata": {},
     "output_type": "execute_result"
    }
   ],
   "source": [
    "df = pd.read_csv('data/last_2_years_restaurant_reviews.csv')\n",
    "df.head(3)"
   ]
  },
  {
   "cell_type": "code",
   "execution_count": 5,
   "metadata": {},
   "outputs": [
    {
     "data": {
      "text/plain": [
       "business_id     0\n",
       "name            0\n",
       "categories      0\n",
       "avg_stars       0\n",
       "attributes     84\n",
       "cool            0\n",
       "date            0\n",
       "funny           0\n",
       "review_id       0\n",
       "stars           0\n",
       "text            0\n",
       "useful          0\n",
       "user_id         0\n",
       "dtype: int64"
      ]
     },
     "execution_count": 5,
     "metadata": {},
     "output_type": "execute_result"
    }
   ],
   "source": [
    "# Minor number of NAs in 'attributes'; fortunately, we won't need that feature\n",
    "pd.DataFrame.sum(df.isna())"
   ]
  },
  {
   "cell_type": "code",
   "execution_count": 6,
   "metadata": {},
   "outputs": [],
   "source": [
    "# Take the values of the column that contains review text data, save to a variable named \"documents\"\n",
    "documents = df.text"
   ]
  },
  {
   "cell_type": "code",
   "execution_count": 7,
   "metadata": {},
   "outputs": [
    {
     "name": "stdout",
     "output_type": "stream",
     "text": [
      "(101569,)\n"
     ]
    }
   ],
   "source": [
    "# The number of reviews\n",
    "print(documents.shape)"
   ]
  },
  {
   "cell_type": "markdown",
   "metadata": {},
   "source": [
    "## Removing Stop Words\n",
    "In addition to grammatical stop words provided by NLTK, we need to remove domain-specific stop words as well. In order to do so, we will filter by minimum and maximum thresholds in corpus-wide term frequency.\n",
    "\n",
    "Then, when applying `TfidfVectorizer`, filter by IDF, too."
   ]
  },
  {
   "cell_type": "code",
   "execution_count": 59,
   "metadata": {},
   "outputs": [],
   "source": [
    "from nltk.corpus import stopwords\n",
    "import re\n",
    "\n",
    "def scrub_symbols(text):\n",
    "    # Remove all punctuation to facilitate filtering out stop words\n",
    "    # Replace by space instead of empty string, so that words don't accidentally stick together\n",
    "    scrubbed_text = re.sub(r\"[(<.*?>,!)]\", \" \", text)\n",
    "    return scrubbed_text\n",
    "\n",
    "def filter_grammatical_sw(review, stop_words):\n",
    "    '''\n",
    "        Filter out grammatical stop words (unigrams) from a review. \n",
    "        Take lower case automatically, since stop words list (likely) all lower-case\n",
    "        \n",
    "        Args:\n",
    "            review: a string containing a restaurant review\n",
    "            stop_words: set containing stop words (strs)\n",
    "        Returns:\n",
    "            filtered_review: string, with all specified stop words removed\n",
    "    '''\n",
    "    \n",
    "    filtered_review = ' '.join([word for word in scrub_symbols(review.lower()).split() \n",
    "                                if word not in stop_words])\n",
    "    return filtered_review"
   ]
  },
  {
   "cell_type": "code",
   "execution_count": 60,
   "metadata": {},
   "outputs": [],
   "source": [
    "grammatical_sw = stopwords.words('english') + ['wouldn']\n",
    "documents_filtered = documents.apply(filter_grammatical_sw, args=(stopwords.words('english'),))"
   ]
  },
  {
   "cell_type": "code",
   "execution_count": 61,
   "metadata": {},
   "outputs": [
    {
     "name": "stdout",
     "output_type": "stream",
     "text": [
      "clean cute good service food bland bland bland call authentic stretch feel like took great mexican food took away spices appeal americans disappointment \n",
      "\n",
      "Very clean, very cute. Good service but the food is bland, bland, bland. Wouldn't call it authentic by any stretch. I feel like they took great Mexican food and took away all the spices to appeal to Americans. A disappointment.\n"
     ]
    }
   ],
   "source": [
    "print(documents_filtered[100], '\\n')\n",
    "print(documents[100])"
   ]
  },
  {
   "cell_type": "markdown",
   "metadata": {},
   "source": [
    "## Vectorizing the corpus\n",
    "In order to perform latent semantic analysis (LSA), we must first transform the reviews from raw text into vectors; again, TF-IDF scores are used. As a preprocessing step for removing 'noise' from 'signal', I have set `max_df` to 0.95, which hopefully would keep out many of the stop words."
   ]
  },
  {
   "cell_type": "code",
   "execution_count": 7,
   "metadata": {},
   "outputs": [],
   "source": [
    "from sklearn.feature_extraction.text import TfidfVectorizer"
   ]
  },
  {
   "cell_type": "code",
   "execution_count": 8,
   "metadata": {},
   "outputs": [
    {
     "name": "stdout",
     "output_type": "stream",
     "text": [
      "Ordered a pizza, the location is literally in front of my apartment complex and my pizza was cold. Must have been sitting there for for almost an hour for as cold as it was, the drive from this location to my apartment door is all of anout five minutes. I ordered a soda and its\n",
      "obvious it was never placed in a fridge. Cold pizza and warn soda. Horrible! \n",
      "\n",
      "I've been going here for the past month or so, there is a new employee, I don't know his name I never asked but I certainly will the next time I see him, it pleases me to see a young man actually want to work, just yesterday I went to buy a late dinner meal and this young man helped me and asked me what I would like and I told him I don't know what I was hungry for, he mentioned several items. This young man truly has a bright attitude and cares for working, 20 out of 20 stars for his customer service, thanks young man. \n",
      "\n",
      "I recommend this pace 10/10! They have gluten free noodles and all their sauces are gluten free! Their tomato bisque was the best I've ever had too! The service was friendly and knowledgeable. They had a chef come out to take my order for my allergies. Will be going back next time in Vegas! \n",
      "\n"
     ]
    }
   ],
   "source": [
    "# Print a few reviews to see what grammatical stop words there may be\n",
    "print(documents[0], '\\n')\n",
    "print(documents[10], '\\n')\n",
    "print(documents[1000], '\\n')"
   ]
  },
  {
   "cell_type": "code",
   "execution_count": 9,
   "metadata": {},
   "outputs": [],
   "source": [
    "# Form basic stop words list based on above reviews, and vectorize.\n",
    "# Iterated a few times to grow stop words list ... and then finally decided\n",
    "# that they must be removed BEFORE tokenization process. Otherwise, sklearn\n",
    "# would retain these stop words when they are part of a bigram\n",
    "\n",
    "basic_stopwords = set(['a', 'an', 'the', 'but', 'yet', 'and', 'or', \n",
    "                       'be', 'is', 'am', 'are', 'was', 'were', 'been', \n",
    "                       'for', 'as', 'this', 'out', 'in', 'on', 'at', 'how', \n",
    "                       'my', 'him', 'her', 'his', 'their', 'ours', 'he', 'she', 'it', 'me',\n",
    "                       'there', 'here', 'of', 'will', 'would', 'I\\'ve', 'to'])\n",
    "\n",
    "def filter_grammatical_sw(review, stop_words):\n",
    "    '''\n",
    "        Filter out grammatical stop words (unigrams) from a review. \n",
    "        \n",
    "        Args:\n",
    "            review: a string containing a restaurant review\n",
    "            stop_words: set containing stop words (strs)\n",
    "        Returns:\n",
    "            filtered_review: string, with all specified stop words removed\n",
    "    '''\n",
    "    \n",
    "    filtered_review = ' '.join([word for word in review.split() if word not in stop_words])\n",
    "    return filtered_review"
   ]
  },
  {
   "cell_type": "code",
   "execution_count": 10,
   "metadata": {},
   "outputs": [
    {
     "name": "stdout",
     "output_type": "stream",
     "text": [
      "Ordered pizza, location literally front apartment complex pizza cold. Must have sitting almost hour cold was, drive from location apartment door all anout five minutes. I ordered soda its obvious never placed fridge. Cold pizza warn soda. Horrible! \n",
      "\n",
      "going past month so, new employee, I don't know name I never asked I certainly next time I see him, pleases see young man actually want work, just yesterday I went buy late dinner meal young man helped asked what I like I told I don't know what I hungry for, mentioned several items. This young man truly has bright attitude cares working, 20 20 stars customer service, thanks young man. \n",
      "\n",
      "This place has look feel Old Italy. I have never eaten area quite bit restaurants surrounding each other. We chose family style service we had about 6 our party well worth $$! We had salmon with balsamic glaze, chicken franchese ( personal favorite ), shrimp scampi, tossed salad, tiramisu, creme brûlée... I missing few items those ones I enjoyed! The food cooked perfectly taste- maron! Yummy. It helps have good company. Our server knowledgeable very welcoming. Definitely come again :))) it's bit pricier good ones are. Go! You won't disappointed. \n",
      "\n"
     ]
    }
   ],
   "source": [
    "documents_filtered = documents.apply(filter_grammatical_sw, args=(basic_stopwords,))\n",
    "\n",
    "# Print some reviews to see results\n",
    "# As long as a human reader can guess the meaning, the filtering is not too destructive i.e. is fine\n",
    "print(documents_filtered[0], '\\n')\n",
    "print(documents_filtered[10], '\\n')\n",
    "print(documents_filtered[999], '\\n')"
   ]
  },
  {
   "cell_type": "code",
   "execution_count": 88,
   "metadata": {},
   "outputs": [],
   "source": [
    "# By default, punctuations are treated as token separators, and only that\n",
    "# lowercase==False because it's already done\n",
    "tfidf_vectorizer = TfidfVectorizer(ngram_range=(1,3), \n",
    "                                   min_df=0.005, max_df=0.95, lowercase=False)"
   ]
  },
  {
   "cell_type": "code",
   "execution_count": 89,
   "metadata": {},
   "outputs": [],
   "source": [
    "vec_docs = tfidf_vectorizer.fit_transform(documents_filtered)"
   ]
  },
  {
   "cell_type": "code",
   "execution_count": 94,
   "metadata": {},
   "outputs": [],
   "source": [
    "unigrams = [key for key in tfidf_vectorizer.vocabulary_.keys() if len(key.split())==1]\n",
    "bigrams = [key for key in tfidf_vectorizer.vocabulary_.keys() if len(key.split())==2]\n",
    "trigrams = [key for key in tfidf_vectorizer.vocabulary_.keys() if len(key.split())==3]"
   ]
  },
  {
   "cell_type": "code",
   "execution_count": 95,
   "metadata": {},
   "outputs": [
    {
     "name": "stdout",
     "output_type": "stream",
     "text": [
      "1459 unigrams and 697 bigrams. 2193 in total!\n"
     ]
    }
   ],
   "source": [
    "# 1104 tokens is not a lot, but still may be too high for effective topic identification\n",
    "\n",
    "print('{} unigrams and {} bigrams. {} in total!'.format(len(unigrams), len(bigrams), \n",
    "                                                        len(tfidf_vectorizer.vocabulary_)))"
   ]
  },
  {
   "cell_type": "markdown",
   "metadata": {},
   "source": [
    "## Dimension reduction via SVD\n",
    "SVD allows us to transform the reviews from TF-IDF space to a lower-dimensional 'latent semantic' (LS) space. Hopefully we will see some interesting topics there. For starters, assume that each document can only belong to 1 or 2 topics.\n",
    "\n",
    "Note on choosing the LS # of dimensions: try to retain at most 10% of TF-IDF dimension at an 'acceptable' reconstruction error. See plot below.\n",
    "\n",
    "Using `TruncatedSVD`, because there is no point standardizing/normalizing each document prior to SVD --- sklearn's `TfidfVectorizer` normalizes TF-IDF vectors to unit length, by default."
   ]
  },
  {
   "cell_type": "code",
   "execution_count": 100,
   "metadata": {},
   "outputs": [],
   "source": [
    "from sklearn.decomposition import TruncatedSVD"
   ]
  },
  {
   "cell_type": "code",
   "execution_count": 101,
   "metadata": {},
   "outputs": [
    {
     "data": {
      "text/plain": [
       "TruncatedSVD(algorithm='randomized', n_components=1096, n_iter=10,\n",
       "       random_state=None, tol=0.0)"
      ]
     },
     "execution_count": 101,
     "metadata": {},
     "output_type": "execute_result"
    }
   ],
   "source": [
    "LS_dim_large = vec_docs.shape[1]//2 # Set to large number that we don't plan to exceed\n",
    "tsvd = TruncatedSVD(n_components=LS_dim_large, n_iter=10)\n",
    "tsvd.fit(vec_docs)"
   ]
  },
  {
   "cell_type": "code",
   "execution_count": 102,
   "metadata": {},
   "outputs": [
    {
     "data": {
      "text/plain": [
       "Text(0.5, 0, 'Number of Dimensions Kept')"
      ]
     },
     "execution_count": 102,
     "metadata": {},
     "output_type": "execute_result"
    },
    {
     "data": {
      "image/png": "[encoded data removed]",
      "text/plain": [
       "<Figure size 432x288 with 1 Axes>"
      ]
     },
     "metadata": {
      "needs_background": "light"
     },
     "output_type": "display_data"
    }
   ],
   "source": [
    "plt.plot(np.cumsum(tsvd.explained_variance_ratio_) * 100)\n",
    "\n",
    "plt.title(\"Explained Variance as a Function of LD\")\n",
    "plt.ylabel(\"% of Variance Explained\")\n",
    "plt.xlabel(\"Number of Dimensions Kept\")"
   ]
  },
  {
   "cell_type": "code",
   "execution_count": 103,
   "metadata": {},
   "outputs": [],
   "source": [
    "# To ensure interpretable results, keep 250 dimensions only\n",
    "token_lsa = tsvd.components_[:250, :]"
   ]
  },
  {
   "cell_type": "code",
   "execution_count": 104,
   "metadata": {},
   "outputs": [],
   "source": [
    "token_to_index = tfidf_vectorizer.vocabulary_\n",
    "index_to_token = {index:token for token,index in tfidf_vectorizer.vocabulary_.items()}"
   ]
  },
  {
   "cell_type": "code",
   "execution_count": 107,
   "metadata": {},
   "outputs": [
    {
     "name": "stdout",
     "output_type": "stream",
     "text": [
      "['one favorite', 'chow', 'available', 'my husband', 'your order']\n",
      "['add', 'rolls', 'impressed', 'sandwiches', 'slightly']\n",
      "['add', 'daughter', 'dipping', 'place you', 'mac']\n",
      "['add', 'rolls', 'bit', 'lady', 'place so']\n",
      "['add', 'place so', 'slightly', 'place you', 'drive']\n",
      "['slightly', 'frozen', 'daughter', 'rolls', 'mac']\n",
      "['we can', 'not so', 'impressed', 'with your', 'daughter']\n",
      "['rolls', 'any other', 'remember', 'didn get', 'we can']\n",
      "['rolls', 'truffle', 'any other', 'not so', 'bit']\n",
      "['sandwiches', 'rolls', 'came', 'bit', 'we can']\n",
      "['weird', 'truffle', 'slightly', 'impressed', 'the service great']\n",
      "['didn get', 'slightly', 'with your', 'not so', 'dessert']\n",
      "['truffle', 'daughter', 'remember', 'we can', 'sandwiches']\n",
      "['with side', 'remember', 'daughter', 'flavor', 'didn get']\n",
      "['with your', 'complaint', 'didn get', 'came', 'weird']\n",
      "['very well', 'any other', 'came', 'service excellent', 'person']\n",
      "['have some', 'is', 'didn get', 'daughter', 'rolls']\n",
      "['truffle', 'bit', 'mac', 'slightly', 'by time']\n",
      "['daughter', 'came', 'with side', 'any other', 'other than']\n",
      "['person', 'not so', 'mac', 'with side', 'flavor']\n",
      "['lady', 'truffle', 'slightly', 'discount', 'full']\n",
      "['have some', 'complaint', 'hair', 'pretty good', 'pretty']\n",
      "['flavor', 'slightly', 'service great', 'hair', 'except']\n",
      "['have some', 'not so', 'weird', 'any other', 'very well']\n",
      "['with your', 'mac', 'hair', 'the service great', 'is']\n",
      "['variety', 'any other', 'visited', 'waited', 'brought']\n",
      "['by time', 'flavor', 'lady', 'is', 'mac']\n",
      "['person', 'not so', 'by time', 'remember', 'didn get']\n",
      "['slightly', 'is', 'very well', 'any other', 'with side']\n",
      "['person', 'cooked perfection', 'convenient', 'service great', 'they did']\n",
      "['flavor', 'mac', 'any other', 'down', 'place you']\n",
      "['the owner', 'flavor', 'lady', 'staff very friendly', 'multiple']\n",
      "['with your', 'hair', 'reading', 'pretty good', 'guess']\n",
      "['discount', 'very well', 'flavor', 'drive', 'reading']\n",
      "['mac', 'person', 'discount', 'except', 'guess']\n",
      "['remember', 'with your', 'offers', 'daughter', 'the owner']\n",
      "['we can', 'any other', 'station', 'has', 'visited']\n",
      "['offers', 'truffle', 'staff very friendly', 'reading', 'except']\n",
      "['dipping', 'the owner', 'offers', 'least', 'sandwiches']\n",
      "['remember', 'told that', 'point', 'with your', 'really nice']\n",
      "['any other', 'person', 'drive', 'waited', 'dipping']\n",
      "['has', 'reading', 'management', 'happy with', 'slightly']\n",
      "['reading', 'told that', 'together', 'remember', 'brought']\n",
      "['16', 'least', 'seemed like', 'not so', 'has']\n",
      "['any other', 'saw', 'they did', 'they could', 'dipping']\n",
      "['staff very friendly', 'told that', 'management', 'brought', 'we can']\n",
      "['line', 'write', 'guess', 'have ever had', 'truffle']\n",
      "['the owner', 'only', 'guess', 'we back', 'minute']\n",
      "['the owner', 'visited', 'told that', 'star', 'only']\n",
      "['the owner', 'seemed like', 'said', 'line', 'making']\n",
      "['management', 'several', 'the owner', 'reading', 'owners']\n",
      "['good we', 'late night', 'disappointing', 'we back', 'even better']\n",
      "['the owner', 'write', 'has', 'any other', 'reading']\n",
      "['guess', 'management', 'late night', 'even better', 'saw']\n",
      "['several', 'only', 'times', 'brought', 'not disappoint']\n",
      "['discount', 'not disappoint', 'truffle', 'any other', 'told that']\n",
      "['only', 'cooked perfection', 'line', 'several', 'cocktail']\n",
      "['brought', 'said', 'owners', 'cocktail', 'well the']\n",
      "['seemed like', 'lady', '16', 'only', 'the service great']\n",
      "['cocktail', 'frozen', 'said', 'owners', 'service great']\n",
      "['only', 'staff very friendly', 'least', 'the owner', 'said']\n",
      "['write', 'only', '16', 'said', 'the service great']\n",
      "['late night', 'only', 'line', 'well the', 'disappointed']\n",
      "['several', 'write', 'great the', 'disappointed', 'disappoint']\n",
      "['line', 'making', 'said', 'late night', 'only']\n",
      "['cocktail', 'not disappoint', 'well the', 'staff very friendly', 'cannot']\n",
      "['service amazing', 'have ever had', 'seemed like', 'management', 'started']\n",
      "['16', 'late night', 'service amazing', 'cocktail', 'work']\n",
      "['owners', 'off', 'place you', 'cooked perfection', 'late night']\n",
      "['not disappoint', 'write', 'only', 'the owner', 'seemed like']\n",
      "['seemed like', 'cannot', 'write', 'attentive', 'about it']\n",
      "['cocktail', 'year', 'chefs', 'off', 'super friendly']\n",
      "['we tried', 'asking', 'the service great', 'we back', 'have ever had']\n",
      "['have ever had', 'station', 'well the', '30 minutes', 'guess']\n",
      "['off', 'attentive', 'tasteless', 'mention', 'sometimes']\n",
      "['must have', 'not disappoint', '16', 'all you', 'even better']\n",
      "['service amazing', 'good we', 'so glad', 'so fresh', 'pricing']\n",
      "['asking', 'line', 'least', 'even better', 'full']\n",
      "['minute', 'omg', 'mention', 'off', 'like']\n",
      "['making', 'said', 'service amazing', 'the service great', 'we back']\n",
      "['mall', 'making', 'seemed like', 'cannot', 'down']\n",
      "['good we', 'off', 'have some', 'may', 'work']\n",
      "['try place', 'star', 'asking', 'year', 'early']\n",
      "['like', 'off', 'not disappoint', 'late night', 'asking']\n",
      "['well the', 'very clean', 'early', 'multiple', 'carne asada']\n",
      "['pricing', 'asking', 'spicy', 'carne asada', 'several']\n",
      "['down', 'very clean', 'full', 'try place', 'guess']\n",
      "['we tried', 'like', 'hoping', 'good we', 'everyone']\n",
      "['highly recommend', 'station', 'down', 'chefs', 'good we']\n",
      "['hoping', 'we can', 'all you', 'highly recommend', 'we back']\n",
      "['off', 'star', 'highly recommend', 'must have', 'even better']\n",
      "['we can', 'spicy', 'seemed like', 'super friendly', 'tasteless']\n",
      "['steakhouse', 'mall', 'carne asada', 'must have', 'really']\n",
      "['highly recommend', 'pricing', 'minute', 'star', 'cannot']\n",
      "['hoping', 'carne asada', 'off', 'multiple', 'mention']\n",
      "['full', 'carne asada', 'highly recommend', '16', 'know what']\n",
      "['what we', 'cannot', 'attentive', 'off', 'mall']\n",
      "['highly recommend', 'awhile', 'minute', 'mashed', 'spicy']\n",
      "['good we', 'spicy', 'sometimes', 'needed', '16']\n",
      "['omg', 'attentive', 'star', 'mashed', 'mall']\n",
      "['very clean', 'came back', 'weird', 'high', 'awhile']\n",
      "['very clean', 'eat again', 'fairly', 'steakhouse', 'off']\n",
      "['eat again', 'hoping', 'off', 'very well', 'very clean']\n",
      "['even better', 'feel', 'super friendly', 'omg', 'head']\n",
      "['carne asada', 'year', 'sometimes', 'like', 'not disappoint']\n",
      "['steakhouse', 'go wrong', 'off', 'omg', 'the best']\n",
      "['fairly', 'spicy', 'carne asada', 'tasteless', 'must have']\n",
      "['you know', 'cannot', 'attentive', 'go wrong', 'off']\n",
      "['star', 'late night', 'awhile', 'honey', 'service excellent']\n",
      "['mashed', 'several', 'pricing', 'even better', 'rich']\n",
      "['go wrong', 'came back', 'name', 'high', 'they didn']\n",
      "['some other', 'attentive', 'head', 'carne asada', 'cannot']\n",
      "['omg', 'sometimes', 'tasteless', 'even better', 'service great']\n",
      "['good food', 'head', 'attentive', 'year', 'many times']\n",
      "['food you', 'feel', 'we back', 'try place', 'everyone']\n",
      "['vegas', 'lasagna', 'may', 'parmesan', 'must have']\n",
      "['feel', 'lasagna', 'work', 'star', 'food you']\n",
      "['pricing', 'may', 'omg', 'hidden', 'many times']\n",
      "['spicy', 'feel', 'some other', 'we wanted', 'good we']\n",
      "['go wrong', 'head', 'high', 'asking', 'many times']\n",
      "['feel', 'really', 'attentive', 'coming', 'like']\n",
      "['food you', 'very well', 'head', 'feel', 'down']\n",
      "['many times', 'kids', 'it not', 'really', 'manager']\n",
      "['must have', 'kids', 'awhile', 'like', 'the best']\n",
      "['feel', 'needed', 'high', 'highly recommend', 'what we']\n",
      "['omg', 'honey', 'pricing', 'it not', 'good food']\n",
      "['steakhouse', 'food you', 'good food', 'not like', 'friendly']\n",
      "['you know', 'aria', 'high', 'looked like', 'pricing']\n",
      "['tacos', 'feel', 'middle', 'may', 'some other']\n",
      "['really', 'they didn', 'like', 'experience', 'feel']\n",
      "['not like', 'good food', 'aria', 'they didn', 'started']\n",
      "['not like', 'size', 'high', 'work', 'what we']\n",
      "['except', 'sometimes', 'that can', 'name', 'tacos']\n",
      "['head', 'it not', 'food you', 'kids', 'what we']\n",
      "['head', 'it not', 'must have', 'service great', 'tempura']\n",
      "['the decor', 'head', 'normal', 'steakhouse', 'the chicken']\n",
      "['what we', 'show', 'high', 'that place', 'super friendly']\n",
      "['empty', 'coming', 'head', 'work', 'dessert']\n",
      "['coming', 'all you', 'middle', 'work', 'service great']\n",
      "['aria', 'decide', 'off', 'down', 'expected']\n",
      "['high', 'great', 'go wrong', 'parmesan', 'lived']\n",
      "['high', 'needed', 'not like', 'avoid', 'food you']\n",
      "['it not', 'de', 'the decor', 'show', 'hidden']\n",
      "['very reasonable', 'that can', 'food you', 'discount', 'aria']\n",
      "['even better', 'visited', 'so far', 'experience', 'parmesan']\n",
      "['decide', 'normal', 'lasagna', 'not like', 'tacos']\n",
      "['they didn', 'kids', 'took our', 'bottomless', 'satisfied']\n",
      "['tempura', 'aria', 'middle', 'needed', 'service excellent']\n",
      "['right away', 'app', 'we wanted', 'we had', 'didn get']\n",
      "['not like', 'sweet', 'normal', 'fairly', 'empty']\n",
      "['with family', 'high', 'that can', 'sorry', 'must have']\n",
      "['we ll', 'lasagna', 'satisfied', 'middle', 'polite']\n",
      "['took our', 'visited', 'needed', 'middle', 'fairly']\n",
      "['expected', 'service excellent', 'break', 'right away', 'sorry']\n",
      "['oil', 'that can', 'we wanted', 'attentive', 'they didn']\n",
      "['with family', 'normal', 'break', 'bottomless', 'quality food']\n",
      "['with family', 'not like', 'experience', 'oil', 'very reasonable']\n",
      "['took our', 'with family', 'aria', 'we had', 'even better']\n",
      "['we had', 'break', 'great', 'satisfied', 'tried']\n",
      "['empty', 'avoid', 'we had', 'normal', 'food you']\n",
      "['took our', 'experience', 'app', 'we wanted', 'decide']\n",
      "['dog', 'polite', 'avoid', 'good we', 'very reasonable']\n",
      "['don like', 'you know', 'with family', 'tomatoes', 'it not']\n",
      "['polite', 'avoid', 'with family', 'awhile', 'seating']\n",
      "['dessert', 'don like', 'middle', 'with family', 'lasagna']\n",
      "['expected', 'took our', 'we had', 'we wanted', 'parmesan']\n",
      "['decide', 'parmesan', 'we wanted', 'they didn', 'polite']\n",
      "['so far', 'next day', 'satisfied', 'experience', 'service excellent']\n",
      "['with family', 'sorry', 'dog', 'mall', 'good service']\n",
      "['the best', 'polite', 'may', 'boy', 'that can']\n",
      "['decide', 'empty', 'location', 'we ll', 'tomatoes']\n",
      "['dog', 'satisfied', 'drink', 'hair', 'they didn']\n",
      "['with family', 'decide', 'lived', 'platter', 'dog']\n",
      "['tomatoes', 'experience', 'coming', 'great food great', 'empty']\n",
      "['decide', 'parmesan', 'they didn', 'we had', 'sweet']\n",
      "['it not', 'go wrong', 'thank', 'yelp', 'classic']\n",
      "['tried', 'avoid', 'that can', 'having', 'oil']\n",
      "['with family', 'de', 'chips salsa', 'chinese', 'we back']\n",
      "['de', 'that can', 'floor', 'tried', 'very reasonable']\n",
      "['go wrong', 'came back', 'everyone', 'obviously', 'drink']\n",
      "['decide', 'tomatoes', 'classic', 'somewhere', 'parmesan']\n",
      "['anything', 'very reasonable', 'great food great', 'polite', 'it good']\n",
      "['tomatoes', 'bites', 'we had', 'bottomless', 'parmesan']\n",
      "['chinese', 'platter', 'it not', 'go wrong', 'empty']\n",
      "['platter', 'classic', 'thin', 'medium rare', 'expected']\n",
      "['having', 'sweet', 'decide', 'name', 'drink']\n",
      "['yelp', 'appetizer', 'extremely', 'name', 'de']\n",
      "['thin', 'chinese', 'don like', 'oil', 'anything']\n",
      "['great food great', 'so', 'chinese', 'tried', 'hair']\n",
      "['appetizer', 'having', 'chinese', 'tomatoes', 'we tried']\n",
      "['having', 'somewhere', 'thank', 'kitchen', 'so']\n",
      "['tomatoes', 'menu items', 'de', 'decide', 'app']\n",
      "['having', 'great food great', 'thank', 'tomatoes', 'sorry']\n",
      "['sweet', 'right away', 'having', 'chips salsa', 'don like']\n",
      "['menu items', 'chips salsa', 'thin', 'clear', 'tomatoes']\n",
      "['don like', 'lived', 'de', 'great food great', 'chips salsa']\n",
      "['it good', 'extremely', 'so', 'we ordered', 'looked like']\n",
      "['sweet', 'de', 'floor', 'came', 'bites']\n",
      "['we ll', 'you know', 'chefs', 'alcohol', 'we ordered']\n",
      "['chinese', 'everyone', 'buffets', 'yelp', 'change']\n",
      "['de', 'it good', 'these', 'yummy', 'app']\n",
      "['somewhere', 'gluten', 'drink', 'business', 'bites']\n",
      "['bites', 'having', 'yummy', 'so', 'paper']\n",
      "['kitchen', 'we go', 'polite', 'app', 'right away']\n",
      "['so', 'right away', 'buffets', 'anything', 'de']\n",
      "['floor', 'somewhere', 'yelp', 'decide', 'cocktail']\n",
      "['so far', 'sandwich', 'the food good', 'entrees', 'drink']\n",
      "['we ordered', 'drink', 'it good', 'gluten', 'sized']\n",
      "['floor', 'it good', 'what', 'alcohol', 'chips salsa']\n",
      "['so', 'drink', 'very reasonable', 'appreciated', 'great atmosphere']\n",
      "['so', 'coming', 'paper', 'also had', 'yummy']\n",
      "['we', 'entrees', 'got', 'they only', 'everyone']\n",
      "['they only', 'we ordered', 'bites', 'you do', 'option']\n",
      "['also had', 'business', 'chips salsa', 'shared', 'so']\n",
      "['also had', 'very fresh', 'waiters', 'there', 'break']\n",
      "['it good', 'somewhere', 'yummy', 'entrees', 'anything']\n",
      "['10', 'gluten', 'we go', 'somewhere', 'floor']\n",
      "['so far', 'visits', 'potato', 'sweet', 'food very']\n",
      "['stop by', 'served with', 'great atmosphere', 'visits', 'floor']\n",
      "['floor', 'buffets', 'shared', 'serving', 'visits']\n",
      "['waiters', 'these', 'stop by', 'also had', 'great the']\n",
      "['came with', 'this first', 'food very', 'banana', 'satisfied']\n",
      "['bone', 'great atmosphere', 'this first', 'location', 'floor']\n",
      "['buffets', 'yelp', 'stop by', 'also had', 'original']\n",
      "['change', '10', 'sized', 'rich', 'stop by']\n",
      "['change', 'de', 'original', 'so', 'decent']\n",
      "['so far', 'very fresh', 'early', 'bone', 'waiters']\n",
      "['great atmosphere', 'great the', 'oil', 'served with', 'tender']\n",
      "['potato', 'dough', 'also had', 'these', 'served with']\n",
      "['you do', 'very fresh', '10', 'yelp', 'location']\n",
      "['great atmosphere', 'it good', 'serving', 'tender', 'hidden gem']\n",
      "['rich', 'food very', 'very fresh', 'so far', 'sized']\n",
      "['very fresh', 'came with', '10', 'bone', 'appreciated']\n",
      "['warm', 'entrees', '10', 'floor', 'the food good']\n",
      "['stop by', 'this first', 'the food good', 'down', 'early']\n",
      "['paper', '10', 'we', 'buffets', 'we go']\n",
      "['change', 'gluten', 'buffets', 'obviously', 'so']\n",
      "['paper', 'great atmosphere', 'next time', 'our waiter', 'waiters']\n",
      "['warm', 'paper', 'stop by', 'also had', 'clear']\n",
      "['drinks', 'so it', 'paper', 'change', 'somewhere']\n",
      "['our waiter', 'offers', 'yummy', 'bone', 'everyone']\n",
      "['weren', 'paper', 'entrees', 'with family', 'table']\n",
      "['paper', 'buffets', 'our waiter', 'offers', 'visits']\n",
      "['very fresh', 'lettuce', 'tomato', 'what', 'decided']\n",
      "['we', 'size', 'don have', 'very fresh', 'so far']\n",
      "['simple', 'very fresh', 'stop by', 'gem', 'others']\n",
      "['very fresh', 'weren', 'everyone', 'quality food', 'afternoon']\n",
      "['entrees', 'waiters', 'change', 'none', 'boy']\n",
      "['quality food', 'we', 'tried', 'boy', 'so far']\n",
      "['table', 'kids', 'others', 'friendly', 'where you']\n"
     ]
    }
   ],
   "source": [
    "for topic in range(250):\n",
    "    print( [index_to_token[ix] for ix in np.argsort( token_lsa[topic, :][::-1] )][:5]  )"
   ]
  },
  {
   "cell_type": "code",
   "execution_count": 93,
   "metadata": {},
   "outputs": [
    {
     "name": "stdout",
     "output_type": "stream",
     "text": [
      "10 296.4213055429011\n",
      "110 251.90803292602382\n",
      "210 222.5610105826105\n",
      "310 197.9517407478759\n",
      "410 175.7483324204837\n",
      "510 155.1288372133615\n",
      "610 135.1946286411709\n",
      "710 115.05154543506755\n",
      "810 94.13658720660624\n",
      "910 71.20454260941115\n",
      "1010 43.79129438135375\n"
     ]
    }
   ],
   "source": [
    "dims_to_try = range(10, vec_docs.shape[1], 100)\n",
    "err = []\n",
    "\n",
    "for D in dims_to_try:\n",
    "    \n",
    "    tsvd = TruncatedSVD(n_components=D, n_iter=10)\n",
    "    vec_docs_svd = tsvd.fit_transform(vec_docs)\n",
    "    vec_docs_recovered = tsvd.inverse_transform(vec_docs_svd)\n",
    "    \n",
    "    # RMSE error\n",
    "    mse = np.mean( np.sum( np.square(vec_docs_recovered - vec_docs) ) )\n",
    "    rmse = np.sqrt(mse)\n",
    "    \n",
    "    print(D, rmse)\n",
    "    err.append(rmse)"
   ]
  },
  {
   "cell_type": "code",
   "execution_count": 88,
   "metadata": {},
   "outputs": [
    {
     "data": {
      "text/plain": [
       "array([[ 0.00502094,  0.0213972 ,  0.01079536, ...,  0.00078716,\n",
       "         0.00255467, -0.00162265],\n",
       "       [ 0.0001322 ,  0.01211246,  0.0057581 , ...,  0.00149539,\n",
       "        -0.00072408,  0.00436658],\n",
       "       [ 0.00267275, -0.00158494, -0.00353813, ...,  0.00307275,\n",
       "         0.00096718,  0.00348141],\n",
       "       ...,\n",
       "       [ 0.00213505,  0.03330661,  0.0145762 , ...,  0.00166899,\n",
       "         0.00829869,  0.00868727],\n",
       "       [ 0.00219832,  0.0239622 ,  0.00405535, ...,  0.00405004,\n",
       "         0.01472862,  0.00519752],\n",
       "       [ 0.00069028,  0.03208281,  0.01155056, ..., -0.00041735,\n",
       "         0.01743496,  0.0072857 ]])"
      ]
     },
     "execution_count": 88,
     "metadata": {},
     "output_type": "execute_result"
    }
   ],
   "source": [
    "vec_docs_recovered"
   ]
  },
  {
   "cell_type": "code",
   "execution_count": 78,
   "metadata": {},
   "outputs": [],
   "source": [
    "tsvd = TruncatedSVD(n_components=20, n_iter=10)\n",
    "vec_docs_svd = tsvd.fit_transform(vec_docs)"
   ]
  },
  {
   "cell_type": "code",
   "execution_count": null,
   "metadata": {},
   "outputs": [],
   "source": [
    "tsvd."
   ]
  },
  {
   "cell_type": "code",
   "execution_count": 79,
   "metadata": {},
   "outputs": [
    {
     "data": {
      "text/plain": [
       "0.11565606838499905"
      ]
     },
     "execution_count": 79,
     "metadata": {},
     "output_type": "execute_result"
    }
   ],
   "source": [
    "tsvd.explained_variance_ratio_.sum()"
   ]
  },
  {
   "cell_type": "code",
   "execution_count": 69,
   "metadata": {},
   "outputs": [
    {
     "data": {
      "text/plain": [
       "array([[ 1.30382752e-01,  3.51550727e-03, -7.36547631e-02,\n",
       "        -1.79300639e-02,  4.03683105e-01, -2.52157109e-02,\n",
       "         6.12411604e-02, -2.05628273e-02,  4.73207333e-02,\n",
       "         2.03202908e-02, -3.82416197e-02, -5.21361554e-03,\n",
       "         1.57888363e-02,  6.28170925e-02,  7.89977705e-03],\n",
       "       [ 2.01427316e-01, -1.22464578e-01,  6.59113690e-02,\n",
       "        -9.80687422e-02,  1.06927416e-02, -1.64259581e-01,\n",
       "         8.46201826e-02,  5.58418959e-02, -5.09567135e-02,\n",
       "         2.98604904e-02,  7.53993624e-02,  1.01131883e-01,\n",
       "         6.42969340e-02, -1.21416831e-02,  1.01418748e-01],\n",
       "       [ 2.78987824e-01, -2.05703063e-02, -8.49212505e-02,\n",
       "         5.27413718e-02,  1.79902172e-01, -9.40942090e-02,\n",
       "        -1.32631401e-02, -4.04166262e-02, -1.17055991e-02,\n",
       "        -4.36944771e-03, -6.13500205e-03,  7.12026831e-03,\n",
       "         1.99692935e-02, -2.96145192e-05, -3.98965112e-03],\n",
       "       [ 1.77524963e-01,  6.30234208e-03, -8.57806440e-02,\n",
       "        -2.34532187e-02,  4.35868544e-01, -5.24198687e-03,\n",
       "         3.56788633e-02, -1.90903078e-02,  4.52316408e-02,\n",
       "         4.58744822e-02, -4.52903756e-02, -3.14561089e-02,\n",
       "         2.95767702e-02,  6.72199933e-02, -2.70682331e-02],\n",
       "       [ 2.34003306e-01,  6.94557716e-02,  1.20196327e-02,\n",
       "        -6.73532165e-02,  2.60465071e-01, -2.61227730e-02,\n",
       "        -5.02906714e-02,  1.27344757e-01, -6.47690997e-02,\n",
       "        -1.89440881e-02, -1.87996500e-01,  1.90913000e-02,\n",
       "        -6.13969269e-03, -2.33539070e-02,  1.08357810e-01],\n",
       "       [ 1.76767034e-01, -4.63788787e-02, -1.89564781e-02,\n",
       "        -9.43883511e-03,  4.50465882e-01, -2.38403671e-02,\n",
       "         9.56099978e-02, -3.59628344e-02,  8.06292843e-02,\n",
       "        -2.30533197e-02, -5.97640572e-02,  3.85496933e-02,\n",
       "        -2.37674587e-02,  1.32167888e-02,  9.55072110e-02],\n",
       "       [ 2.37523581e-01, -7.17766319e-02, -1.64671522e-01,\n",
       "        -1.02844196e-01,  3.44851424e-01, -4.13799344e-02,\n",
       "         1.82305210e-02,  7.23632240e-02,  1.32937494e-02,\n",
       "        -6.05653120e-03, -9.02400306e-02,  8.11234220e-04,\n",
       "        -6.28669336e-02, -1.93098251e-02,  1.30602753e-01],\n",
       "       [ 2.85298486e-01, -5.63420316e-03, -1.88811321e-01,\n",
       "        -1.49951936e-01,  3.85168564e-01, -6.32015568e-02,\n",
       "         1.53086077e-01,  1.40294176e-02,  4.98464576e-02,\n",
       "         3.74295109e-02, -9.98433085e-02,  6.17850133e-02,\n",
       "         3.37801245e-02,  9.35761407e-02,  2.52881715e-02],\n",
       "       [ 3.67218505e-01, -6.26020189e-03, -2.34879138e-01,\n",
       "        -1.12880849e-01,  6.03825395e-02, -9.21851967e-02,\n",
       "         5.34052243e-02, -5.75573298e-02, -3.99603227e-03,\n",
       "         6.52125380e-02, -5.25513069e-02,  1.02036823e-01,\n",
       "         1.31804365e-03, -3.41025127e-02, -1.96864079e-02],\n",
       "       [ 2.67113026e-01, -4.49284992e-02, -1.77199236e-01,\n",
       "        -1.23618326e-01,  2.19179707e-01, -1.36057237e-01,\n",
       "         6.16608413e-02, -5.44056484e-02,  1.01346112e-03,\n",
       "         1.09213320e-02,  1.89288404e-02,  1.55280667e-02,\n",
       "         4.60007871e-02,  1.79740503e-02,  2.46965643e-02]])"
      ]
     },
     "execution_count": 69,
     "metadata": {},
     "output_type": "execute_result"
    }
   ],
   "source": [
    "vec_docs_svd[:10, :]"
   ]
  },
  {
   "cell_type": "code",
   "execution_count": null,
   "metadata": {},
   "outputs": [],
   "source": []
  }
 ],
 "metadata": {
  "kernelspec": {
   "display_name": "Python 3",
   "language": "python",
   "name": "python3"
  },
  "language_info": {
   "codemirror_mode": {
    "name": "ipython",
    "version": 3
   },
   "file_extension": ".py",
   "mimetype": "text/x-python",
   "name": "python",
   "nbconvert_exporter": "python",
   "pygments_lexer": "ipython3",
   "version": "3.6.8"
  }
 },
 "nbformat": 4,
 "nbformat_minor": 2
}
