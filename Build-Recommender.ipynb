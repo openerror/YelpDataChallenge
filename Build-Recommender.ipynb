{
 "cells": [
  {
   "cell_type": "markdown",
   "metadata": {},
   "source": [
    "# Yelp Data Challenge - Restaurant Recommender\n",
    "\n",
    "A recommender system is the crux of many data-driven businesses, such as Youtube, Facebook and of course Yelp. Here we will attempt to build a simple system recommending restaurants in Las Vegas. "
   ]
  },
  {
   "cell_type": "code",
   "execution_count": 1,
   "metadata": {
    "collapsed": true
   },
   "outputs": [],
   "source": [
    "import pandas as pd\n",
    "import numpy as np\n",
    "import matplotlib.pyplot as plt\n",
    "%matplotlib inline\n",
    "plt.style.use(\"ggplot\")"
   ]
  },
  {
   "cell_type": "code",
   "execution_count": 2,
   "metadata": {
    "collapsed": true
   },
   "outputs": [
    {
     "data": {
      "text/html": [
       "<div>\n",
       "<style scoped>\n",
       "    .dataframe tbody tr th:only-of-type {\n",
       "        vertical-align: middle;\n",
       "    }\n",
       "\n",
       "    .dataframe tbody tr th {\n",
       "        vertical-align: top;\n",
       "    }\n",
       "\n",
       "    .dataframe thead th {\n",
       "        text-align: right;\n",
       "    }\n",
       "</style>\n",
       "<table border=\"1\" class=\"dataframe\">\n",
       "  <thead>\n",
       "    <tr style=\"text-align: right;\">\n",
       "      <th></th>\n",
       "      <th>business_id</th>\n",
       "      <th>name</th>\n",
       "      <th>categories</th>\n",
       "      <th>avg_stars</th>\n",
       "      <th>attributes</th>\n",
       "      <th>cool</th>\n",
       "      <th>date</th>\n",
       "      <th>funny</th>\n",
       "      <th>review_id</th>\n",
       "      <th>stars</th>\n",
       "      <th>text</th>\n",
       "      <th>useful</th>\n",
       "      <th>user_id</th>\n",
       "    </tr>\n",
       "  </thead>\n",
       "  <tbody>\n",
       "    <tr>\n",
       "      <th>0</th>\n",
       "      <td>2kWrSFkIes_d2BMg4YrRtA</td>\n",
       "      <td>Pizza Hut</td>\n",
       "      <td>Restaurants, Pizza</td>\n",
       "      <td>2.5</td>\n",
       "      <td>{'Alcohol': 'none', 'Ambience': \"{'romantic': ...</td>\n",
       "      <td>0</td>\n",
       "      <td>2017-04-01</td>\n",
       "      <td>0</td>\n",
       "      <td>Spl0fx_X6bjPASU-zUJQUA</td>\n",
       "      <td>1</td>\n",
       "      <td>Ordered a pizza, the location is literally in ...</td>\n",
       "      <td>1</td>\n",
       "      <td>vZ-eQzpCOrSWfBfU5KUvIA</td>\n",
       "    </tr>\n",
       "    <tr>\n",
       "      <th>1</th>\n",
       "      <td>2kWrSFkIes_d2BMg4YrRtA</td>\n",
       "      <td>Pizza Hut</td>\n",
       "      <td>Restaurants, Pizza</td>\n",
       "      <td>2.5</td>\n",
       "      <td>{'Alcohol': 'none', 'Ambience': \"{'romantic': ...</td>\n",
       "      <td>0</td>\n",
       "      <td>2016-11-20</td>\n",
       "      <td>0</td>\n",
       "      <td>2UV-a8pXUdbK0fdurFwXfQ</td>\n",
       "      <td>5</td>\n",
       "      <td>Very busy place but they take good care of you...</td>\n",
       "      <td>0</td>\n",
       "      <td>nu6wU6PLbL9HPLZuqon0-A</td>\n",
       "    </tr>\n",
       "    <tr>\n",
       "      <th>2</th>\n",
       "      <td>2kWrSFkIes_d2BMg4YrRtA</td>\n",
       "      <td>Pizza Hut</td>\n",
       "      <td>Restaurants, Pizza</td>\n",
       "      <td>2.5</td>\n",
       "      <td>{'Alcohol': 'none', 'Ambience': \"{'romantic': ...</td>\n",
       "      <td>0</td>\n",
       "      <td>2018-03-27</td>\n",
       "      <td>0</td>\n",
       "      <td>vG5m3TzOf5F52jzO2D_19g</td>\n",
       "      <td>3</td>\n",
       "      <td>Stopped here to pick up an order of wings on m...</td>\n",
       "      <td>0</td>\n",
       "      <td>KEerqlFNhzl1I-yVK6mHVA</td>\n",
       "    </tr>\n",
       "  </tbody>\n",
       "</table>\n",
       "</div>"
      ],
      "text/plain": [
       "              business_id       name          categories  avg_stars  \\\n",
       "0  2kWrSFkIes_d2BMg4YrRtA  Pizza Hut  Restaurants, Pizza        2.5   \n",
       "1  2kWrSFkIes_d2BMg4YrRtA  Pizza Hut  Restaurants, Pizza        2.5   \n",
       "2  2kWrSFkIes_d2BMg4YrRtA  Pizza Hut  Restaurants, Pizza        2.5   \n",
       "\n",
       "                                          attributes  cool        date  funny  \\\n",
       "0  {'Alcohol': 'none', 'Ambience': \"{'romantic': ...     0  2017-04-01      0   \n",
       "1  {'Alcohol': 'none', 'Ambience': \"{'romantic': ...     0  2016-11-20      0   \n",
       "2  {'Alcohol': 'none', 'Ambience': \"{'romantic': ...     0  2018-03-27      0   \n",
       "\n",
       "                review_id  stars  \\\n",
       "0  Spl0fx_X6bjPASU-zUJQUA      1   \n",
       "1  2UV-a8pXUdbK0fdurFwXfQ      5   \n",
       "2  vG5m3TzOf5F52jzO2D_19g      3   \n",
       "\n",
       "                                                text  useful  \\\n",
       "0  Ordered a pizza, the location is literally in ...       1   \n",
       "1  Very busy place but they take good care of you...       0   \n",
       "2  Stopped here to pick up an order of wings on m...       0   \n",
       "\n",
       "                  user_id  \n",
       "0  vZ-eQzpCOrSWfBfU5KUvIA  \n",
       "1  nu6wU6PLbL9HPLZuqon0-A  \n",
       "2  KEerqlFNhzl1I-yVK6mHVA  "
      ]
     },
     "execution_count": 2,
     "metadata": {},
     "output_type": "execute_result"
    }
   ],
   "source": [
    "df = pd.read_csv('data/last_2_years_restaurant_reviews.csv')\n",
    "df.head(3)"
   ]
  },
  {
   "cell_type": "markdown",
   "metadata": {},
   "source": [
    "## 1) Build two versions of the utility matrix, and compare recommender performance\n",
    "\n",
    "1. Vanilla version: use *only* the explicit star rating of each review\n",
    "2. Explicit star rating, weighted by the number of 'useful' tags of each review. If review receives receives more than [ threshold ] useful tags, depress or increase rating by 0.5."
   ]
  },
  {
   "cell_type": "markdown",
   "metadata": {},
   "source": [
    "### First, collect all relevant data into one place"
   ]
  },
  {
   "cell_type": "code",
   "execution_count": 3,
   "metadata": {},
   "outputs": [],
   "source": [
    "# Get business_id, user_id, stars, useful for recommender\n",
    "# Getting name and categories as well, for verifying recommender later\n",
    "df_recommender = df.loc[:, [\"business_id\", \"user_id\", \"stars\", \"name\", \"categories\", 'useful']]"
   ]
  },
  {
   "cell_type": "code",
   "execution_count": 4,
   "metadata": {},
   "outputs": [
    {
     "data": {
      "text/plain": [
       "business_id    0\n",
       "user_id        0\n",
       "stars          0\n",
       "name           0\n",
       "categories     0\n",
       "useful         0\n",
       "dtype: int64"
      ]
     },
     "execution_count": 4,
     "metadata": {},
     "output_type": "execute_result"
    }
   ],
   "source": [
    "# Confirm there are no NAs\n",
    "pd.DataFrame.sum(df_recommender.isna())"
   ]
  },
  {
   "cell_type": "code",
   "execution_count": 5,
   "metadata": {},
   "outputs": [
    {
     "data": {
      "text/plain": [
       "<matplotlib.axes._subplots.AxesSubplot at 0x1217749e8>"
      ]
     },
     "execution_count": 5,
     "metadata": {},
     "output_type": "execute_result"
    },
    {
     "data": {
      "image/png": "[encoded data removed]",
      "text/plain": [
       "<Figure size 432x288 with 1 Axes>"
      ]
     },
     "metadata": {
      "needs_background": "light"
     },
     "output_type": "display_data"
    }
   ],
   "source": [
    "# Visualize the number of 'useful' tags per review\n",
    "# The vast majority of reviews received less than 2 \n",
    "plt.xlabel(\"Number of Useful Tags\")\n",
    "plt.ylabel(\"Number of Reviews\")\n",
    "plt.title(\"Distribution of Useful Tags Among Reviews\")\n",
    "df.useful.hist(bins=range(10))"
   ]
  },
  {
   "cell_type": "code",
   "execution_count": 6,
   "metadata": {},
   "outputs": [
    {
     "name": "stdout",
     "output_type": "stream",
     "text": [
      "101569\n",
      "14692\n"
     ]
    }
   ],
   "source": [
    "# Total number of reviews\n",
    "print( df_recommender.shape[0] )\n",
    "\n",
    "# Confirming: number of reviews with 2 tags or more: ~10-15%. A minority.\n",
    "print( (df_recommender.useful >= 2).sum() )"
   ]
  },
  {
   "cell_type": "code",
   "execution_count": 7,
   "metadata": {},
   "outputs": [],
   "source": [
    "# Engineer new feature: weighted_stars\n",
    "def construct_weighted_stars(row, threshold):\n",
    "    ''' \n",
    "        row: Pandas Series containing each row of data\n",
    "        threshold: the number of useful tags required for executing the weighting \n",
    "    '''\n",
    "    \n",
    "    if row.useful >= threshold:\n",
    "        star = row.stars\n",
    "        useful = row.useful\n",
    "    \n",
    "        if star > 3:\n",
    "            return (star + 0.5)\n",
    "        elif star == 3:\n",
    "            return star\n",
    "        else:\n",
    "            return (star - 0.5)\n",
    "    else:\n",
    "        return row.stars\n",
    "        \n",
    "weighted_stars = df_recommender.apply(construct_weighted_stars, args=(2,), axis=1)\n",
    "df_recommender['weighted_stars'] = weighted_stars"
   ]
  },
  {
   "cell_type": "code",
   "execution_count": 8,
   "metadata": {},
   "outputs": [
    {
     "data": {
      "text/html": [
       "<div>\n",
       "<style scoped>\n",
       "    .dataframe tbody tr th:only-of-type {\n",
       "        vertical-align: middle;\n",
       "    }\n",
       "\n",
       "    .dataframe tbody tr th {\n",
       "        vertical-align: top;\n",
       "    }\n",
       "\n",
       "    .dataframe thead th {\n",
       "        text-align: right;\n",
       "    }\n",
       "</style>\n",
       "<table border=\"1\" class=\"dataframe\">\n",
       "  <thead>\n",
       "    <tr style=\"text-align: right;\">\n",
       "      <th></th>\n",
       "      <th>useful</th>\n",
       "      <th>stars</th>\n",
       "      <th>weighted_stars</th>\n",
       "    </tr>\n",
       "  </thead>\n",
       "  <tbody>\n",
       "    <tr>\n",
       "      <th>0</th>\n",
       "      <td>1</td>\n",
       "      <td>1</td>\n",
       "      <td>1.0</td>\n",
       "    </tr>\n",
       "    <tr>\n",
       "      <th>1</th>\n",
       "      <td>0</td>\n",
       "      <td>5</td>\n",
       "      <td>5.0</td>\n",
       "    </tr>\n",
       "    <tr>\n",
       "      <th>2</th>\n",
       "      <td>0</td>\n",
       "      <td>3</td>\n",
       "      <td>3.0</td>\n",
       "    </tr>\n",
       "    <tr>\n",
       "      <th>3</th>\n",
       "      <td>2</td>\n",
       "      <td>1</td>\n",
       "      <td>0.5</td>\n",
       "    </tr>\n",
       "    <tr>\n",
       "      <th>4</th>\n",
       "      <td>0</td>\n",
       "      <td>1</td>\n",
       "      <td>1.0</td>\n",
       "    </tr>\n",
       "  </tbody>\n",
       "</table>\n",
       "</div>"
      ],
      "text/plain": [
       "   useful  stars  weighted_stars\n",
       "0       1      1             1.0\n",
       "1       0      5             5.0\n",
       "2       0      3             3.0\n",
       "3       2      1             0.5\n",
       "4       0      1             1.0"
      ]
     },
     "execution_count": 8,
     "metadata": {},
     "output_type": "execute_result"
    }
   ],
   "source": [
    "# Verify results\n",
    "df_recommender.loc[:, ['useful', 'stars', 'weighted_stars']].head(5)"
   ]
  },
  {
   "cell_type": "markdown",
   "metadata": {},
   "source": [
    "### Exclude users who haven't given many reviews\n",
    "\n",
    "Goal: to avoid pigenholing and poor performance due to *cold starts*. \n",
    "\n",
    "If this were a production system, we could ask new users to specify several types of preferred restaurants, and build an additional, content-based recommendation system based on their responses. That should allow us to work around cold starts."
   ]
  },
  {
   "cell_type": "code",
   "execution_count": 9,
   "metadata": {
    "collapsed": true
   },
   "outputs": [
    {
     "name": "stdout",
     "output_type": "stream",
     "text": [
      "[  1   2   3   4   5   6   7   8   9  10  11  12  13  14  15  16  17  18\n",
      "  19  20  21  22  23  24  25  26  27  29  30  32  34  35  36  45  47  57\n",
      " 113]\n"
     ]
    },
    {
     "data": {
      "image/png": "[encoded data removed]",
      "text/plain": [
       "<Figure size 432x288 with 1 Axes>"
      ]
     },
     "metadata": {
      "needs_background": "light"
     },
     "output_type": "display_data"
    }
   ],
   "source": [
    "# Count the number of occurences of each user_id, and print\n",
    "# Need to see actual distribution to decide cutoff!\n",
    "review_count_by_user = df_recommender['user_id'].value_counts(ascending=True)\n",
    "\n",
    "plt.title(\"Distribution of # of Reviews Among Users\")\n",
    "plt.xlabel(\"Number of Reviews\")\n",
    "plt.ylabel(\"Number of Users\")\n",
    "review_count_by_user.hist(bins=range(0,15))\n",
    "\n",
    "print( review_count_by_user.unique() )"
   ]
  },
  {
   "cell_type": "code",
   "execution_count": 10,
   "metadata": {},
   "outputs": [
    {
     "name": "stdout",
     "output_type": "stream",
     "text": [
      "66828 users out of 69985 have less than 4 reviews\n"
     ]
    }
   ],
   "source": [
    "# Only ~3100 out of 69985 users will get recommendations\n",
    "# Increase any further,\n",
    "threshold = 4\n",
    "few_reviews_mask = (review_count_by_user < threshold)\n",
    "print( \"{} users out of {} have less than {} reviews\".format(few_reviews_mask.sum(), \n",
    "                                                             len(few_reviews_mask),\n",
    "                                                             threshold\n",
    "                                                            ) ) "
   ]
  },
  {
   "cell_type": "code",
   "execution_count": 11,
   "metadata": {},
   "outputs": [],
   "source": [
    "users_with_few_reviews = review_count_by_user[ few_reviews_mask ].index"
   ]
  },
  {
   "cell_type": "code",
   "execution_count": 12,
   "metadata": {},
   "outputs": [
    {
     "name": "stdout",
     "output_type": "stream",
     "text": [
      "(101569, 7)\n",
      "(101569, 6)\n",
      "(20518, 6)\n"
     ]
    }
   ],
   "source": [
    "# Set 'user_id' as index, and drop rows whose index is in users_with_few_reviews\n",
    "print(df_recommender.shape)\n",
    "df_recommender = df_recommender.set_index('user_id')\n",
    "print(df_recommender.shape)\n",
    "df_recommender = df_recommender.drop(index=users_with_few_reviews)\n",
    "print(df_recommender.shape)"
   ]
  },
  {
   "cell_type": "code",
   "execution_count": 13,
   "metadata": {},
   "outputs": [],
   "source": [
    "# Reset index to obtain \"normal\" DF again\n",
    "df_recommender = df_recommender.reset_index()"
   ]
  },
  {
   "cell_type": "code",
   "execution_count": 14,
   "metadata": {},
   "outputs": [
    {
     "data": {
      "text/plain": [
       "07UWbgojyCyyQMIRgplw3Q    4\n",
       "OhEe7BHJHoMDPbDE2aHO9Q    4\n",
       "DVzoOLn-dwXQMV78H8p3XQ    4\n",
       "7cgp0EXG11v-y4F6sDU1hg    4\n",
       "3Hn5PexeY0tir0uFWk4jJg    4\n",
       "Name: user_id, dtype: int64"
      ]
     },
     "execution_count": 14,
     "metadata": {},
     "output_type": "execute_result"
    }
   ],
   "source": [
    "# Verify results: now users have at least [threshold] reviews\n",
    "df_recommender['user_id'].value_counts(ascending=True).head(5)"
   ]
  },
  {
   "cell_type": "code",
   "execution_count": 15,
   "metadata": {},
   "outputs": [
    {
     "data": {
      "text/plain": [
       "(20518, 7)"
      ]
     },
     "execution_count": 15,
     "metadata": {},
     "output_type": "execute_result"
    }
   ],
   "source": [
    "df_recommender.shape"
   ]
  },
  {
   "cell_type": "markdown",
   "metadata": {},
   "source": [
    "#### Create utility matrix from records\n",
    "\n",
    "Here we can use either `stars` or `weighted_stars` as our rating feature. In a production syste, it'd be up to A/B testing to decide which formulation leads to better predictions (recommendations). For instance for each user, we can measure whether he/she actually click on or even visit in person the top `K` recommendations. This can be thought of as binary classification problem, and we can compare the AUCs of the two utility matrix formulations.\n",
    "\n",
    "For this notebook, we will stick with `stars`, and create the utility matrix `U_simple`."
   ]
  },
  {
   "cell_type": "code",
   "execution_count": 16,
   "metadata": {
    "collapsed": true
   },
   "outputs": [],
   "source": [
    "U_simple = pd.pivot_table(data = df_recommender,\n",
    "                          values = 'stars',\n",
    "                          index = 'user_id',\n",
    "                          columns = 'business_id',\n",
    "                          fill_value = 0.0)\n",
    "\n",
    "# U_weighted = pd.pivot_table(data = df_recommender,\n",
    "#                             values = 'weighted_stars',\n",
    "#                             index = 'user_id',\n",
    "#                             columns = 'business_id',\n",
    "#                             fill_value = 0.0)"
   ]
  },
  {
   "cell_type": "markdown",
   "metadata": {},
   "source": [
    "## 2) Build Recommendation Systems\n",
    "\n",
    "### Item-Item Collaborative Filtering"
   ]
  },
  {
   "cell_type": "markdown",
   "metadata": {},
   "source": [
    "Implemented in `Recommender.py`, as the Python class ItemItemRecommender. We will utilize `sample_user` as an example to demonstrate the recommendations, where `sample_user` is an integer index into the rows of the utility matrix."
   ]
  },
  {
   "cell_type": "code",
   "execution_count": 17,
   "metadata": {},
   "outputs": [],
   "source": [
    "from Recommender import ItemItemRecommender"
   ]
  },
  {
   "cell_type": "code",
   "execution_count": 18,
   "metadata": {
    "collapsed": true
   },
   "outputs": [
    {
     "name": "stdout",
     "output_type": "stream",
     "text": [
      "Execution time: 0.019768 seconds\n",
      "[0.         0.         0.         3.54627964 5.         0.\n",
      " 4.         4.         3.99989156 0.         0.         0.\n",
      " 0.         0.         0.         3.49831952 4.28813408 3.42212598\n",
      " 0.         0.         4.41327969 3.67297498 0.         3.\n",
      " 0.         3.82330144 0.         0.         0.         0.\n",
      " 0.         0.         4.44663121 3.         0.         3.\n",
      " 4.         3.56222289 4.         0.         0.         4.\n",
      " 0.         4.         0.         0.         0.         4.14340954\n",
      " 0.         0.        ]\n"
     ]
    },
    {
     "name": "stderr",
     "output_type": "stream",
     "text": [
      "/Volumes/HardDisk/BitTiger-YelpDataChallenge/Recommender.py:38: RuntimeWarning: invalid value encountered in double_scalars\n",
      "  self.item_sim_mat[item_to_rate, relevant_items].sum()\n"
     ]
    }
   ],
   "source": [
    "sample_user = 1100\n",
    "\n",
    "my_rec_engine = ItemItemRecommender(neighborhood_size=75)\n",
    "my_rec_engine.fit(U_simple.values)\n",
    "user_preds = my_rec_engine.pred_one_user(user_id=sample_user, report_run_time=True)\n",
    "\n",
    "# Show predicted ratings for user #0 on first 100 items\n",
    "print(user_preds[:50])"
   ]
  },
  {
   "cell_type": "markdown",
   "metadata": {},
   "source": [
    "### See if the recommendations make any sense at all"
   ]
  },
  {
   "cell_type": "code",
   "execution_count": 19,
   "metadata": {},
   "outputs": [],
   "source": [
    "from Recommender import displayHelper"
   ]
  },
  {
   "cell_type": "code",
   "execution_count": 20,
   "metadata": {},
   "outputs": [
    {
     "data": {
      "text/html": [
       "<div>\n",
       "<style scoped>\n",
       "    .dataframe tbody tr th:only-of-type {\n",
       "        vertical-align: middle;\n",
       "    }\n",
       "\n",
       "    .dataframe tbody tr th {\n",
       "        vertical-align: top;\n",
       "    }\n",
       "\n",
       "    .dataframe thead th {\n",
       "        text-align: right;\n",
       "    }\n",
       "</style>\n",
       "<table border=\"1\" class=\"dataframe\">\n",
       "  <thead>\n",
       "    <tr style=\"text-align: right;\">\n",
       "      <th></th>\n",
       "      <th>name</th>\n",
       "      <th>categories</th>\n",
       "      <th>attributes</th>\n",
       "    </tr>\n",
       "    <tr>\n",
       "      <th>business_id</th>\n",
       "      <th></th>\n",
       "      <th></th>\n",
       "      <th></th>\n",
       "    </tr>\n",
       "  </thead>\n",
       "  <tbody>\n",
       "    <tr>\n",
       "      <th>BbOx9i_kDJBnE9K2hyqBTg</th>\n",
       "      <td>Kahuku Poke and Hawaiian Barbecue</td>\n",
       "      <td>Restaurants, Poke, Specialty Food, Hawaiian, F...</td>\n",
       "      <td>{'Alcohol': 'none', 'Ambience': \"{'romantic': ...</td>\n",
       "    </tr>\n",
       "    <tr>\n",
       "      <th>dKdApYVFDSNYsNOso6NYlA</th>\n",
       "      <td>White Castle</td>\n",
       "      <td>Restaurants, Fast Food, Breakfast &amp; Brunch, Bu...</td>\n",
       "      <td>{'Alcohol': 'beer_and_wine', 'Ambience': \"{'ro...</td>\n",
       "    </tr>\n",
       "    <tr>\n",
       "      <th>Ta4GRuHyZvU5H_l5IAG1PQ</th>\n",
       "      <td>Nanay Gloria</td>\n",
       "      <td>Restaurants, Buffets, Fast Food, Filipino</td>\n",
       "      <td>{'Alcohol': 'none', 'Ambience': \"{'romantic': ...</td>\n",
       "    </tr>\n",
       "    <tr>\n",
       "      <th>t6ZIBNrQjvtwor8W-u3sUg</th>\n",
       "      <td>Chop Chop Wok</td>\n",
       "      <td>Restaurants, Japanese, Chinese</td>\n",
       "      <td>{'Alcohol': 'none', 'Ambience': \"{'romantic': ...</td>\n",
       "    </tr>\n",
       "    <tr>\n",
       "      <th>tIRn9YlrJ4Y5IyHzY72i9A</th>\n",
       "      <td>Subway</td>\n",
       "      <td>Restaurants, Fast Food, Sandwiches</td>\n",
       "      <td>{'Alcohol': 'none', 'Ambience': \"{'romantic': ...</td>\n",
       "    </tr>\n",
       "  </tbody>\n",
       "</table>\n",
       "</div>"
      ],
      "text/plain": [
       "                                                     name  \\\n",
       "business_id                                                 \n",
       "BbOx9i_kDJBnE9K2hyqBTg  Kahuku Poke and Hawaiian Barbecue   \n",
       "dKdApYVFDSNYsNOso6NYlA                       White Castle   \n",
       "Ta4GRuHyZvU5H_l5IAG1PQ                       Nanay Gloria   \n",
       "t6ZIBNrQjvtwor8W-u3sUg                      Chop Chop Wok   \n",
       "tIRn9YlrJ4Y5IyHzY72i9A                             Subway   \n",
       "\n",
       "                                                               categories  \\\n",
       "business_id                                                                 \n",
       "BbOx9i_kDJBnE9K2hyqBTg  Restaurants, Poke, Specialty Food, Hawaiian, F...   \n",
       "dKdApYVFDSNYsNOso6NYlA  Restaurants, Fast Food, Breakfast & Brunch, Bu...   \n",
       "Ta4GRuHyZvU5H_l5IAG1PQ          Restaurants, Buffets, Fast Food, Filipino   \n",
       "t6ZIBNrQjvtwor8W-u3sUg                     Restaurants, Japanese, Chinese   \n",
       "tIRn9YlrJ4Y5IyHzY72i9A                 Restaurants, Fast Food, Sandwiches   \n",
       "\n",
       "                                                               attributes  \n",
       "business_id                                                                \n",
       "BbOx9i_kDJBnE9K2hyqBTg  {'Alcohol': 'none', 'Ambience': \"{'romantic': ...  \n",
       "dKdApYVFDSNYsNOso6NYlA  {'Alcohol': 'beer_and_wine', 'Ambience': \"{'ro...  \n",
       "Ta4GRuHyZvU5H_l5IAG1PQ  {'Alcohol': 'none', 'Ambience': \"{'romantic': ...  \n",
       "t6ZIBNrQjvtwor8W-u3sUg  {'Alcohol': 'none', 'Ambience': \"{'romantic': ...  \n",
       "tIRn9YlrJ4Y5IyHzY72i9A  {'Alcohol': 'none', 'Ambience': \"{'romantic': ...  "
      ]
     },
     "execution_count": 20,
     "metadata": {},
     "output_type": "execute_result"
    }
   ],
   "source": [
    "# Import data describing restaurants in Las Vegas\n",
    "business_info = pd.read_csv(\"data/selected_business.csv\").set_index(\"business_id\")\n",
    "\n",
    "# Obtain business_id's of top N recommended restaurants \n",
    "recommended_restaurants = displayHelper(sample_user, user_preds, U_simple, N=5)\n",
    "\n",
    "# Print top N recommended restaurants\n",
    "business_info.loc[ recommended_restaurants , [\"name\", \"categories\", \"attributes\"]]"
   ]
  },
  {
   "cell_type": "code",
   "execution_count": 21,
   "metadata": {},
   "outputs": [
    {
     "name": "stdout",
     "output_type": "stream",
     "text": [
      "Here are the restaurants reviewed\n"
     ]
    },
    {
     "data": {
      "text/html": [
       "<div>\n",
       "<style scoped>\n",
       "    .dataframe tbody tr th:only-of-type {\n",
       "        vertical-align: middle;\n",
       "    }\n",
       "\n",
       "    .dataframe tbody tr th {\n",
       "        vertical-align: top;\n",
       "    }\n",
       "\n",
       "    .dataframe thead th {\n",
       "        text-align: right;\n",
       "    }\n",
       "</style>\n",
       "<table border=\"1\" class=\"dataframe\">\n",
       "  <thead>\n",
       "    <tr style=\"text-align: right;\">\n",
       "      <th></th>\n",
       "      <th>name</th>\n",
       "      <th>categories</th>\n",
       "      <th>stars</th>\n",
       "    </tr>\n",
       "  </thead>\n",
       "  <tbody>\n",
       "    <tr>\n",
       "      <th>4054</th>\n",
       "      <td>Fausto's Mexican Grill</td>\n",
       "      <td>Restaurants, Breakfast &amp; Brunch, Mexican, Chic...</td>\n",
       "      <td>4</td>\n",
       "    </tr>\n",
       "    <tr>\n",
       "      <th>9211</th>\n",
       "      <td>Sapporo Revolving Sushi</td>\n",
       "      <td>Restaurants, Conveyor Belt Sushi, Seafood, Jap...</td>\n",
       "      <td>4</td>\n",
       "    </tr>\n",
       "    <tr>\n",
       "      <th>11109</th>\n",
       "      <td>Honey Salt</td>\n",
       "      <td>Restaurants, American (New), Cafes</td>\n",
       "      <td>3</td>\n",
       "    </tr>\n",
       "    <tr>\n",
       "      <th>15347</th>\n",
       "      <td>Asian BBQ &amp; Noodle</td>\n",
       "      <td>Restaurants, Chinese, Noodles, Barbeque</td>\n",
       "      <td>5</td>\n",
       "    </tr>\n",
       "  </tbody>\n",
       "</table>\n",
       "</div>"
      ],
      "text/plain": [
       "                          name  \\\n",
       "4054    Fausto's Mexican Grill   \n",
       "9211   Sapporo Revolving Sushi   \n",
       "11109               Honey Salt   \n",
       "15347       Asian BBQ & Noodle   \n",
       "\n",
       "                                              categories  stars  \n",
       "4054   Restaurants, Breakfast & Brunch, Mexican, Chic...      4  \n",
       "9211   Restaurants, Conveyor Belt Sushi, Seafood, Jap...      4  \n",
       "11109                 Restaurants, American (New), Cafes      3  \n",
       "15347            Restaurants, Chinese, Noodles, Barbeque      5  "
      ]
     },
     "execution_count": 21,
     "metadata": {},
     "output_type": "execute_result"
    }
   ],
   "source": [
    "print(\"Here are the restaurants reviewed\")\n",
    "sample_uid = U_simple.index[sample_user]\n",
    "df_recommender.loc[df_recommender[\"user_id\"] == sample_uid, [\"name\", \"categories\", \"stars\"]]"
   ]
  },
  {
   "cell_type": "markdown",
   "metadata": {},
   "source": [
    "### Observations for Item-Item Collaborative Filtering\n",
    "The top 5 recommended restaurants has **some** overlap in categories, e.g. Japanese/sushi, breakfast, with the reviewed restaurants. This makes sense --- after all, users are likely to keep eating the same kind of food that they enjoyed.\n",
    "\n",
    "#### Potential improvement \n",
    "We haven't made use of the detailed attributes of each restaurant; notice how most restaurants reviewed above provide alcohol, but the recommended ones don't. Potentially, we can segment the restaurants according to attributes, build separate recommendation systems for each, and make suggestions based on some finer-grained model of user preference."
   ]
  },
  {
   "cell_type": "markdown",
   "metadata": {},
   "source": [
    "## 3. Matrix Factorization Recommender\n",
    "Non-Negative Matrix Factorization (NMF) has become a popular way to implement recommendation systems in the recent years. Let's try that out.\n",
    "\n",
    "After some research, I am settling on using the [NMF implementation](https://surprise.readthedocs.io/en/stable/matrix_factorization.html#surprise.prediction_algorithms.matrix_factorization.NMF) by [scikit-surprise](http://surpriselib.com/). It possesses a `scikit-learn`-like interface, which makes it easy to use, while providing a wider array of functionalities than its API cousin. In particular, it can take into account item and user biases out-of-the-box! \n",
    "\n",
    "(Imagine how there are users who tend to give harsher ratings than other people. Sometimes it's not that they really dislike an item; rather, it's just that they never give perfect ratings --- 5 in our present case. This is what we meant by (user) bias.)"
   ]
  },
  {
   "cell_type": "code",
   "execution_count": 22,
   "metadata": {},
   "outputs": [],
   "source": [
    "# conda install -c conda-forge scikit-surprise\n",
    "\n",
    "'''\n",
    "    Import routines for scikit-surprise to \n",
    "        1) read data from Pandas DF\n",
    "        2) run cross-validation on NMF model\n",
    "'''\n",
    "\n",
    "from surprise import Dataset\n",
    "from surprise import Reader\n",
    "from surprise import NMF\n",
    "from surprise.model_selection import cross_validate\n",
    "\n",
    "# Extract the useful part of df_recommender\n",
    "ratings = df_recommender.loc[:, [\"user_id\", \"business_id\", \"stars\"]]\n",
    "\n",
    "# Tell scikit-surprise the ratings scale\n",
    "reader = Reader(rating_scale=(1,5))\n",
    "\n",
    "# Form scikit-surprise Dataset object\n",
    "data = Dataset.load_from_df(ratings, reader)"
   ]
  },
  {
   "cell_type": "code",
   "execution_count": 23,
   "metadata": {},
   "outputs": [
    {
     "data": {
      "text/plain": [
       "{'test_rmse': array([1.20284782, 1.20544256, 1.19642603]),\n",
       " 'test_mae': array([0.95603712, 0.968658  , 0.96138739]),\n",
       " 'fit_time': (6.022395849227905, 5.0694379806518555, 4.998738050460815),\n",
       " 'test_time': (0.05304074287414551, 0.05391192436218262, 0.04769086837768555)}"
      ]
     },
     "execution_count": 23,
     "metadata": {},
     "output_type": "execute_result"
    }
   ],
   "source": [
    "# Hand-tuned hyparameters for a bit\n",
    "# When biased=True, had to lower learning rates to obtain reasonable RMSE\n",
    "# Tried a couple of random_state values, confirmed robustness of hyperparameters\n",
    "# RMSE ~ 1.2; in comparison the winner of Netflix challenge achieved 0.9\n",
    "\n",
    "# So our model should be performing alright!\n",
    "\n",
    "cross_validate(NMF(n_factors=50, n_epochs=100, random_state=41 , biased=True,\n",
    "                  lr_bu=0.001, lr_bi=0.001), \n",
    "               data, cv=3)"
   ]
  },
  {
   "cell_type": "markdown",
   "metadata": {},
   "source": [
    "### Examine Sample Recommendations\n",
    "\n",
    "Having found a set of hyperparameters, let's train the NMF model on the entire dataset, and make recommendations for a sample user. We will see that the recommendations are at least reasonable; whether the system works in production would require further A/B testing."
   ]
  },
  {
   "cell_type": "code",
   "execution_count": 24,
   "metadata": {},
   "outputs": [
    {
     "data": {
      "text/plain": [
       "<surprise.prediction_algorithms.matrix_factorization.NMF at 0x12415cdd8>"
      ]
     },
     "execution_count": 24,
     "metadata": {},
     "output_type": "execute_result"
    }
   ],
   "source": [
    "# Fit cross-validated model on entire dataset!\n",
    "cv_model = NMF(n_factors=50, n_epochs=100, random_state=41 , biased=True,\n",
    "               lr_bu=0.001, lr_bi=0.001)\n",
    "\n",
    "cv_model.fit(data.build_full_trainset())"
   ]
  },
  {
   "cell_type": "code",
   "execution_count": 25,
   "metadata": {},
   "outputs": [],
   "source": [
    "# Helper function for\n",
    "\n",
    "def get_top_n(uid, data, model, n=7):\n",
    "    '''\n",
    "        For user denoted by uid, predict ratings of yet-unrated items\n",
    "        Return the top n recommendations\n",
    "        \n",
    "        uid: string user id\n",
    "        data: scikit-surprise DataSet object used to train model\n",
    "        model: trained NMF model\n",
    "        \n",
    "        return: \n",
    "            - item ids (business_id) of items rated (for comparison during debug)\n",
    "            - List containing surprise.Prediction objects\n",
    "    '''\n",
    "    \n",
    "    # Obtain the DataFrame on which data is built\n",
    "    # By assumption of scikit-surprise, 1st col user id, 2nd col item id\n",
    "    # Will use integer indices (0 and 1) instead of col names, to ensure code reuse\n",
    "    df = data.df\n",
    "    \n",
    "    # Form sets of rated and unrated item ids (restaurants)\n",
    "    all_bid = df.iloc[:, 1]\n",
    "    rated_bid = set(all_bid.loc[ df.iloc[:, 0] == uid ])\n",
    "    \n",
    "    all_bid = set(all_bid)\n",
    "    unrated_bid = (all_bid - rated_bid)\n",
    "    \n",
    "    # Generate ratings and sort\n",
    "    single_user_preds = [model.predict(sample_user, bid, verbose=False) \n",
    "                         for bid in unrated_bid\n",
    "                        ]\n",
    "    single_user_preds.sort(key=lambda x: x.est)\n",
    "    \n",
    "    # Return the last n items --- sort gives ascending order!\n",
    "    return single_user_preds[-n:]"
   ]
  },
  {
   "cell_type": "code",
   "execution_count": 26,
   "metadata": {},
   "outputs": [],
   "source": [
    "# sample_user = np.random.choice(df_recommender[\"user_id\"].values, size=1)[0]\n",
    "sample_user = 'GUgo7Dg6-cSh--1VS7XCZQ'\n",
    "single_user_preds = get_top_n(sample_user, data, cv_model, n=10)"
   ]
  },
  {
   "cell_type": "code",
   "execution_count": 27,
   "metadata": {},
   "outputs": [
    {
     "name": "stdout",
     "output_type": "stream",
     "text": [
      "Here are the restaurants reviewed\n"
     ]
    },
    {
     "data": {
      "text/html": [
       "<div>\n",
       "<style scoped>\n",
       "    .dataframe tbody tr th:only-of-type {\n",
       "        vertical-align: middle;\n",
       "    }\n",
       "\n",
       "    .dataframe tbody tr th {\n",
       "        vertical-align: top;\n",
       "    }\n",
       "\n",
       "    .dataframe thead th {\n",
       "        text-align: right;\n",
       "    }\n",
       "</style>\n",
       "<table border=\"1\" class=\"dataframe\">\n",
       "  <thead>\n",
       "    <tr style=\"text-align: right;\">\n",
       "      <th></th>\n",
       "      <th>name</th>\n",
       "      <th>categories</th>\n",
       "      <th>stars</th>\n",
       "    </tr>\n",
       "  </thead>\n",
       "  <tbody>\n",
       "    <tr>\n",
       "      <th>3991</th>\n",
       "      <td>Amano</td>\n",
       "      <td>Restaurants, Pizza, Italian</td>\n",
       "      <td>4</td>\n",
       "    </tr>\n",
       "    <tr>\n",
       "      <th>4146</th>\n",
       "      <td>Sushi-ko</td>\n",
       "      <td>Restaurants, Teppanyaki, Japanese, Sushi Bars</td>\n",
       "      <td>2</td>\n",
       "    </tr>\n",
       "    <tr>\n",
       "      <th>5093</th>\n",
       "      <td>Juan's Flaming Fajitas &amp; Cantina</td>\n",
       "      <td>Restaurants, Bars, Nightlife, Mexican</td>\n",
       "      <td>5</td>\n",
       "    </tr>\n",
       "    <tr>\n",
       "      <th>5494</th>\n",
       "      <td>Grand Pizza</td>\n",
       "      <td>Restaurants, Pizza, Fast Food, Italian</td>\n",
       "      <td>5</td>\n",
       "    </tr>\n",
       "    <tr>\n",
       "      <th>10341</th>\n",
       "      <td>Sushi Bomb</td>\n",
       "      <td>Restaurants, Sushi Bars, Japanese</td>\n",
       "      <td>5</td>\n",
       "    </tr>\n",
       "    <tr>\n",
       "      <th>19707</th>\n",
       "      <td>Bonanno's New York Pizzeria</td>\n",
       "      <td>Restaurants, Pizza</td>\n",
       "      <td>5</td>\n",
       "    </tr>\n",
       "  </tbody>\n",
       "</table>\n",
       "</div>"
      ],
      "text/plain": [
       "                                   name  \\\n",
       "3991                              Amano   \n",
       "4146                           Sushi-ko   \n",
       "5093   Juan's Flaming Fajitas & Cantina   \n",
       "5494                        Grand Pizza   \n",
       "10341                        Sushi Bomb   \n",
       "19707       Bonanno's New York Pizzeria   \n",
       "\n",
       "                                          categories  stars  \n",
       "3991                     Restaurants, Pizza, Italian      4  \n",
       "4146   Restaurants, Teppanyaki, Japanese, Sushi Bars      2  \n",
       "5093           Restaurants, Bars, Nightlife, Mexican      5  \n",
       "5494          Restaurants, Pizza, Fast Food, Italian      5  \n",
       "10341              Restaurants, Sushi Bars, Japanese      5  \n",
       "19707                             Restaurants, Pizza      5  "
      ]
     },
     "execution_count": 27,
     "metadata": {},
     "output_type": "execute_result"
    }
   ],
   "source": [
    "print(\"Here are the restaurants reviewed\")\n",
    "df_recommender.loc[df_recommender[\"user_id\"] == sample_user, [\"name\", \"categories\", \"stars\"]]"
   ]
  },
  {
   "cell_type": "code",
   "execution_count": 28,
   "metadata": {},
   "outputs": [
    {
     "name": "stdout",
     "output_type": "stream",
     "text": [
      "Here are the recommended restaurants!\n"
     ]
    },
    {
     "data": {
      "text/html": [
       "<div>\n",
       "<style scoped>\n",
       "    .dataframe tbody tr th:only-of-type {\n",
       "        vertical-align: middle;\n",
       "    }\n",
       "\n",
       "    .dataframe tbody tr th {\n",
       "        vertical-align: top;\n",
       "    }\n",
       "\n",
       "    .dataframe thead th {\n",
       "        text-align: right;\n",
       "    }\n",
       "</style>\n",
       "<table border=\"1\" class=\"dataframe\">\n",
       "  <thead>\n",
       "    <tr style=\"text-align: right;\">\n",
       "      <th></th>\n",
       "      <th>name</th>\n",
       "      <th>categories</th>\n",
       "      <th>attributes</th>\n",
       "    </tr>\n",
       "    <tr>\n",
       "      <th>business_id</th>\n",
       "      <th></th>\n",
       "      <th></th>\n",
       "      <th></th>\n",
       "    </tr>\n",
       "  </thead>\n",
       "  <tbody>\n",
       "    <tr>\n",
       "      <th>cAs1-wyAjvfsK1Vgo1jCWA</th>\n",
       "      <td>Kkulmat Korean Kitchen</td>\n",
       "      <td>Restaurants, Noodles, Korean, Soup</td>\n",
       "      <td>{'Alcohol': 'none', 'Ambience': \"{'romantic': ...</td>\n",
       "    </tr>\n",
       "    <tr>\n",
       "      <th>V78f9CdEVTkKFkyhdTYVrQ</th>\n",
       "      <td>IHOP</td>\n",
       "      <td>Restaurants, American (Traditional), Burgers, ...</td>\n",
       "      <td>{'Alcohol': 'none', 'Ambience': \"{'romantic': ...</td>\n",
       "    </tr>\n",
       "    <tr>\n",
       "      <th>k1PkpDm5d5pYJI1K_3UYpw</th>\n",
       "      <td>Nathan's Famous</td>\n",
       "      <td>Restaurants, Hot Dogs</td>\n",
       "      <td>{'Alcohol': 'none', 'Ambience': \"{'romantic': ...</td>\n",
       "    </tr>\n",
       "    <tr>\n",
       "      <th>WexIGFr-I6eH4loUY6DILw</th>\n",
       "      <td>The Locker Room</td>\n",
       "      <td>Restaurants, Nightlife, Event Planning &amp; Servi...</td>\n",
       "      <td>{'Alcohol': 'full_bar', 'Ambience': \"{'romanti...</td>\n",
       "    </tr>\n",
       "    <tr>\n",
       "      <th>L1-1P3acJc4gEFvWwjXcNQ</th>\n",
       "      <td>Meráki Greek Grill</td>\n",
       "      <td>Restaurants, Greek, Mediterranean</td>\n",
       "      <td>{'Alcohol': 'beer_and_wine', 'Ambience': \"{'ro...</td>\n",
       "    </tr>\n",
       "    <tr>\n",
       "      <th>D7GNmDVby1wAq1XZNmeQZw</th>\n",
       "      <td>Apache Grill</td>\n",
       "      <td>Restaurants, Belgian, Wraps, Mediterranean, Fa...</td>\n",
       "      <td>{'Alcohol': 'none', 'Ambience': \"{'romantic': ...</td>\n",
       "    </tr>\n",
       "    <tr>\n",
       "      <th>rN3gHTjqx5sOnoUpJ-6jyg</th>\n",
       "      <td>Edge Steakhouse</td>\n",
       "      <td>Restaurants, Steakhouses</td>\n",
       "      <td>{'Alcohol': 'full_bar', 'Ambience': \"{'romanti...</td>\n",
       "    </tr>\n",
       "    <tr>\n",
       "      <th>7sGcBZwkD4yFLiBLS1WKgA</th>\n",
       "      <td>Presto Cafe</td>\n",
       "      <td>Restaurants, Sandwiches, American (New), Salad</td>\n",
       "      <td>{'Alcohol': 'none', 'Ambience': \"{'romantic': ...</td>\n",
       "    </tr>\n",
       "    <tr>\n",
       "      <th>HY1qcwlWLkH2_4dIWjCmQQ</th>\n",
       "      <td>D E Thai Kitchen</td>\n",
       "      <td>Restaurants, Vegan, Seafood, Thai, Noodles, Soup</td>\n",
       "      <td>{'Alcohol': 'none', 'Ambience': \"{'romantic': ...</td>\n",
       "    </tr>\n",
       "    <tr>\n",
       "      <th>xAhB_i6-799TakpGqVplWw</th>\n",
       "      <td>Boqueria Street</td>\n",
       "      <td>Restaurants, Spanish, Food, Food Trucks, Sandw...</td>\n",
       "      <td>{'Alcohol': 'none', 'Ambience': \"{'romantic': ...</td>\n",
       "    </tr>\n",
       "  </tbody>\n",
       "</table>\n",
       "</div>"
      ],
      "text/plain": [
       "                                          name  \\\n",
       "business_id                                      \n",
       "cAs1-wyAjvfsK1Vgo1jCWA  Kkulmat Korean Kitchen   \n",
       "V78f9CdEVTkKFkyhdTYVrQ                    IHOP   \n",
       "k1PkpDm5d5pYJI1K_3UYpw         Nathan's Famous   \n",
       "WexIGFr-I6eH4loUY6DILw         The Locker Room   \n",
       "L1-1P3acJc4gEFvWwjXcNQ      Meráki Greek Grill   \n",
       "D7GNmDVby1wAq1XZNmeQZw            Apache Grill   \n",
       "rN3gHTjqx5sOnoUpJ-6jyg         Edge Steakhouse   \n",
       "7sGcBZwkD4yFLiBLS1WKgA             Presto Cafe   \n",
       "HY1qcwlWLkH2_4dIWjCmQQ        D E Thai Kitchen   \n",
       "xAhB_i6-799TakpGqVplWw         Boqueria Street   \n",
       "\n",
       "                                                               categories  \\\n",
       "business_id                                                                 \n",
       "cAs1-wyAjvfsK1Vgo1jCWA                 Restaurants, Noodles, Korean, Soup   \n",
       "V78f9CdEVTkKFkyhdTYVrQ  Restaurants, American (Traditional), Burgers, ...   \n",
       "k1PkpDm5d5pYJI1K_3UYpw                              Restaurants, Hot Dogs   \n",
       "WexIGFr-I6eH4loUY6DILw  Restaurants, Nightlife, Event Planning & Servi...   \n",
       "L1-1P3acJc4gEFvWwjXcNQ                  Restaurants, Greek, Mediterranean   \n",
       "D7GNmDVby1wAq1XZNmeQZw  Restaurants, Belgian, Wraps, Mediterranean, Fa...   \n",
       "rN3gHTjqx5sOnoUpJ-6jyg                           Restaurants, Steakhouses   \n",
       "7sGcBZwkD4yFLiBLS1WKgA     Restaurants, Sandwiches, American (New), Salad   \n",
       "HY1qcwlWLkH2_4dIWjCmQQ   Restaurants, Vegan, Seafood, Thai, Noodles, Soup   \n",
       "xAhB_i6-799TakpGqVplWw  Restaurants, Spanish, Food, Food Trucks, Sandw...   \n",
       "\n",
       "                                                               attributes  \n",
       "business_id                                                                \n",
       "cAs1-wyAjvfsK1Vgo1jCWA  {'Alcohol': 'none', 'Ambience': \"{'romantic': ...  \n",
       "V78f9CdEVTkKFkyhdTYVrQ  {'Alcohol': 'none', 'Ambience': \"{'romantic': ...  \n",
       "k1PkpDm5d5pYJI1K_3UYpw  {'Alcohol': 'none', 'Ambience': \"{'romantic': ...  \n",
       "WexIGFr-I6eH4loUY6DILw  {'Alcohol': 'full_bar', 'Ambience': \"{'romanti...  \n",
       "L1-1P3acJc4gEFvWwjXcNQ  {'Alcohol': 'beer_and_wine', 'Ambience': \"{'ro...  \n",
       "D7GNmDVby1wAq1XZNmeQZw  {'Alcohol': 'none', 'Ambience': \"{'romantic': ...  \n",
       "rN3gHTjqx5sOnoUpJ-6jyg  {'Alcohol': 'full_bar', 'Ambience': \"{'romanti...  \n",
       "7sGcBZwkD4yFLiBLS1WKgA  {'Alcohol': 'none', 'Ambience': \"{'romantic': ...  \n",
       "HY1qcwlWLkH2_4dIWjCmQQ  {'Alcohol': 'none', 'Ambience': \"{'romantic': ...  \n",
       "xAhB_i6-799TakpGqVplWw  {'Alcohol': 'none', 'Ambience': \"{'romantic': ...  "
      ]
     },
     "execution_count": 28,
     "metadata": {},
     "output_type": "execute_result"
    }
   ],
   "source": [
    "'''\n",
    "    At least the recommendations make some sense:\n",
    "    - sample_user has rated 3 pizza/fast food restaurants highly, and hot dogs/burgers are present\n",
    "      in the recommended top 10\n",
    "      \n",
    "    - sample_user at least is willing to try East Asian cuisine (two Japanese restaurants rated);\n",
    "      a Korean restaurant is the top recommendation\n",
    "'''\n",
    "\n",
    "print(\"Here are the recommended restaurants!\")\n",
    "recommended_bid = [pred.iid for pred in single_user_preds]\n",
    "business_info.loc[ recommended_bid , [\"name\", \"categories\", \"attributes\"]]"
   ]
  }
 ],
 "metadata": {
  "anaconda-cloud": {},
  "kernelspec": {
   "display_name": "Python 3",
   "language": "python",
   "name": "python3"
  },
  "language_info": {
   "codemirror_mode": {
    "name": "ipython",
    "version": 3
   },
   "file_extension": ".py",
   "mimetype": "text/x-python",
   "name": "python",
   "nbconvert_exporter": "python",
   "pygments_lexer": "ipython3",
   "version": "3.7.2"
  }
 },
 "nbformat": 4,
 "nbformat_minor": 2
}
